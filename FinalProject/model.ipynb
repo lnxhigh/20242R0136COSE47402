{
 "cells": [
  {
   "cell_type": "code",
   "execution_count": null,
   "metadata": {
    "id": "nVj-2S-Hn3rh"
   },
   "outputs": [],
   "source": [
    "import torch\n",
    "import torch.nn as nn\n",
    "import torch.nn.functional as F\n",
    "from torchvision.models.resnet import BasicBlock, Bottleneck\n",
    "from transformers import SamModel, SamProcessor"
   ]
  },
  {
   "cell_type": "code",
   "execution_count": null,
   "metadata": {
    "id": "x1Dv4tMIFeWY"
   },
   "outputs": [],
   "source": [
    "class Processor:\n",
    "    def __init__(self):\n",
    "        self.processor = SamProcessor.from_pretrained(\"Zigeng/SlimSAM-uniform-77\")\n",
    "\n",
    "    def preprocess(self, image):\n",
    "        inputs = self.processor(image, return_tensors=\"pt\")\n",
    "        return inputs\n",
    "\n",
    "    def postprocess(self, inputs, outputs):\n",
    "        h, w = inputs['original_sizes'][0]\n",
    "\n",
    "        resized = F.interpolate(\n",
    "            outputs, size=(h, w),\n",
    "            mode=\"bilinear\", align_corners=True\n",
    "        )\n",
    "\n",
    "        resized = resized.squeeze(1)\n",
    "        resized *= 255\n",
    "        return resized\n"
   ]
  },
  {
   "cell_type": "code",
   "execution_count": null,
   "metadata": {
    "id": "vaQel4nCjIsG"
   },
   "outputs": [],
   "source": [
    "class Network(nn.Module):\n",
    "    def __init__(self):\n",
    "        super(Network, self).__init__()\n",
    "        self.sam = SamModel.from_pretrained(\"Zigeng/SlimSAM-uniform-77\")\n",
    "        self.encoder = self.image_encoder\n",
    "        self.decoder = self.initialize_decoder()\n",
    "\n",
    "        # Freeze SAM encoder\n",
    "        for param in self.sam.parameters():\n",
    "            param.requires_grad = False\n",
    "\n",
    "    def image_encoder(self, inputs):\n",
    "        # Extract image embeddings using SAM\n",
    "        # 256 x 64 x 64\n",
    "        return self.sam.get_image_embeddings(inputs[\"pixel_values\"])\n",
    "\n",
    "    def initialize_decoder(self, use_bottleneck=False):\n",
    "        # Choose block type: BasicBlock or Bottleneck\n",
    "        Block = Bottleneck if use_bottleneck else BasicBlock\n",
    "\n",
    "        upscale = nn.Sequential(\n",
    "            # Upsample 256 x 64 x 64 -> 128 x 128 x 128\n",
    "            nn.ConvTranspose2d(256, 128, kernel_size=(2, 2), stride=(2, 2)),\n",
    "            nn.ReLU(),\n",
    "            Block(inplanes=128, planes=128),  # Residual Block\n",
    "\n",
    "            # Upsample 128 x 128 x 128 -> 64 x 256 x 256\n",
    "            nn.ConvTranspose2d(128, 64, kernel_size=(2, 2), stride=(2, 2)),\n",
    "            nn.ReLU(),\n",
    "            Block(inplanes=64, planes=64),  # Residual Block\n",
    "\n",
    "            # Reduce channels 64 x 256 x 256 -> 32 x 256 x 256\n",
    "            nn.Conv2d(64, 32, kernel_size=3, padding=1),\n",
    "            nn.ReLU(),\n",
    "            Block(inplanes=32, planes=32),  # Residual Block\n",
    "\n",
    "            # Final output 32 x 256 x 256 -> 1 x 256 x 256\n",
    "            nn.Conv2d(32, 1, kernel_size=3, padding=1),\n",
    "            nn.Sigmoid()\n",
    "        )\n",
    "\n",
    "        return upscale\n",
    "\n",
    "    def forward(self, inputs):\n",
    "        embeddings = self.encoder(inputs)\n",
    "        depth = self.decoder(embeddings)\n",
    "        return depth\n"
   ]
  },
  {
   "cell_type": "markdown",
   "metadata": {
    "id": "gwnlC7EgKsU0"
   },
   "source": [
    "# Example"
   ]
  },
  {
   "cell_type": "code",
   "execution_count": null,
   "metadata": {
    "colab": {
     "base_uri": "https://localhost:8080/",
     "height": 49,
     "referenced_widgets": [
      "cda67da954ce496ba469803609456f76",
      "36da6e38b93d4924ba84d71306923048",
      "9db8636f930244cdaf23b0bb4bc22ef8",
      "6024999f4c214517b20a0cc4fc7b9076",
      "e6782301d6a44677be0de2d52d743ccf",
      "0b563a4e16184f72841216d2a96531f4",
      "d52fd8b8dfc143d79714dd9e0ca84b8a",
      "e893165f2b9d4509a7a450956c052088",
      "6f52ec4b6b5f413fb7702394e5091840",
      "5a563412b2bb42a290d471f7be780eab",
      "9e082d14e671446584e4e0b06d5afd8b"
     ]
    },
    "id": "B9dJXWOIqwbq",
    "outputId": "6d1062d7-fec5-45b7-e789-85dd1daf0f69"
   },
   "outputs": [
    {
     "data": {
      "application/vnd.jupyter.widget-view+json": {
       "model_id": "cda67da954ce496ba469803609456f76",
       "version_major": 2,
       "version_minor": 0
      },
      "text/plain": [
       "preprocessor_config.json:   0%|          | 0.00/466 [00:00<?, ?B/s]"
      ]
     },
     "metadata": {},
     "output_type": "display_data"
    }
   ],
   "source": [
    "device = \"cuda\" if torch.cuda.is_available() else \"cpu\"\n",
    "model = Network().to(device)\n",
    "processor = Processor()"
   ]
  },
  {
   "cell_type": "code",
   "execution_count": null,
   "metadata": {
    "id": "lM7ardIWBPCx"
   },
   "outputs": [],
   "source": [
    "from google.colab import drive\n",
    "drive.mount('/content/drive')\n",
    "\n",
    "# Dataset\n",
    "# https://www.kaggle.com/datasets/soumikrakshit/nyu-depth-v2\n",
    "\n",
    "# Dataset and DataLoader Reference\n",
    "# https://www.kaggle.com/code/shreydan/monocular-depth-estimation-nyuv2"
   ]
  }
 ],
 "metadata": {
  "colab": {
   "provenance": [],
   "toc_visible": true
  },
  "kernelspec": {
   "display_name": "Python 3",
   "name": "python3"
  },
  "language_info": {
   "name": "python"
  },
  "widgets": {
   "application/vnd.jupyter.widget-state+json": {
    "0b563a4e16184f72841216d2a96531f4": {
     "model_module": "@jupyter-widgets/base",
     "model_module_version": "1.2.0",
     "model_name": "LayoutModel",
     "state": {
      "_model_module": "@jupyter-widgets/base",
      "_model_module_version": "1.2.0",
      "_model_name": "LayoutModel",
      "_view_count": null,
      "_view_module": "@jupyter-widgets/base",
      "_view_module_version": "1.2.0",
      "_view_name": "LayoutView",
      "align_content": null,
      "align_items": null,
      "align_self": null,
      "border": null,
      "bottom": null,
      "display": null,
      "flex": null,
      "flex_flow": null,
      "grid_area": null,
      "grid_auto_columns": null,
      "grid_auto_flow": null,
      "grid_auto_rows": null,
      "grid_column": null,
      "grid_gap": null,
      "grid_row": null,
      "grid_template_areas": null,
      "grid_template_columns": null,
      "grid_template_rows": null,
      "height": null,
      "justify_content": null,
      "justify_items": null,
      "left": null,
      "margin": null,
      "max_height": null,
      "max_width": null,
      "min_height": null,
      "min_width": null,
      "object_fit": null,
      "object_position": null,
      "order": null,
      "overflow": null,
      "overflow_x": null,
      "overflow_y": null,
      "padding": null,
      "right": null,
      "top": null,
      "visibility": null,
      "width": null
     }
    },
    "36da6e38b93d4924ba84d71306923048": {
     "model_module": "@jupyter-widgets/controls",
     "model_module_version": "1.5.0",
     "model_name": "HTMLModel",
     "state": {
      "_dom_classes": [],
      "_model_module": "@jupyter-widgets/controls",
      "_model_module_version": "1.5.0",
      "_model_name": "HTMLModel",
      "_view_count": null,
      "_view_module": "@jupyter-widgets/controls",
      "_view_module_version": "1.5.0",
      "_view_name": "HTMLView",
      "description": "",
      "description_tooltip": null,
      "layout": "IPY_MODEL_0b563a4e16184f72841216d2a96531f4",
      "placeholder": "​",
      "style": "IPY_MODEL_d52fd8b8dfc143d79714dd9e0ca84b8a",
      "value": "preprocessor_config.json: 100%"
     }
    },
    "5a563412b2bb42a290d471f7be780eab": {
     "model_module": "@jupyter-widgets/base",
     "model_module_version": "1.2.0",
     "model_name": "LayoutModel",
     "state": {
      "_model_module": "@jupyter-widgets/base",
      "_model_module_version": "1.2.0",
      "_model_name": "LayoutModel",
      "_view_count": null,
      "_view_module": "@jupyter-widgets/base",
      "_view_module_version": "1.2.0",
      "_view_name": "LayoutView",
      "align_content": null,
      "align_items": null,
      "align_self": null,
      "border": null,
      "bottom": null,
      "display": null,
      "flex": null,
      "flex_flow": null,
      "grid_area": null,
      "grid_auto_columns": null,
      "grid_auto_flow": null,
      "grid_auto_rows": null,
      "grid_column": null,
      "grid_gap": null,
      "grid_row": null,
      "grid_template_areas": null,
      "grid_template_columns": null,
      "grid_template_rows": null,
      "height": null,
      "justify_content": null,
      "justify_items": null,
      "left": null,
      "margin": null,
      "max_height": null,
      "max_width": null,
      "min_height": null,
      "min_width": null,
      "object_fit": null,
      "object_position": null,
      "order": null,
      "overflow": null,
      "overflow_x": null,
      "overflow_y": null,
      "padding": null,
      "right": null,
      "top": null,
      "visibility": null,
      "width": null
     }
    },
    "6024999f4c214517b20a0cc4fc7b9076": {
     "model_module": "@jupyter-widgets/controls",
     "model_module_version": "1.5.0",
     "model_name": "HTMLModel",
     "state": {
      "_dom_classes": [],
      "_model_module": "@jupyter-widgets/controls",
      "_model_module_version": "1.5.0",
      "_model_name": "HTMLModel",
      "_view_count": null,
      "_view_module": "@jupyter-widgets/controls",
      "_view_module_version": "1.5.0",
      "_view_name": "HTMLView",
      "description": "",
      "description_tooltip": null,
      "layout": "IPY_MODEL_5a563412b2bb42a290d471f7be780eab",
      "placeholder": "​",
      "style": "IPY_MODEL_9e082d14e671446584e4e0b06d5afd8b",
      "value": " 466/466 [00:00&lt;00:00, 13.0kB/s]"
     }
    },
    "6f52ec4b6b5f413fb7702394e5091840": {
     "model_module": "@jupyter-widgets/controls",
     "model_module_version": "1.5.0",
     "model_name": "ProgressStyleModel",
     "state": {
      "_model_module": "@jupyter-widgets/controls",
      "_model_module_version": "1.5.0",
      "_model_name": "ProgressStyleModel",
      "_view_count": null,
      "_view_module": "@jupyter-widgets/base",
      "_view_module_version": "1.2.0",
      "_view_name": "StyleView",
      "bar_color": null,
      "description_width": ""
     }
    },
    "9db8636f930244cdaf23b0bb4bc22ef8": {
     "model_module": "@jupyter-widgets/controls",
     "model_module_version": "1.5.0",
     "model_name": "FloatProgressModel",
     "state": {
      "_dom_classes": [],
      "_model_module": "@jupyter-widgets/controls",
      "_model_module_version": "1.5.0",
      "_model_name": "FloatProgressModel",
      "_view_count": null,
      "_view_module": "@jupyter-widgets/controls",
      "_view_module_version": "1.5.0",
      "_view_name": "ProgressView",
      "bar_style": "success",
      "description": "",
      "description_tooltip": null,
      "layout": "IPY_MODEL_e893165f2b9d4509a7a450956c052088",
      "max": 466,
      "min": 0,
      "orientation": "horizontal",
      "style": "IPY_MODEL_6f52ec4b6b5f413fb7702394e5091840",
      "value": 466
     }
    },
    "9e082d14e671446584e4e0b06d5afd8b": {
     "model_module": "@jupyter-widgets/controls",
     "model_module_version": "1.5.0",
     "model_name": "DescriptionStyleModel",
     "state": {
      "_model_module": "@jupyter-widgets/controls",
      "_model_module_version": "1.5.0",
      "_model_name": "DescriptionStyleModel",
      "_view_count": null,
      "_view_module": "@jupyter-widgets/base",
      "_view_module_version": "1.2.0",
      "_view_name": "StyleView",
      "description_width": ""
     }
    },
    "cda67da954ce496ba469803609456f76": {
     "model_module": "@jupyter-widgets/controls",
     "model_module_version": "1.5.0",
     "model_name": "HBoxModel",
     "state": {
      "_dom_classes": [],
      "_model_module": "@jupyter-widgets/controls",
      "_model_module_version": "1.5.0",
      "_model_name": "HBoxModel",
      "_view_count": null,
      "_view_module": "@jupyter-widgets/controls",
      "_view_module_version": "1.5.0",
      "_view_name": "HBoxView",
      "box_style": "",
      "children": [
       "IPY_MODEL_36da6e38b93d4924ba84d71306923048",
       "IPY_MODEL_9db8636f930244cdaf23b0bb4bc22ef8",
       "IPY_MODEL_6024999f4c214517b20a0cc4fc7b9076"
      ],
      "layout": "IPY_MODEL_e6782301d6a44677be0de2d52d743ccf"
     }
    },
    "d52fd8b8dfc143d79714dd9e0ca84b8a": {
     "model_module": "@jupyter-widgets/controls",
     "model_module_version": "1.5.0",
     "model_name": "DescriptionStyleModel",
     "state": {
      "_model_module": "@jupyter-widgets/controls",
      "_model_module_version": "1.5.0",
      "_model_name": "DescriptionStyleModel",
      "_view_count": null,
      "_view_module": "@jupyter-widgets/base",
      "_view_module_version": "1.2.0",
      "_view_name": "StyleView",
      "description_width": ""
     }
    },
    "e6782301d6a44677be0de2d52d743ccf": {
     "model_module": "@jupyter-widgets/base",
     "model_module_version": "1.2.0",
     "model_name": "LayoutModel",
     "state": {
      "_model_module": "@jupyter-widgets/base",
      "_model_module_version": "1.2.0",
      "_model_name": "LayoutModel",
      "_view_count": null,
      "_view_module": "@jupyter-widgets/base",
      "_view_module_version": "1.2.0",
      "_view_name": "LayoutView",
      "align_content": null,
      "align_items": null,
      "align_self": null,
      "border": null,
      "bottom": null,
      "display": null,
      "flex": null,
      "flex_flow": null,
      "grid_area": null,
      "grid_auto_columns": null,
      "grid_auto_flow": null,
      "grid_auto_rows": null,
      "grid_column": null,
      "grid_gap": null,
      "grid_row": null,
      "grid_template_areas": null,
      "grid_template_columns": null,
      "grid_template_rows": null,
      "height": null,
      "justify_content": null,
      "justify_items": null,
      "left": null,
      "margin": null,
      "max_height": null,
      "max_width": null,
      "min_height": null,
      "min_width": null,
      "object_fit": null,
      "object_position": null,
      "order": null,
      "overflow": null,
      "overflow_x": null,
      "overflow_y": null,
      "padding": null,
      "right": null,
      "top": null,
      "visibility": null,
      "width": null
     }
    },
    "e893165f2b9d4509a7a450956c052088": {
     "model_module": "@jupyter-widgets/base",
     "model_module_version": "1.2.0",
     "model_name": "LayoutModel",
     "state": {
      "_model_module": "@jupyter-widgets/base",
      "_model_module_version": "1.2.0",
      "_model_name": "LayoutModel",
      "_view_count": null,
      "_view_module": "@jupyter-widgets/base",
      "_view_module_version": "1.2.0",
      "_view_name": "LayoutView",
      "align_content": null,
      "align_items": null,
      "align_self": null,
      "border": null,
      "bottom": null,
      "display": null,
      "flex": null,
      "flex_flow": null,
      "grid_area": null,
      "grid_auto_columns": null,
      "grid_auto_flow": null,
      "grid_auto_rows": null,
      "grid_column": null,
      "grid_gap": null,
      "grid_row": null,
      "grid_template_areas": null,
      "grid_template_columns": null,
      "grid_template_rows": null,
      "height": null,
      "justify_content": null,
      "justify_items": null,
      "left": null,
      "margin": null,
      "max_height": null,
      "max_width": null,
      "min_height": null,
      "min_width": null,
      "object_fit": null,
      "object_position": null,
      "order": null,
      "overflow": null,
      "overflow_x": null,
      "overflow_y": null,
      "padding": null,
      "right": null,
      "top": null,
      "visibility": null,
      "width": null
     }
    }
   }
  }
 },
 "nbformat": 4,
 "nbformat_minor": 0
}
