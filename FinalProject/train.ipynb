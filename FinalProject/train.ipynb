{
 "cells": [
  {
   "cell_type": "code",
   "execution_count": null,
   "metadata": {
    "vscode": {
     "languageId": "plaintext"
    }
   },
   "outputs": [],
   "source": [
    "import torch\n",
    "import torch.nn as nn\n",
    "import torch.optim as optim\n",
    "from tqdm import tqdm\n",
    "import matplotlib.pyplot as plt"
   ]
  },
  {
   "cell_type": "code",
   "execution_count": null,
   "metadata": {
    "vscode": {
     "languageId": "plaintext"
    }
   },
   "outputs": [],
   "source": [
    "class Trainer:\n",
    "    def __init__(self, model, processor, data_loaders, criterion, optimizer, device=None):\n",
    "        \"\"\"\n",
    "        Initialize the DepthEstimationTrainer.\n",
    "\n",
    "        Args:\n",
    "            model: PyTorch model to train.\n",
    "            processor: Processor for data preprocessing and postprocessing.\n",
    "            data_loaders: Tuple of DataLoaders for training, validation, and testing.\n",
    "            criterion: Loss function for training and evaluation.\n",
    "            optimizer: Optimizer for the model.\n",
    "            device: Device for computation (default: auto-detect).\n",
    "        \"\"\"\n",
    "\n",
    "        self.device = device or torch.device(\"cuda\" if torch.cuda.is_available() else \"cpu\")\n",
    "        self.model = model.to(self.device)\n",
    "        self.processor = processor\n",
    "        self.train_dl, self.val_dl, self.test_dl = data_loaders\n",
    "        self.criterion = criterion\n",
    "        self.optimizer = optimizer\n",
    "\n",
    "        self.train_losses = []\n",
    "        self.val_losses = []\n",
    "\n",
    "    def train_one_epoch(self):\n",
    "        \"\"\"Train the model for one epoch.\"\"\"\n",
    "        self.model.train()\n",
    "        running_loss = 0.0\n",
    "\n",
    "        for batch in tqdm(self.train_dl, desc=\"Training\"):\n",
    "            imgs, depths = batch\n",
    "            depths = depths.to(self.device)\n",
    "\n",
    "            self.optimizer.zero_grad()\n",
    "\n",
    "            inputs = self.processor.preprocess(imgs).to(self.device)\n",
    "            outputs = self.model(inputs)\n",
    "            preds = self.processor.postprocess(inputs, outputs)\n",
    "\n",
    "            loss = self.criterion(preds, depths)\n",
    "            loss.backward()\n",
    "            self.optimizer.step()\n",
    "\n",
    "            running_loss += loss.item()\n",
    "\n",
    "        return running_loss / len(self.train_dl)\n",
    "\n",
    "    def evaluate(self, dataloader):\n",
    "        \"\"\"Evaluate the model.\"\"\"\n",
    "        self.model.eval()\n",
    "        val_loss = 0.0\n",
    "\n",
    "        with torch.no_grad():\n",
    "            for batch in dataloader:\n",
    "                imgs, depths = batch\n",
    "                depths = depths.to(self.device)\n",
    "\n",
    "                inputs = self.processor.preprocess(imgs).to(self.device)\n",
    "                outputs = self.model(inputs)\n",
    "                preds = self.processor.postprocess(inputs, outputs)\n",
    "\n",
    "                loss = self.criterion(preds, depths)\n",
    "                val_loss += loss.item()\n",
    "\n",
    "        return val_loss / len(dataloader)\n",
    "\n",
    "    def abs_rel_difference(self, preds, depths):\n",
    "        \"\"\"Calculate Absolute Relative Difference (AbsRel).\"\"\"\n",
    "        abs_rel = torch.mean(torch.abs(preds - depths) / depths)\n",
    "        return abs_rel.item()\n",
    "\n",
    "    def train(self, epochs):\n",
    "        \"\"\"Train the model for multiple epochs.\"\"\"\n",
    "        plt.ion()\n",
    "        self.figure, self.ax = plt.subplots(figsize=(10, 6))\n",
    "\n",
    "        for epoch in range(epochs):\n",
    "            train_loss = self.train_one_epoch()\n",
    "            val_loss = self.evaluate(self.val_dl)\n",
    "\n",
    "            self.train_losses.append(train_loss)\n",
    "            self.val_losses.append(val_loss)\n",
    "\n",
    "            self.train_losses.append(train_loss)\n",
    "            self.val_losses.append(val_loss)\n",
    "            self.update_learning_curve(epoch)\n",
    "\n",
    "            print(f\"Epoch {epoch+1}/{epochs}, Train Loss: {train_loss:.4f}, Val Loss: {val_loss:.4f}\")\n",
    "\n",
    "    def test(self):\n",
    "        \"\"\"Test the model on the test set.\"\"\"\n",
    "        self.model.eval()\n",
    "        total = 0.0\n",
    "\n",
    "        with torch.no_grad():\n",
    "            for batch in self.test_dl:\n",
    "                imgs, depths = batch\n",
    "                depths = depths.to(self.device)\n",
    "\n",
    "                inputs = self.processor.preprocess(imgs).to(self.device)\n",
    "                outputs = self.model(inputs)\n",
    "                preds = self.processor.postprocess(inputs, outputs)\n",
    "                total += self.abs_rel_difference(preds, depths)\n",
    "\n",
    "        print(f\"Test AbsRel: {total / len(self.test_dl):.4f}\")\n",
    "\n",
    "    def plot_learning_curve(self):\n",
    "        \"\"\"Final plot of the learning curve.\"\"\"\n",
    "        plt.ioff()\n",
    "        plt.figure(figsize=(10, 6))\n",
    "        plt.plot(self.train_losses, label='Train Loss')\n",
    "        plt.plot(self.val_losses, label='Validation Loss')\n",
    "        plt.xlabel('Epochs')\n",
    "        plt.ylabel('Loss')\n",
    "        plt.title('Learning Curve')\n",
    "        plt.legend()\n",
    "        plt.grid(True)\n",
    "        plt.show()\n",
    "\n",
    "    def update_learning_curve(self, epoch):\n",
    "        \"\"\"Update the learning curve in real-time.\"\"\"\n",
    "        self.ax.clear()\n",
    "        self.ax.plot(self.train_losses, label='Train Loss')\n",
    "        self.ax.plot(self.val_losses, label='Validation Loss')\n",
    "        self.ax.set_xlabel('Epochs')\n",
    "        self.ax.set_ylabel('Loss')\n",
    "        self.ax.set_title(f'Learning Curve (Epoch {epoch + 1})')\n",
    "        self.ax.legend()\n",
    "        self.ax.grid(True)\n",
    "        plt.pause(0.1)\n",
    "\n",
    "    def visualize(self, num_samples=3):\n",
    "        \"\"\"Visualize predictions on the test set.\"\"\"\n",
    "        self.model.eval()\n",
    "        return\n"
   ]
  },
  {
   "cell_type": "code",
   "execution_count": null,
   "metadata": {
    "vscode": {
     "languageId": "plaintext"
    }
   },
   "outputs": [],
   "source": [
    "criterion = nn.MSELoss()\n",
    "\n",
    "learning_rate = 1e-3\n",
    "optimizer = optim.Adam(model.parameters(), lr=learning_rate)\n",
    "\n",
    "epochs = 10"
   ]
  },
  {
   "cell_type": "code",
   "execution_count": null,
   "metadata": {
    "vscode": {
     "languageId": "plaintext"
    }
   },
   "outputs": [],
   "source": [
    "trainer = Trainer(model, processor, (train_dl, val_dl, test_dl), criterion, optimizer)\n",
    "trainer.train(epochs)"
   ]
  }
 ],
 "metadata": {
  "language_info": {
   "name": "python"
  }
 },
 "nbformat": 4,
 "nbformat_minor": 2
}
