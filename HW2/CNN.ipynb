{
  "nbformat": 4,
  "nbformat_minor": 0,
  "metadata": {
    "colab": {
      "provenance": [],
      "toc_visible": true,
      "gpuType": "T4"
    },
    "kernelspec": {
      "name": "python3",
      "display_name": "Python 3"
    },
    "language_info": {
      "name": "python"
    },
    "accelerator": "GPU"
  },
  "cells": [
    {
      "cell_type": "markdown",
      "source": [
        "# COSE474-2024F : Deep Learning HW2"
      ],
      "metadata": {
        "id": "W8LehQm85BUl"
      }
    },
    {
      "cell_type": "markdown",
      "source": [
        "**Name**: Song Sanghwa. **Department**: Statistics. **Student ID**: 2019150470\n"
      ],
      "metadata": {
        "id": "ej6ZBDyY5F_V"
      }
    },
    {
      "cell_type": "code",
      "source": [
        "!pip install d2l==1.0.3"
      ],
      "metadata": {
        "id": "mlOsInHuFMa3"
      },
      "execution_count": null,
      "outputs": []
    },
    {
      "cell_type": "markdown",
      "source": [
        "# 7. Convolutional Neural Networks"
      ],
      "metadata": {
        "id": "NAl9_Ovq5MGd"
      }
    },
    {
      "cell_type": "markdown",
      "source": [
        "## 7.1. From Fully Connected Layers to Convolutions"
      ],
      "metadata": {
        "id": "5uGHR6kv5dJ1"
      }
    },
    {
      "cell_type": "markdown",
      "source": [
        "## 7.2. Convolutions for Images"
      ],
      "metadata": {
        "id": "bmsfXcAP5kG7"
      }
    },
    {
      "cell_type": "code",
      "source": [
        "import torch\n",
        "from torch import nn\n",
        "from d2l import torch as d2l"
      ],
      "metadata": {
        "id": "KuX1XhFh5x5t"
      },
      "execution_count": null,
      "outputs": []
    },
    {
      "cell_type": "markdown",
      "source": [
        "### 7.2.1. The Cross-Correlation Operation"
      ],
      "metadata": {
        "id": "zIkriqaR512V"
      }
    },
    {
      "cell_type": "code",
      "source": [
        "def corr2d(X, K):\n",
        "    \"\"\"Compute 2D cross-correlation.\"\"\"\n",
        "    h, w = K.shape\n",
        "    Y = torch.zeros((X.shape[0] - h + 1, X.shape[1] - w + 1))\n",
        "    for i in range(Y.shape[0]):\n",
        "        for j in range(Y.shape[1]):\n",
        "            Y[i, j] = (X[i:i + h, j:j + w] * K).sum()\n",
        "    return Y"
      ],
      "metadata": {
        "id": "DRoMPgv45hxh"
      },
      "execution_count": null,
      "outputs": []
    },
    {
      "cell_type": "code",
      "source": [
        "X = torch.tensor([[0.0, 1.0, 2.0], [3.0, 4.0, 5.0], [6.0, 7.0, 8.0]])\n",
        "K = torch.tensor([[0.0, 1.0], [2.0, 3.0]])\n",
        "corr2d(X, K)"
      ],
      "metadata": {
        "colab": {
          "base_uri": "https://localhost:8080/"
        },
        "id": "fV2z4cIJ5_kI",
        "outputId": "ff66c755-2eae-494a-a6f0-19f5a81f397c"
      },
      "execution_count": null,
      "outputs": [
        {
          "output_type": "execute_result",
          "data": {
            "text/plain": [
              "tensor([[19., 25.],\n",
              "        [37., 43.]])"
            ]
          },
          "metadata": {},
          "execution_count": 3
        }
      ]
    },
    {
      "cell_type": "markdown",
      "source": [
        "### 7.2.2. Convolutional Layers\n",
        "\n"
      ],
      "metadata": {
        "id": "8Xyg-k7w6M6d"
      }
    },
    {
      "cell_type": "code",
      "source": [
        "class Conv2D(nn.Module):\n",
        "    def __init__(self, kernel_size):\n",
        "        super().__init__()\n",
        "        self.weight = nn.Parameter(torch.rand(kernel_size))\n",
        "        self.bias = nn.Parameter(torch.zeros(1))\n",
        "\n",
        "    def forward(self, x):\n",
        "        return corr2d(x, self.weight) + self.bias"
      ],
      "metadata": {
        "id": "R1wotMAw6LVz"
      },
      "execution_count": null,
      "outputs": []
    },
    {
      "cell_type": "markdown",
      "source": [
        "### 7.2.3. Object Edge Detection in Images"
      ],
      "metadata": {
        "id": "ArL_N7WL65H8"
      }
    },
    {
      "cell_type": "code",
      "source": [
        "X = torch.ones((6, 8))\n",
        "X[:, 2:6] = 0\n",
        "X"
      ],
      "metadata": {
        "colab": {
          "base_uri": "https://localhost:8080/"
        },
        "id": "otEOIv7Y6oSF",
        "outputId": "91c8d6ce-f83d-4ad9-cea6-0e140a8baf71"
      },
      "execution_count": null,
      "outputs": [
        {
          "output_type": "execute_result",
          "data": {
            "text/plain": [
              "tensor([[1., 1., 0., 0., 0., 0., 1., 1.],\n",
              "        [1., 1., 0., 0., 0., 0., 1., 1.],\n",
              "        [1., 1., 0., 0., 0., 0., 1., 1.],\n",
              "        [1., 1., 0., 0., 0., 0., 1., 1.],\n",
              "        [1., 1., 0., 0., 0., 0., 1., 1.],\n",
              "        [1., 1., 0., 0., 0., 0., 1., 1.]])"
            ]
          },
          "metadata": {},
          "execution_count": 5
        }
      ]
    },
    {
      "cell_type": "code",
      "source": [
        "K = torch.tensor([[1.0, -1.0]])"
      ],
      "metadata": {
        "id": "KlfS-tjx660w"
      },
      "execution_count": null,
      "outputs": []
    },
    {
      "cell_type": "code",
      "source": [
        "Y = corr2d(X, K)\n",
        "Y"
      ],
      "metadata": {
        "colab": {
          "base_uri": "https://localhost:8080/"
        },
        "id": "ObhCYGQ57OMs",
        "outputId": "b67f6ca1-41fb-49a5-c4e9-a155cbd778c8"
      },
      "execution_count": null,
      "outputs": [
        {
          "output_type": "execute_result",
          "data": {
            "text/plain": [
              "tensor([[ 0.,  1.,  0.,  0.,  0., -1.,  0.],\n",
              "        [ 0.,  1.,  0.,  0.,  0., -1.,  0.],\n",
              "        [ 0.,  1.,  0.,  0.,  0., -1.,  0.],\n",
              "        [ 0.,  1.,  0.,  0.,  0., -1.,  0.],\n",
              "        [ 0.,  1.,  0.,  0.,  0., -1.,  0.],\n",
              "        [ 0.,  1.,  0.,  0.,  0., -1.,  0.]])"
            ]
          },
          "metadata": {},
          "execution_count": 7
        }
      ]
    },
    {
      "cell_type": "code",
      "source": [
        "corr2d(X.t(), K)"
      ],
      "metadata": {
        "colab": {
          "base_uri": "https://localhost:8080/"
        },
        "id": "Eh45V6Z17RDA",
        "outputId": "613649cc-859f-4f6f-dbad-ef350b5395e3"
      },
      "execution_count": null,
      "outputs": [
        {
          "output_type": "execute_result",
          "data": {
            "text/plain": [
              "tensor([[0., 0., 0., 0., 0.],\n",
              "        [0., 0., 0., 0., 0.],\n",
              "        [0., 0., 0., 0., 0.],\n",
              "        [0., 0., 0., 0., 0.],\n",
              "        [0., 0., 0., 0., 0.],\n",
              "        [0., 0., 0., 0., 0.],\n",
              "        [0., 0., 0., 0., 0.],\n",
              "        [0., 0., 0., 0., 0.]])"
            ]
          },
          "metadata": {},
          "execution_count": 8
        }
      ]
    },
    {
      "cell_type": "markdown",
      "source": [
        "### 7.2.4. Learning a Kernel"
      ],
      "metadata": {
        "id": "CRrKuvro7c0r"
      }
    },
    {
      "cell_type": "code",
      "source": [
        "# Construct a two-dimensional convolutional layer with 1 output channel and a\n",
        "# kernel of shape (1, 2). For the sake of simplicity, we ignore the bias here\n",
        "conv2d = nn.LazyConv2d(1, kernel_size=(1, 2), bias=False)\n",
        "\n",
        "# The two-dimensional convolutional layer uses four-dimensional input and\n",
        "# output in the format of (example, channel, height, width), where the batch\n",
        "# size (number of examples in the batch) and the number of channels are both 1\n",
        "X = X.reshape((1, 1, 6, 8))\n",
        "Y = Y.reshape((1, 1, 6, 7))\n",
        "lr = 3e-2  # Learning rate\n",
        "\n",
        "for i in range(10):\n",
        "    Y_hat = conv2d(X)\n",
        "    l = (Y_hat - Y) ** 2\n",
        "    conv2d.zero_grad()\n",
        "    l.sum().backward()\n",
        "    # Update the kernel\n",
        "    conv2d.weight.data[:] -= lr * conv2d.weight.grad\n",
        "    if (i + 1) % 2 == 0:\n",
        "        print(f'epoch {i + 1}, loss {l.sum():.3f}')"
      ],
      "metadata": {
        "colab": {
          "base_uri": "https://localhost:8080/"
        },
        "id": "MNIaI8wO7aWq",
        "outputId": "c2f46d08-9a83-4611-eac1-0bc62e81ee04"
      },
      "execution_count": null,
      "outputs": [
        {
          "output_type": "stream",
          "name": "stdout",
          "text": [
            "epoch 2, loss 7.417\n",
            "epoch 4, loss 1.273\n",
            "epoch 6, loss 0.225\n",
            "epoch 8, loss 0.042\n",
            "epoch 10, loss 0.009\n"
          ]
        }
      ]
    },
    {
      "cell_type": "code",
      "source": [
        "conv2d.weight.data.reshape((1, 2))"
      ],
      "metadata": {
        "colab": {
          "base_uri": "https://localhost:8080/"
        },
        "id": "aXKGQspK7grR",
        "outputId": "4d4e54a0-28af-433e-f3b3-02581c9b6e97"
      },
      "execution_count": null,
      "outputs": [
        {
          "output_type": "execute_result",
          "data": {
            "text/plain": [
              "tensor([[ 0.9800, -0.9919]])"
            ]
          },
          "metadata": {},
          "execution_count": 10
        }
      ]
    },
    {
      "cell_type": "markdown",
      "source": [
        "### 7.2.5. Cross-Correlation and Convolution"
      ],
      "metadata": {
        "id": "6kFnWYCw8px7"
      }
    },
    {
      "cell_type": "markdown",
      "source": [
        "### 7.2.6. Feature Map and Receptive Field"
      ],
      "metadata": {
        "id": "Im032k2Bnwe6"
      }
    },
    {
      "cell_type": "markdown",
      "source": [
        "### 7.2.7. Summary"
      ],
      "metadata": {
        "id": "8fb4ij58nwqp"
      }
    },
    {
      "cell_type": "markdown",
      "source": [
        "## 7.3 Padding and Stride"
      ],
      "metadata": {
        "id": "L_aouq36CnHg"
      }
    },
    {
      "cell_type": "code",
      "source": [
        "import torch\n",
        "from torch import nn"
      ],
      "metadata": {
        "id": "8q6rCugG8ibM"
      },
      "execution_count": null,
      "outputs": []
    },
    {
      "cell_type": "code",
      "source": [
        "# We define a helper function to calculate convolutions. It initializes the\n",
        "# convolutional layer weights and performs corresponding dimensionality\n",
        "# elevations and reductions on the input and output\n",
        "def comp_conv2d(conv2d, X):\n",
        "    # (1, 1) indicates that batch size and the number of channels are both 1\n",
        "    X = X.reshape((1, 1) + X.shape)\n",
        "    Y = conv2d(X)\n",
        "    # Strip the first two dimensions: examples and channels\n",
        "    return Y.reshape(Y.shape[2:])\n",
        "\n",
        "# 1 row and column is padded on either side, so a total of 2 rows or columns\n",
        "# are added\n",
        "conv2d = nn.LazyConv2d(1, kernel_size=3, padding=1)\n",
        "X = torch.rand(size=(8, 8))\n",
        "comp_conv2d(conv2d, X).shape"
      ],
      "metadata": {
        "id": "7BlbXYBl8qCM",
        "colab": {
          "base_uri": "https://localhost:8080/"
        },
        "outputId": "85ef7242-1562-4444-91b6-610839903eff"
      },
      "execution_count": null,
      "outputs": [
        {
          "output_type": "execute_result",
          "data": {
            "text/plain": [
              "torch.Size([8, 8])"
            ]
          },
          "metadata": {},
          "execution_count": 2
        }
      ]
    },
    {
      "cell_type": "code",
      "source": [
        "# We use a convolution kernel with height 5 and width 3. The padding on either\n",
        "# side of the height and width are 2 and 1, respectively\n",
        "conv2d = nn.LazyConv2d(1, kernel_size=(5, 3), padding=(2, 1))\n",
        "comp_conv2d(conv2d, X).shape"
      ],
      "metadata": {
        "colab": {
          "base_uri": "https://localhost:8080/"
        },
        "id": "iHoTxU2SDbkl",
        "outputId": "2e62ca9e-27e9-4156-f8e8-2554e4857b98"
      },
      "execution_count": null,
      "outputs": [
        {
          "output_type": "execute_result",
          "data": {
            "text/plain": [
              "torch.Size([8, 8])"
            ]
          },
          "metadata": {},
          "execution_count": 3
        }
      ]
    },
    {
      "cell_type": "code",
      "source": [
        "conv2d = nn.LazyConv2d(1, kernel_size=3, padding=1, stride=2)\n",
        "comp_conv2d(conv2d, X).shape"
      ],
      "metadata": {
        "colab": {
          "base_uri": "https://localhost:8080/"
        },
        "id": "K_ft0rFEUqd6",
        "outputId": "a92dd9f0-52c6-451e-e993-702ddbbb022b"
      },
      "execution_count": null,
      "outputs": [
        {
          "output_type": "execute_result",
          "data": {
            "text/plain": [
              "torch.Size([4, 4])"
            ]
          },
          "metadata": {},
          "execution_count": 4
        }
      ]
    },
    {
      "cell_type": "code",
      "source": [
        "conv2d = nn.LazyConv2d(1, kernel_size=(3, 5), padding=(0, 1), stride=(3, 4))\n",
        "comp_conv2d(conv2d, X).shape"
      ],
      "metadata": {
        "colab": {
          "base_uri": "https://localhost:8080/"
        },
        "id": "BbjHxHWeUw0J",
        "outputId": "e0b53798-aab4-4afa-ce3b-b18caa953e07"
      },
      "execution_count": null,
      "outputs": [
        {
          "output_type": "execute_result",
          "data": {
            "text/plain": [
              "torch.Size([2, 2])"
            ]
          },
          "metadata": {},
          "execution_count": 5
        }
      ]
    },
    {
      "cell_type": "markdown",
      "source": [
        "## 7.4. Multiple Input and Multiple Output Channels"
      ],
      "metadata": {
        "id": "NYMWulykWYcY"
      }
    },
    {
      "cell_type": "code",
      "source": [
        "import torch\n",
        "from d2l import torch as d2l"
      ],
      "metadata": {
        "id": "Ng8vQ6kCVbb7"
      },
      "execution_count": null,
      "outputs": []
    },
    {
      "cell_type": "code",
      "source": [
        "def corr2d_multi_in(X, K):\n",
        "    # Iterate through the 0th dimension (channel) of K first, then add them up\n",
        "    return sum(d2l.corr2d(x, k) for x, k in zip(X, K))"
      ],
      "metadata": {
        "id": "1lJmJQGEWtVN"
      },
      "execution_count": null,
      "outputs": []
    },
    {
      "cell_type": "code",
      "source": [
        "X = torch.tensor([[[0.0, 1.0, 2.0], [3.0, 4.0, 5.0], [6.0, 7.0, 8.0]],\n",
        "               [[1.0, 2.0, 3.0], [4.0, 5.0, 6.0], [7.0, 8.0, 9.0]]])\n",
        "K = torch.tensor([[[0.0, 1.0], [2.0, 3.0]], [[1.0, 2.0], [3.0, 4.0]]])\n",
        "\n",
        "corr2d_multi_in(X, K)"
      ],
      "metadata": {
        "colab": {
          "base_uri": "https://localhost:8080/"
        },
        "id": "vQg8a4wVX0SM",
        "outputId": "6e570be6-d8c2-41a9-dcad-6326b5d6f477"
      },
      "execution_count": null,
      "outputs": [
        {
          "output_type": "execute_result",
          "data": {
            "text/plain": [
              "tensor([[ 56.,  72.],\n",
              "        [104., 120.]])"
            ]
          },
          "metadata": {},
          "execution_count": 8
        }
      ]
    },
    {
      "cell_type": "code",
      "source": [
        "def corr2d_multi_in_out(X, K):\n",
        "    # Iterate through the 0th dimension of K, and each time, perform\n",
        "    # cross-correlation operations with input X. All of the results are\n",
        "    # stacked together\n",
        "    return torch.stack([corr2d_multi_in(X, k) for k in K], 0)"
      ],
      "metadata": {
        "id": "ciR4FhkWX6UH"
      },
      "execution_count": null,
      "outputs": []
    },
    {
      "cell_type": "code",
      "source": [
        "K = torch.stack((K, K + 1, K + 2), 0)\n",
        "K.shape"
      ],
      "metadata": {
        "colab": {
          "base_uri": "https://localhost:8080/"
        },
        "id": "HXpE3WbWZQ3x",
        "outputId": "0ce30497-7b5c-4874-947f-2ba6735f2df0"
      },
      "execution_count": null,
      "outputs": [
        {
          "output_type": "execute_result",
          "data": {
            "text/plain": [
              "torch.Size([3, 2, 2, 2])"
            ]
          },
          "metadata": {},
          "execution_count": 10
        }
      ]
    },
    {
      "cell_type": "code",
      "source": [
        "corr2d_multi_in_out(X, K)"
      ],
      "metadata": {
        "colab": {
          "base_uri": "https://localhost:8080/"
        },
        "id": "QCbaq1QUZWEe",
        "outputId": "8c20c628-1993-4f51-f474-c4ced4874a9e"
      },
      "execution_count": null,
      "outputs": [
        {
          "output_type": "execute_result",
          "data": {
            "text/plain": [
              "tensor([[[ 56.,  72.],\n",
              "         [104., 120.]],\n",
              "\n",
              "        [[ 76., 100.],\n",
              "         [148., 172.]],\n",
              "\n",
              "        [[ 96., 128.],\n",
              "         [192., 224.]]])"
            ]
          },
          "metadata": {},
          "execution_count": 11
        }
      ]
    },
    {
      "cell_type": "markdown",
      "source": [
        "### 7.4.3. Convolutional Layer"
      ],
      "metadata": {
        "id": "3G2QxiA0cVIu"
      }
    },
    {
      "cell_type": "code",
      "source": [
        "def corr2d_multi_in_out_1x1(X, K):\n",
        "    c_i, h, w = X.shape\n",
        "    c_o = K.shape[0]\n",
        "    X = X.reshape((c_i, h * w))\n",
        "    K = K.reshape((c_o, c_i))\n",
        "    # Matrix multiplication in the fully connected layer\n",
        "    Y = torch.matmul(K, X)\n",
        "    return Y.reshape((c_o, h, w))"
      ],
      "metadata": {
        "id": "bHzz46MxanII"
      },
      "execution_count": null,
      "outputs": []
    },
    {
      "cell_type": "code",
      "source": [
        "X = torch.normal(0, 1, (3, 3, 3))\n",
        "K = torch.normal(0, 1, (2, 3, 1, 1))\n",
        "Y1 = corr2d_multi_in_out_1x1(X, K)\n",
        "Y2 = corr2d_multi_in_out(X, K)\n",
        "assert float(torch.abs(Y1 - Y2).sum()) < 1e-6"
      ],
      "metadata": {
        "id": "7P9IzGy8dizF"
      },
      "execution_count": null,
      "outputs": []
    },
    {
      "cell_type": "markdown",
      "source": [
        "## 7.5. Pooling"
      ],
      "metadata": {
        "id": "wjzWjJfvgMh5"
      }
    },
    {
      "cell_type": "code",
      "source": [
        "import torch\n",
        "from torch import nn\n",
        "from d2l import torch as d2l"
      ],
      "metadata": {
        "id": "0KIqHcs5gNu1"
      },
      "execution_count": null,
      "outputs": []
    },
    {
      "cell_type": "markdown",
      "source": [
        "### 7.5.1. Maximum Pooling and Average Pooling"
      ],
      "metadata": {
        "id": "qr6SZNxOg0OD"
      }
    },
    {
      "cell_type": "code",
      "source": [
        "def pool2d(X, pool_size, mode='max'):\n",
        "    p_h, p_w = pool_size\n",
        "    Y = torch.zeros((X.shape[0] - p_h + 1, X.shape[1] - p_w + 1))\n",
        "    for i in range(Y.shape[0]):\n",
        "        for j in range(Y.shape[1]):\n",
        "            if mode == 'max':\n",
        "                Y[i, j] = X[i: i + p_h, j: j + p_w].max()\n",
        "            elif mode == 'avg':\n",
        "                Y[i, j] = X[i: i + p_h, j: j + p_w].mean()\n",
        "    return Y"
      ],
      "metadata": {
        "id": "fPPUFfZmgzY9"
      },
      "execution_count": null,
      "outputs": []
    },
    {
      "cell_type": "code",
      "source": [
        "X = torch.tensor([[0.0, 1.0, 2.0], [3.0, 4.0, 5.0], [6.0, 7.0, 8.0]])\n",
        "pool2d(X, (2, 2))"
      ],
      "metadata": {
        "colab": {
          "base_uri": "https://localhost:8080/"
        },
        "id": "dZbtoXbiiR6c",
        "outputId": "eb0bb856-0bb2-4d54-f7b2-065578793a15"
      },
      "execution_count": null,
      "outputs": [
        {
          "output_type": "execute_result",
          "data": {
            "text/plain": [
              "tensor([[4., 5.],\n",
              "        [7., 8.]])"
            ]
          },
          "metadata": {},
          "execution_count": 21
        }
      ]
    },
    {
      "cell_type": "code",
      "source": [
        "pool2d(X, (2, 2), 'avg')"
      ],
      "metadata": {
        "colab": {
          "base_uri": "https://localhost:8080/"
        },
        "id": "4SahpWd2i7f7",
        "outputId": "e35bbea0-d897-4747-ad2b-35963459c1e7"
      },
      "execution_count": null,
      "outputs": [
        {
          "output_type": "execute_result",
          "data": {
            "text/plain": [
              "tensor([[2., 3.],\n",
              "        [5., 6.]])"
            ]
          },
          "metadata": {},
          "execution_count": 22
        }
      ]
    },
    {
      "cell_type": "markdown",
      "source": [
        "### 7.5.2. Padding and Stride"
      ],
      "metadata": {
        "id": "kxZxhQEejT84"
      }
    },
    {
      "cell_type": "code",
      "source": [
        "X = torch.arange(16, dtype=torch.float32).reshape((1, 1, 4, 4))\n",
        "X"
      ],
      "metadata": {
        "colab": {
          "base_uri": "https://localhost:8080/"
        },
        "id": "RgxLhX3Bi_6R",
        "outputId": "601c051e-781e-475c-d477-5098e8a0ef8d"
      },
      "execution_count": null,
      "outputs": [
        {
          "output_type": "execute_result",
          "data": {
            "text/plain": [
              "tensor([[[[ 0.,  1.,  2.,  3.],\n",
              "          [ 4.,  5.,  6.,  7.],\n",
              "          [ 8.,  9., 10., 11.],\n",
              "          [12., 13., 14., 15.]]]])"
            ]
          },
          "metadata": {},
          "execution_count": 23
        }
      ]
    },
    {
      "cell_type": "code",
      "source": [
        "pool2d = nn.MaxPool2d(3)\n",
        "# Pooling has no model parameters, hence it needs no initialization\n",
        "pool2d(X)"
      ],
      "metadata": {
        "colab": {
          "base_uri": "https://localhost:8080/"
        },
        "id": "9XaEsgghjRgE",
        "outputId": "1eb68250-6c45-4cd4-9208-2bb7041661dd"
      },
      "execution_count": null,
      "outputs": [
        {
          "output_type": "execute_result",
          "data": {
            "text/plain": [
              "tensor([[[[10.]]]])"
            ]
          },
          "metadata": {},
          "execution_count": 24
        }
      ]
    },
    {
      "cell_type": "code",
      "source": [
        "pool2d = nn.MaxPool2d(3, padding=1, stride=2)\n",
        "pool2d(X)"
      ],
      "metadata": {
        "colab": {
          "base_uri": "https://localhost:8080/"
        },
        "id": "rZSTdz72kCWU",
        "outputId": "7828f72f-0a26-42f7-adf3-fc2ed55f2b88"
      },
      "execution_count": null,
      "outputs": [
        {
          "output_type": "execute_result",
          "data": {
            "text/plain": [
              "tensor([[[[ 5.,  7.],\n",
              "          [13., 15.]]]])"
            ]
          },
          "metadata": {},
          "execution_count": 25
        }
      ]
    },
    {
      "cell_type": "code",
      "source": [
        "pool2d = nn.MaxPool2d((2, 3), stride=(2, 3), padding=(0, 1))\n",
        "pool2d(X)"
      ],
      "metadata": {
        "colab": {
          "base_uri": "https://localhost:8080/"
        },
        "id": "taH9ChBykFNs",
        "outputId": "fbbe689f-9152-45e4-c399-b05a5e6f45d7"
      },
      "execution_count": null,
      "outputs": [
        {
          "output_type": "execute_result",
          "data": {
            "text/plain": [
              "tensor([[[[ 5.,  7.],\n",
              "          [13., 15.]]]])"
            ]
          },
          "metadata": {},
          "execution_count": 26
        }
      ]
    },
    {
      "cell_type": "markdown",
      "source": [
        "### 7.5.3. Multiple Channels"
      ],
      "metadata": {
        "id": "0ggN-x5ykN1u"
      }
    },
    {
      "cell_type": "code",
      "source": [
        "X = torch.cat((X, X + 1), 1)\n",
        "X"
      ],
      "metadata": {
        "colab": {
          "base_uri": "https://localhost:8080/"
        },
        "id": "SoqWSM4kkIrT",
        "outputId": "57210998-0170-4347-aa42-b78dfe12abbc"
      },
      "execution_count": null,
      "outputs": [
        {
          "output_type": "execute_result",
          "data": {
            "text/plain": [
              "tensor([[[[ 0.,  1.,  2.,  3.],\n",
              "          [ 4.,  5.,  6.,  7.],\n",
              "          [ 8.,  9., 10., 11.],\n",
              "          [12., 13., 14., 15.]],\n",
              "\n",
              "         [[ 1.,  2.,  3.,  4.],\n",
              "          [ 5.,  6.,  7.,  8.],\n",
              "          [ 9., 10., 11., 12.],\n",
              "          [13., 14., 15., 16.]]]])"
            ]
          },
          "metadata": {},
          "execution_count": 27
        }
      ]
    },
    {
      "cell_type": "code",
      "source": [
        "pool2d = nn.MaxPool2d(3, padding=1, stride=2)\n",
        "pool2d(X)"
      ],
      "metadata": {
        "colab": {
          "base_uri": "https://localhost:8080/"
        },
        "id": "Db1dBDB3kX86",
        "outputId": "28ac5b40-cd8c-49d4-8f6a-296c9c6b05e2"
      },
      "execution_count": null,
      "outputs": [
        {
          "output_type": "execute_result",
          "data": {
            "text/plain": [
              "tensor([[[[ 5.,  7.],\n",
              "          [13., 15.]],\n",
              "\n",
              "         [[ 6.,  8.],\n",
              "          [14., 16.]]]])"
            ]
          },
          "metadata": {},
          "execution_count": 28
        }
      ]
    },
    {
      "cell_type": "markdown",
      "source": [
        "## 7.6. Convolutional Neural Networks (LeNet)"
      ],
      "metadata": {
        "id": "R2X5uGIkxHeY"
      }
    },
    {
      "cell_type": "code",
      "source": [
        "import torch\n",
        "from torch import nn\n",
        "from d2l import torch as d2l"
      ],
      "metadata": {
        "id": "MfvZQPE3keZD"
      },
      "execution_count": null,
      "outputs": []
    },
    {
      "cell_type": "code",
      "source": [
        "def init_cnn(module):\n",
        "    \"\"\"Initialize weights for CNNs.\"\"\"\n",
        "    if type(module) == nn.Linear or type(module) == nn.Conv2d:\n",
        "        nn.init.xavier_uniform_(module.weight)\n",
        "\n",
        "class LeNet(d2l.Classifier):\n",
        "    \"\"\"The LeNet-5 model.\"\"\"\n",
        "    def __init__(self, lr=0.1, num_classes=10):\n",
        "        super().__init__()\n",
        "        self.save_hyperparameters()\n",
        "        self.net = nn.Sequential(\n",
        "            nn.LazyConv2d(6, kernel_size=5, padding=2), nn.Sigmoid(),\n",
        "            nn.AvgPool2d(kernel_size=2, stride=2),\n",
        "            nn.LazyConv2d(16, kernel_size=5), nn.Sigmoid(),\n",
        "            nn.AvgPool2d(kernel_size=2, stride=2),\n",
        "            nn.Flatten(),\n",
        "            nn.LazyLinear(120), nn.Sigmoid(),\n",
        "            nn.LazyLinear(84), nn.Sigmoid(),\n",
        "            nn.LazyLinear(num_classes))"
      ],
      "metadata": {
        "id": "UgFR2zzTx2Ig"
      },
      "execution_count": null,
      "outputs": []
    },
    {
      "cell_type": "code",
      "source": [
        "@d2l.add_to_class(d2l.Classifier)\n",
        "def layer_summary(self, X_shape):\n",
        "    X = torch.randn(*X_shape)\n",
        "    for layer in self.net:\n",
        "        X = layer(X)\n",
        "        print(layer.__class__.__name__, 'output shape:\\t', X.shape)\n",
        "\n",
        "model = LeNet()\n",
        "model.layer_summary((1, 1, 28, 28))"
      ],
      "metadata": {
        "colab": {
          "base_uri": "https://localhost:8080/"
        },
        "id": "bYPeiE5oy-df",
        "outputId": "8767de2a-e35b-44e6-af23-a9a856697f73"
      },
      "execution_count": null,
      "outputs": [
        {
          "output_type": "stream",
          "name": "stdout",
          "text": [
            "Conv2d output shape:\t torch.Size([1, 6, 28, 28])\n",
            "Sigmoid output shape:\t torch.Size([1, 6, 28, 28])\n",
            "AvgPool2d output shape:\t torch.Size([1, 6, 14, 14])\n",
            "Conv2d output shape:\t torch.Size([1, 16, 10, 10])\n",
            "Sigmoid output shape:\t torch.Size([1, 16, 10, 10])\n",
            "AvgPool2d output shape:\t torch.Size([1, 16, 5, 5])\n",
            "Flatten output shape:\t torch.Size([1, 400])\n",
            "Linear output shape:\t torch.Size([1, 120])\n",
            "Sigmoid output shape:\t torch.Size([1, 120])\n",
            "Linear output shape:\t torch.Size([1, 84])\n",
            "Sigmoid output shape:\t torch.Size([1, 84])\n",
            "Linear output shape:\t torch.Size([1, 10])\n"
          ]
        }
      ]
    },
    {
      "cell_type": "markdown",
      "source": [
        "### 7.6.2. Training"
      ],
      "metadata": {
        "id": "bYhCVSwJzxJ7"
      }
    },
    {
      "cell_type": "code",
      "source": [
        "trainer = d2l.Trainer(max_epochs=10, num_gpus=1)\n",
        "data = d2l.FashionMNIST(batch_size=128)\n",
        "model = LeNet(lr=0.1)\n",
        "model.apply_init([next(iter(data.get_dataloader(True)))[0]], init_cnn)\n",
        "trainer.fit(model, data)"
      ],
      "metadata": {
        "colab": {
          "base_uri": "https://localhost:8080/",
          "height": 266
        },
        "id": "NjlZPwklzhce",
        "outputId": "e2ea951f-9064-4d4b-fe41-9a548c1230c7"
      },
      "execution_count": null,
      "outputs": [
        {
          "output_type": "display_data",
          "data": {
            "text/plain": [
              "<Figure size 350x250 with 1 Axes>"
            ],
            "image/svg+xml": "<?xml version=\"1.0\" encoding=\"utf-8\" standalone=\"no\"?>\n<!DOCTYPE svg PUBLIC \"-//W3C//DTD SVG 1.1//EN\"\n  \"http://www.w3.org/Graphics/SVG/1.1/DTD/svg11.dtd\">\n<svg xmlns:xlink=\"http://www.w3.org/1999/xlink\" width=\"238.965625pt\" height=\"183.35625pt\" viewBox=\"0 0 238.965625 183.35625\" xmlns=\"http://www.w3.org/2000/svg\" version=\"1.1\">\n <metadata>\n  <rdf:RDF xmlns:dc=\"http://purl.org/dc/elements/1.1/\" xmlns:cc=\"http://creativecommons.org/ns#\" xmlns:rdf=\"http://www.w3.org/1999/02/22-rdf-syntax-ns#\">\n   <cc:Work>\n    <dc:type rdf:resource=\"http://purl.org/dc/dcmitype/StillImage\"/>\n    <dc:date>2024-10-09T10:29:30.743395</dc:date>\n    <dc:format>image/svg+xml</dc:format>\n    <dc:creator>\n     <cc:Agent>\n      <dc:title>Matplotlib v3.7.2, https://matplotlib.org/</dc:title>\n     </cc:Agent>\n    </dc:creator>\n   </cc:Work>\n  </rdf:RDF>\n </metadata>\n <defs>\n  <style type=\"text/css\">*{stroke-linejoin: round; stroke-linecap: butt}</style>\n </defs>\n <g id=\"figure_1\">\n  <g id=\"patch_1\">\n   <path d=\"M 0 183.35625 \nL 238.965625 183.35625 \nL 238.965625 0 \nL 0 0 \nz\n\" style=\"fill: #ffffff\"/>\n  </g>\n  <g id=\"axes_1\">\n   <g id=\"patch_2\">\n    <path d=\"M 30.103125 145.8 \nL 225.403125 145.8 \nL 225.403125 7.2 \nL 30.103125 7.2 \nz\n\" style=\"fill: #ffffff\"/>\n   </g>\n   <g id=\"matplotlib.axis_1\">\n    <g id=\"xtick_1\">\n     <g id=\"line2d_1\">\n      <defs>\n       <path id=\"m946b2cc65b\" d=\"M 0 0 \nL 0 3.5 \n\" style=\"stroke: #000000; stroke-width: 0.8\"/>\n      </defs>\n      <g>\n       <use xlink:href=\"#m946b2cc65b\" x=\"30.103125\" y=\"145.8\" style=\"stroke: #000000; stroke-width: 0.8\"/>\n      </g>\n     </g>\n     <g id=\"text_1\">\n      <!-- 0 -->\n      <g transform=\"translate(26.921875 160.398438) scale(0.1 -0.1)\">\n       <defs>\n        <path id=\"DejaVuSans-30\" d=\"M 2034 4250 \nQ 1547 4250 1301 3770 \nQ 1056 3291 1056 2328 \nQ 1056 1369 1301 889 \nQ 1547 409 2034 409 \nQ 2525 409 2770 889 \nQ 3016 1369 3016 2328 \nQ 3016 3291 2770 3770 \nQ 2525 4250 2034 4250 \nz\nM 2034 4750 \nQ 2819 4750 3233 4129 \nQ 3647 3509 3647 2328 \nQ 3647 1150 3233 529 \nQ 2819 -91 2034 -91 \nQ 1250 -91 836 529 \nQ 422 1150 422 2328 \nQ 422 3509 836 4129 \nQ 1250 4750 2034 4750 \nz\n\" transform=\"scale(0.015625)\"/>\n       </defs>\n       <use xlink:href=\"#DejaVuSans-30\"/>\n      </g>\n     </g>\n    </g>\n    <g id=\"xtick_2\">\n     <g id=\"line2d_2\">\n      <g>\n       <use xlink:href=\"#m946b2cc65b\" x=\"69.163125\" y=\"145.8\" style=\"stroke: #000000; stroke-width: 0.8\"/>\n      </g>\n     </g>\n     <g id=\"text_2\">\n      <!-- 2 -->\n      <g transform=\"translate(65.981875 160.398438) scale(0.1 -0.1)\">\n       <defs>\n        <path id=\"DejaVuSans-32\" d=\"M 1228 531 \nL 3431 531 \nL 3431 0 \nL 469 0 \nL 469 531 \nQ 828 903 1448 1529 \nQ 2069 2156 2228 2338 \nQ 2531 2678 2651 2914 \nQ 2772 3150 2772 3378 \nQ 2772 3750 2511 3984 \nQ 2250 4219 1831 4219 \nQ 1534 4219 1204 4116 \nQ 875 4013 500 3803 \nL 500 4441 \nQ 881 4594 1212 4672 \nQ 1544 4750 1819 4750 \nQ 2544 4750 2975 4387 \nQ 3406 4025 3406 3419 \nQ 3406 3131 3298 2873 \nQ 3191 2616 2906 2266 \nQ 2828 2175 2409 1742 \nQ 1991 1309 1228 531 \nz\n\" transform=\"scale(0.015625)\"/>\n       </defs>\n       <use xlink:href=\"#DejaVuSans-32\"/>\n      </g>\n     </g>\n    </g>\n    <g id=\"xtick_3\">\n     <g id=\"line2d_3\">\n      <g>\n       <use xlink:href=\"#m946b2cc65b\" x=\"108.223125\" y=\"145.8\" style=\"stroke: #000000; stroke-width: 0.8\"/>\n      </g>\n     </g>\n     <g id=\"text_3\">\n      <!-- 4 -->\n      <g transform=\"translate(105.041875 160.398438) scale(0.1 -0.1)\">\n       <defs>\n        <path id=\"DejaVuSans-34\" d=\"M 2419 4116 \nL 825 1625 \nL 2419 1625 \nL 2419 4116 \nz\nM 2253 4666 \nL 3047 4666 \nL 3047 1625 \nL 3713 1625 \nL 3713 1100 \nL 3047 1100 \nL 3047 0 \nL 2419 0 \nL 2419 1100 \nL 313 1100 \nL 313 1709 \nL 2253 4666 \nz\n\" transform=\"scale(0.015625)\"/>\n       </defs>\n       <use xlink:href=\"#DejaVuSans-34\"/>\n      </g>\n     </g>\n    </g>\n    <g id=\"xtick_4\">\n     <g id=\"line2d_4\">\n      <g>\n       <use xlink:href=\"#m946b2cc65b\" x=\"147.283125\" y=\"145.8\" style=\"stroke: #000000; stroke-width: 0.8\"/>\n      </g>\n     </g>\n     <g id=\"text_4\">\n      <!-- 6 -->\n      <g transform=\"translate(144.101875 160.398438) scale(0.1 -0.1)\">\n       <defs>\n        <path id=\"DejaVuSans-36\" d=\"M 2113 2584 \nQ 1688 2584 1439 2293 \nQ 1191 2003 1191 1497 \nQ 1191 994 1439 701 \nQ 1688 409 2113 409 \nQ 2538 409 2786 701 \nQ 3034 994 3034 1497 \nQ 3034 2003 2786 2293 \nQ 2538 2584 2113 2584 \nz\nM 3366 4563 \nL 3366 3988 \nQ 3128 4100 2886 4159 \nQ 2644 4219 2406 4219 \nQ 1781 4219 1451 3797 \nQ 1122 3375 1075 2522 \nQ 1259 2794 1537 2939 \nQ 1816 3084 2150 3084 \nQ 2853 3084 3261 2657 \nQ 3669 2231 3669 1497 \nQ 3669 778 3244 343 \nQ 2819 -91 2113 -91 \nQ 1303 -91 875 529 \nQ 447 1150 447 2328 \nQ 447 3434 972 4092 \nQ 1497 4750 2381 4750 \nQ 2619 4750 2861 4703 \nQ 3103 4656 3366 4563 \nz\n\" transform=\"scale(0.015625)\"/>\n       </defs>\n       <use xlink:href=\"#DejaVuSans-36\"/>\n      </g>\n     </g>\n    </g>\n    <g id=\"xtick_5\">\n     <g id=\"line2d_5\">\n      <g>\n       <use xlink:href=\"#m946b2cc65b\" x=\"186.343125\" y=\"145.8\" style=\"stroke: #000000; stroke-width: 0.8\"/>\n      </g>\n     </g>\n     <g id=\"text_5\">\n      <!-- 8 -->\n      <g transform=\"translate(183.161875 160.398438) scale(0.1 -0.1)\">\n       <defs>\n        <path id=\"DejaVuSans-38\" d=\"M 2034 2216 \nQ 1584 2216 1326 1975 \nQ 1069 1734 1069 1313 \nQ 1069 891 1326 650 \nQ 1584 409 2034 409 \nQ 2484 409 2743 651 \nQ 3003 894 3003 1313 \nQ 3003 1734 2745 1975 \nQ 2488 2216 2034 2216 \nz\nM 1403 2484 \nQ 997 2584 770 2862 \nQ 544 3141 544 3541 \nQ 544 4100 942 4425 \nQ 1341 4750 2034 4750 \nQ 2731 4750 3128 4425 \nQ 3525 4100 3525 3541 \nQ 3525 3141 3298 2862 \nQ 3072 2584 2669 2484 \nQ 3125 2378 3379 2068 \nQ 3634 1759 3634 1313 \nQ 3634 634 3220 271 \nQ 2806 -91 2034 -91 \nQ 1263 -91 848 271 \nQ 434 634 434 1313 \nQ 434 1759 690 2068 \nQ 947 2378 1403 2484 \nz\nM 1172 3481 \nQ 1172 3119 1398 2916 \nQ 1625 2713 2034 2713 \nQ 2441 2713 2670 2916 \nQ 2900 3119 2900 3481 \nQ 2900 3844 2670 4047 \nQ 2441 4250 2034 4250 \nQ 1625 4250 1398 4047 \nQ 1172 3844 1172 3481 \nz\n\" transform=\"scale(0.015625)\"/>\n       </defs>\n       <use xlink:href=\"#DejaVuSans-38\"/>\n      </g>\n     </g>\n    </g>\n    <g id=\"xtick_6\">\n     <g id=\"line2d_6\">\n      <g>\n       <use xlink:href=\"#m946b2cc65b\" x=\"225.403125\" y=\"145.8\" style=\"stroke: #000000; stroke-width: 0.8\"/>\n      </g>\n     </g>\n     <g id=\"text_6\">\n      <!-- 10 -->\n      <g transform=\"translate(219.040625 160.398438) scale(0.1 -0.1)\">\n       <defs>\n        <path id=\"DejaVuSans-31\" d=\"M 794 531 \nL 1825 531 \nL 1825 4091 \nL 703 3866 \nL 703 4441 \nL 1819 4666 \nL 2450 4666 \nL 2450 531 \nL 3481 531 \nL 3481 0 \nL 794 0 \nL 794 531 \nz\n\" transform=\"scale(0.015625)\"/>\n       </defs>\n       <use xlink:href=\"#DejaVuSans-31\"/>\n       <use xlink:href=\"#DejaVuSans-30\" x=\"63.623047\"/>\n      </g>\n     </g>\n    </g>\n    <g id=\"text_7\">\n     <!-- epoch -->\n     <g transform=\"translate(112.525 174.076563) scale(0.1 -0.1)\">\n      <defs>\n       <path id=\"DejaVuSans-65\" d=\"M 3597 1894 \nL 3597 1613 \nL 953 1613 \nQ 991 1019 1311 708 \nQ 1631 397 2203 397 \nQ 2534 397 2845 478 \nQ 3156 559 3463 722 \nL 3463 178 \nQ 3153 47 2828 -22 \nQ 2503 -91 2169 -91 \nQ 1331 -91 842 396 \nQ 353 884 353 1716 \nQ 353 2575 817 3079 \nQ 1281 3584 2069 3584 \nQ 2775 3584 3186 3129 \nQ 3597 2675 3597 1894 \nz\nM 3022 2063 \nQ 3016 2534 2758 2815 \nQ 2500 3097 2075 3097 \nQ 1594 3097 1305 2825 \nQ 1016 2553 972 2059 \nL 3022 2063 \nz\n\" transform=\"scale(0.015625)\"/>\n       <path id=\"DejaVuSans-70\" d=\"M 1159 525 \nL 1159 -1331 \nL 581 -1331 \nL 581 3500 \nL 1159 3500 \nL 1159 2969 \nQ 1341 3281 1617 3432 \nQ 1894 3584 2278 3584 \nQ 2916 3584 3314 3078 \nQ 3713 2572 3713 1747 \nQ 3713 922 3314 415 \nQ 2916 -91 2278 -91 \nQ 1894 -91 1617 61 \nQ 1341 213 1159 525 \nz\nM 3116 1747 \nQ 3116 2381 2855 2742 \nQ 2594 3103 2138 3103 \nQ 1681 3103 1420 2742 \nQ 1159 2381 1159 1747 \nQ 1159 1113 1420 752 \nQ 1681 391 2138 391 \nQ 2594 391 2855 752 \nQ 3116 1113 3116 1747 \nz\n\" transform=\"scale(0.015625)\"/>\n       <path id=\"DejaVuSans-6f\" d=\"M 1959 3097 \nQ 1497 3097 1228 2736 \nQ 959 2375 959 1747 \nQ 959 1119 1226 758 \nQ 1494 397 1959 397 \nQ 2419 397 2687 759 \nQ 2956 1122 2956 1747 \nQ 2956 2369 2687 2733 \nQ 2419 3097 1959 3097 \nz\nM 1959 3584 \nQ 2709 3584 3137 3096 \nQ 3566 2609 3566 1747 \nQ 3566 888 3137 398 \nQ 2709 -91 1959 -91 \nQ 1206 -91 779 398 \nQ 353 888 353 1747 \nQ 353 2609 779 3096 \nQ 1206 3584 1959 3584 \nz\n\" transform=\"scale(0.015625)\"/>\n       <path id=\"DejaVuSans-63\" d=\"M 3122 3366 \nL 3122 2828 \nQ 2878 2963 2633 3030 \nQ 2388 3097 2138 3097 \nQ 1578 3097 1268 2742 \nQ 959 2388 959 1747 \nQ 959 1106 1268 751 \nQ 1578 397 2138 397 \nQ 2388 397 2633 464 \nQ 2878 531 3122 666 \nL 3122 134 \nQ 2881 22 2623 -34 \nQ 2366 -91 2075 -91 \nQ 1284 -91 818 406 \nQ 353 903 353 1747 \nQ 353 2603 823 3093 \nQ 1294 3584 2113 3584 \nQ 2378 3584 2631 3529 \nQ 2884 3475 3122 3366 \nz\n\" transform=\"scale(0.015625)\"/>\n       <path id=\"DejaVuSans-68\" d=\"M 3513 2113 \nL 3513 0 \nL 2938 0 \nL 2938 2094 \nQ 2938 2591 2744 2837 \nQ 2550 3084 2163 3084 \nQ 1697 3084 1428 2787 \nQ 1159 2491 1159 1978 \nL 1159 0 \nL 581 0 \nL 581 4863 \nL 1159 4863 \nL 1159 2956 \nQ 1366 3272 1645 3428 \nQ 1925 3584 2291 3584 \nQ 2894 3584 3203 3211 \nQ 3513 2838 3513 2113 \nz\n\" transform=\"scale(0.015625)\"/>\n      </defs>\n      <use xlink:href=\"#DejaVuSans-65\"/>\n      <use xlink:href=\"#DejaVuSans-70\" x=\"61.523438\"/>\n      <use xlink:href=\"#DejaVuSans-6f\" x=\"125\"/>\n      <use xlink:href=\"#DejaVuSans-63\" x=\"186.181641\"/>\n      <use xlink:href=\"#DejaVuSans-68\" x=\"241.162109\"/>\n     </g>\n    </g>\n   </g>\n   <g id=\"matplotlib.axis_2\">\n    <g id=\"ytick_1\">\n     <g id=\"line2d_7\">\n      <defs>\n       <path id=\"ma8ffa782c7\" d=\"M 0 0 \nL -3.5 0 \n\" style=\"stroke: #000000; stroke-width: 0.8\"/>\n      </defs>\n      <g>\n       <use xlink:href=\"#ma8ffa782c7\" x=\"30.103125\" y=\"145.181225\" style=\"stroke: #000000; stroke-width: 0.8\"/>\n      </g>\n     </g>\n     <g id=\"text_8\">\n      <!-- 0.0 -->\n      <g transform=\"translate(7.2 148.980444) scale(0.1 -0.1)\">\n       <defs>\n        <path id=\"DejaVuSans-2e\" d=\"M 684 794 \nL 1344 794 \nL 1344 0 \nL 684 0 \nL 684 794 \nz\n\" transform=\"scale(0.015625)\"/>\n       </defs>\n       <use xlink:href=\"#DejaVuSans-30\"/>\n       <use xlink:href=\"#DejaVuSans-2e\" x=\"63.623047\"/>\n       <use xlink:href=\"#DejaVuSans-30\" x=\"95.410156\"/>\n      </g>\n     </g>\n    </g>\n    <g id=\"ytick_2\">\n     <g id=\"line2d_8\">\n      <g>\n       <use xlink:href=\"#ma8ffa782c7\" x=\"30.103125\" y=\"116.656623\" style=\"stroke: #000000; stroke-width: 0.8\"/>\n      </g>\n     </g>\n     <g id=\"text_9\">\n      <!-- 0.5 -->\n      <g transform=\"translate(7.2 120.455841) scale(0.1 -0.1)\">\n       <defs>\n        <path id=\"DejaVuSans-35\" d=\"M 691 4666 \nL 3169 4666 \nL 3169 4134 \nL 1269 4134 \nL 1269 2991 \nQ 1406 3038 1543 3061 \nQ 1681 3084 1819 3084 \nQ 2600 3084 3056 2656 \nQ 3513 2228 3513 1497 \nQ 3513 744 3044 326 \nQ 2575 -91 1722 -91 \nQ 1428 -91 1123 -41 \nQ 819 9 494 109 \nL 494 744 \nQ 775 591 1075 516 \nQ 1375 441 1709 441 \nQ 2250 441 2565 725 \nQ 2881 1009 2881 1497 \nQ 2881 1984 2565 2268 \nQ 2250 2553 1709 2553 \nQ 1456 2553 1204 2497 \nQ 953 2441 691 2322 \nL 691 4666 \nz\n\" transform=\"scale(0.015625)\"/>\n       </defs>\n       <use xlink:href=\"#DejaVuSans-30\"/>\n       <use xlink:href=\"#DejaVuSans-2e\" x=\"63.623047\"/>\n       <use xlink:href=\"#DejaVuSans-35\" x=\"95.410156\"/>\n      </g>\n     </g>\n    </g>\n    <g id=\"ytick_3\">\n     <g id=\"line2d_9\">\n      <g>\n       <use xlink:href=\"#ma8ffa782c7\" x=\"30.103125\" y=\"88.13202\" style=\"stroke: #000000; stroke-width: 0.8\"/>\n      </g>\n     </g>\n     <g id=\"text_10\">\n      <!-- 1.0 -->\n      <g transform=\"translate(7.2 91.931239) scale(0.1 -0.1)\">\n       <use xlink:href=\"#DejaVuSans-31\"/>\n       <use xlink:href=\"#DejaVuSans-2e\" x=\"63.623047\"/>\n       <use xlink:href=\"#DejaVuSans-30\" x=\"95.410156\"/>\n      </g>\n     </g>\n    </g>\n    <g id=\"ytick_4\">\n     <g id=\"line2d_10\">\n      <g>\n       <use xlink:href=\"#ma8ffa782c7\" x=\"30.103125\" y=\"59.607417\" style=\"stroke: #000000; stroke-width: 0.8\"/>\n      </g>\n     </g>\n     <g id=\"text_11\">\n      <!-- 1.5 -->\n      <g transform=\"translate(7.2 63.406636) scale(0.1 -0.1)\">\n       <use xlink:href=\"#DejaVuSans-31\"/>\n       <use xlink:href=\"#DejaVuSans-2e\" x=\"63.623047\"/>\n       <use xlink:href=\"#DejaVuSans-35\" x=\"95.410156\"/>\n      </g>\n     </g>\n    </g>\n    <g id=\"ytick_5\">\n     <g id=\"line2d_11\">\n      <g>\n       <use xlink:href=\"#ma8ffa782c7\" x=\"30.103125\" y=\"31.082815\" style=\"stroke: #000000; stroke-width: 0.8\"/>\n      </g>\n     </g>\n     <g id=\"text_12\">\n      <!-- 2.0 -->\n      <g transform=\"translate(7.2 34.882033) scale(0.1 -0.1)\">\n       <use xlink:href=\"#DejaVuSans-32\"/>\n       <use xlink:href=\"#DejaVuSans-2e\" x=\"63.623047\"/>\n       <use xlink:href=\"#DejaVuSans-30\" x=\"95.410156\"/>\n      </g>\n     </g>\n    </g>\n   </g>\n   <g id=\"line2d_12\">\n    <path d=\"M 34.954394 13.507777 \n\" clip-path=\"url(#p4d8602758f)\" style=\"fill: none; stroke: #1f77b4; stroke-width: 1.5; stroke-linecap: square\"/>\n   </g>\n   <g id=\"line2d_13\">\n    <path d=\"M 34.954394 13.507777 \nL 44.698573 13.597786 \n\" clip-path=\"url(#p4d8602758f)\" style=\"fill: none; stroke: #1f77b4; stroke-width: 1.5; stroke-linecap: square\"/>\n   </g>\n   <g id=\"line2d_14\">\n    <path d=\"M 34.954394 13.507777 \nL 44.698573 13.597786 \n\" clip-path=\"url(#p4d8602758f)\" style=\"fill: none; stroke: #1f77b4; stroke-width: 1.5; stroke-linecap: square\"/>\n   </g>\n   <g id=\"line2d_15\">\n    <path d=\"M 49.633125 13.5 \n\" clip-path=\"url(#p4d8602758f)\" style=\"fill: none; stroke-dasharray: 5.55,2.4; stroke-dashoffset: 0; stroke: #ff7f0e; stroke-width: 1.5\"/>\n   </g>\n   <g id=\"line2d_16\"/>\n   <g id=\"line2d_17\">\n    <path d=\"M 34.954394 13.507777 \nL 44.698573 13.597786 \n\" clip-path=\"url(#p4d8602758f)\" style=\"fill: none; stroke: #1f77b4; stroke-width: 1.5; stroke-linecap: square\"/>\n   </g>\n   <g id=\"line2d_18\">\n    <path d=\"M 49.633125 13.5 \n\" clip-path=\"url(#p4d8602758f)\" style=\"fill: none; stroke-dasharray: 5.55,2.4; stroke-dashoffset: 0; stroke: #ff7f0e; stroke-width: 1.5\"/>\n   </g>\n   <g id=\"line2d_19\">\n    <path d=\"M 49.633125 139.5 \n\" clip-path=\"url(#p4d8602758f)\" style=\"fill: none; stroke-dasharray: 9.6,2.4,1.5,2.4; stroke-dashoffset: 0; stroke: #2ca02c; stroke-width: 1.5\"/>\n   </g>\n   <g id=\"line2d_20\">\n    <path d=\"M 34.954394 13.507777 \nL 44.698573 13.597786 \nL 54.442752 13.649724 \n\" clip-path=\"url(#p4d8602758f)\" style=\"fill: none; stroke: #1f77b4; stroke-width: 1.5; stroke-linecap: square\"/>\n   </g>\n   <g id=\"line2d_21\">\n    <path d=\"M 49.633125 13.5 \n\" clip-path=\"url(#p4d8602758f)\" style=\"fill: none; stroke-dasharray: 5.55,2.4; stroke-dashoffset: 0; stroke: #ff7f0e; stroke-width: 1.5\"/>\n   </g>\n   <g id=\"line2d_22\">\n    <path d=\"M 49.633125 139.5 \n\" clip-path=\"url(#p4d8602758f)\" style=\"fill: none; stroke-dasharray: 9.6,2.4,1.5,2.4; stroke-dashoffset: 0; stroke: #2ca02c; stroke-width: 1.5\"/>\n   </g>\n   <g id=\"line2d_23\">\n    <path d=\"M 34.954394 13.507777 \nL 44.698573 13.597786 \nL 54.442752 13.649724 \nL 64.186931 13.694174 \n\" clip-path=\"url(#p4d8602758f)\" style=\"fill: none; stroke: #1f77b4; stroke-width: 1.5; stroke-linecap: square\"/>\n   </g>\n   <g id=\"line2d_24\">\n    <path d=\"M 49.633125 13.5 \n\" clip-path=\"url(#p4d8602758f)\" style=\"fill: none; stroke-dasharray: 5.55,2.4; stroke-dashoffset: 0; stroke: #ff7f0e; stroke-width: 1.5\"/>\n   </g>\n   <g id=\"line2d_25\">\n    <path d=\"M 49.633125 139.5 \n\" clip-path=\"url(#p4d8602758f)\" style=\"fill: none; stroke-dasharray: 9.6,2.4,1.5,2.4; stroke-dashoffset: 0; stroke: #2ca02c; stroke-width: 1.5\"/>\n   </g>\n   <g id=\"line2d_26\">\n    <path d=\"M 34.954394 13.507777 \nL 44.698573 13.597786 \nL 54.442752 13.649724 \nL 64.186931 13.694174 \n\" clip-path=\"url(#p4d8602758f)\" style=\"fill: none; stroke: #1f77b4; stroke-width: 1.5; stroke-linecap: square\"/>\n   </g>\n   <g id=\"line2d_27\">\n    <path d=\"M 49.633125 13.5 \nL 69.163125 13.832925 \n\" clip-path=\"url(#p4d8602758f)\" style=\"fill: none; stroke-dasharray: 5.55,2.4; stroke-dashoffset: 0; stroke: #ff7f0e; stroke-width: 1.5\"/>\n   </g>\n   <g id=\"line2d_28\">\n    <path d=\"M 49.633125 139.5 \n\" clip-path=\"url(#p4d8602758f)\" style=\"fill: none; stroke-dasharray: 9.6,2.4,1.5,2.4; stroke-dashoffset: 0; stroke: #2ca02c; stroke-width: 1.5\"/>\n   </g>\n   <g id=\"line2d_29\">\n    <path d=\"M 34.954394 13.507777 \nL 44.698573 13.597786 \nL 54.442752 13.649724 \nL 64.186931 13.694174 \n\" clip-path=\"url(#p4d8602758f)\" style=\"fill: none; stroke: #1f77b4; stroke-width: 1.5; stroke-linecap: square\"/>\n   </g>\n   <g id=\"line2d_30\">\n    <path d=\"M 49.633125 13.5 \nL 69.163125 13.832925 \n\" clip-path=\"url(#p4d8602758f)\" style=\"fill: none; stroke-dasharray: 5.55,2.4; stroke-dashoffset: 0; stroke: #ff7f0e; stroke-width: 1.5\"/>\n   </g>\n   <g id=\"line2d_31\">\n    <path d=\"M 49.633125 139.5 \nL 69.163125 139.460508 \n\" clip-path=\"url(#p4d8602758f)\" style=\"fill: none; stroke-dasharray: 9.6,2.4,1.5,2.4; stroke-dashoffset: 0; stroke: #2ca02c; stroke-width: 1.5\"/>\n   </g>\n   <g id=\"line2d_32\">\n    <path d=\"M 34.954394 13.507777 \nL 44.698573 13.597786 \nL 54.442752 13.649724 \nL 64.186931 13.694174 \nL 73.93111 13.875739 \n\" clip-path=\"url(#p4d8602758f)\" style=\"fill: none; stroke: #1f77b4; stroke-width: 1.5; stroke-linecap: square\"/>\n   </g>\n   <g id=\"line2d_33\">\n    <path d=\"M 49.633125 13.5 \nL 69.163125 13.832925 \n\" clip-path=\"url(#p4d8602758f)\" style=\"fill: none; stroke-dasharray: 5.55,2.4; stroke-dashoffset: 0; stroke: #ff7f0e; stroke-width: 1.5\"/>\n   </g>\n   <g id=\"line2d_34\">\n    <path d=\"M 49.633125 139.5 \nL 69.163125 139.460508 \n\" clip-path=\"url(#p4d8602758f)\" style=\"fill: none; stroke-dasharray: 9.6,2.4,1.5,2.4; stroke-dashoffset: 0; stroke: #2ca02c; stroke-width: 1.5\"/>\n   </g>\n   <g id=\"line2d_35\">\n    <path d=\"M 34.954394 13.507777 \nL 44.698573 13.597786 \nL 54.442752 13.649724 \nL 64.186931 13.694174 \nL 73.93111 13.875739 \nL 83.675289 14.540067 \n\" clip-path=\"url(#p4d8602758f)\" style=\"fill: none; stroke: #1f77b4; stroke-width: 1.5; stroke-linecap: square\"/>\n   </g>\n   <g id=\"line2d_36\">\n    <path d=\"M 49.633125 13.5 \nL 69.163125 13.832925 \n\" clip-path=\"url(#p4d8602758f)\" style=\"fill: none; stroke-dasharray: 5.55,2.4; stroke-dashoffset: 0; stroke: #ff7f0e; stroke-width: 1.5\"/>\n   </g>\n   <g id=\"line2d_37\">\n    <path d=\"M 49.633125 139.5 \nL 69.163125 139.460508 \n\" clip-path=\"url(#p4d8602758f)\" style=\"fill: none; stroke-dasharray: 9.6,2.4,1.5,2.4; stroke-dashoffset: 0; stroke: #2ca02c; stroke-width: 1.5\"/>\n   </g>\n   <g id=\"line2d_38\">\n    <path d=\"M 34.954394 13.507777 \nL 44.698573 13.597786 \nL 54.442752 13.649724 \nL 64.186931 13.694174 \nL 73.93111 13.875739 \nL 83.675289 14.540067 \n\" clip-path=\"url(#p4d8602758f)\" style=\"fill: none; stroke: #1f77b4; stroke-width: 1.5; stroke-linecap: square\"/>\n   </g>\n   <g id=\"line2d_39\">\n    <path d=\"M 49.633125 13.5 \nL 69.163125 13.832925 \nL 88.693125 15.548816 \n\" clip-path=\"url(#p4d8602758f)\" style=\"fill: none; stroke-dasharray: 5.55,2.4; stroke-dashoffset: 0; stroke: #ff7f0e; stroke-width: 1.5\"/>\n   </g>\n   <g id=\"line2d_40\">\n    <path d=\"M 49.633125 139.5 \nL 69.163125 139.460508 \n\" clip-path=\"url(#p4d8602758f)\" style=\"fill: none; stroke-dasharray: 9.6,2.4,1.5,2.4; stroke-dashoffset: 0; stroke: #2ca02c; stroke-width: 1.5\"/>\n   </g>\n   <g id=\"line2d_41\">\n    <path d=\"M 34.954394 13.507777 \nL 44.698573 13.597786 \nL 54.442752 13.649724 \nL 64.186931 13.694174 \nL 73.93111 13.875739 \nL 83.675289 14.540067 \n\" clip-path=\"url(#p4d8602758f)\" style=\"fill: none; stroke: #1f77b4; stroke-width: 1.5; stroke-linecap: square\"/>\n   </g>\n   <g id=\"line2d_42\">\n    <path d=\"M 49.633125 13.5 \nL 69.163125 13.832925 \nL 88.693125 15.548816 \n\" clip-path=\"url(#p4d8602758f)\" style=\"fill: none; stroke-dasharray: 5.55,2.4; stroke-dashoffset: 0; stroke: #ff7f0e; stroke-width: 1.5\"/>\n   </g>\n   <g id=\"line2d_43\">\n    <path d=\"M 49.633125 139.5 \nL 69.163125 139.460508 \nL 88.693125 134.467574 \n\" clip-path=\"url(#p4d8602758f)\" style=\"fill: none; stroke-dasharray: 9.6,2.4,1.5,2.4; stroke-dashoffset: 0; stroke: #2ca02c; stroke-width: 1.5\"/>\n   </g>\n   <g id=\"line2d_44\">\n    <path d=\"M 34.954394 13.507777 \nL 44.698573 13.597786 \nL 54.442752 13.649724 \nL 64.186931 13.694174 \nL 73.93111 13.875739 \nL 83.675289 14.540067 \nL 93.419468 20.333257 \n\" clip-path=\"url(#p4d8602758f)\" style=\"fill: none; stroke: #1f77b4; stroke-width: 1.5; stroke-linecap: square\"/>\n   </g>\n   <g id=\"line2d_45\">\n    <path d=\"M 49.633125 13.5 \nL 69.163125 13.832925 \nL 88.693125 15.548816 \n\" clip-path=\"url(#p4d8602758f)\" style=\"fill: none; stroke-dasharray: 5.55,2.4; stroke-dashoffset: 0; stroke: #ff7f0e; stroke-width: 1.5\"/>\n   </g>\n   <g id=\"line2d_46\">\n    <path d=\"M 49.633125 139.5 \nL 69.163125 139.460508 \nL 88.693125 134.467574 \n\" clip-path=\"url(#p4d8602758f)\" style=\"fill: none; stroke-dasharray: 9.6,2.4,1.5,2.4; stroke-dashoffset: 0; stroke: #2ca02c; stroke-width: 1.5\"/>\n   </g>\n   <g id=\"line2d_47\">\n    <path d=\"M 34.954394 13.507777 \nL 44.698573 13.597786 \nL 54.442752 13.649724 \nL 64.186931 13.694174 \nL 73.93111 13.875739 \nL 83.675289 14.540067 \nL 93.419468 20.333257 \nL 103.163647 55.194014 \n\" clip-path=\"url(#p4d8602758f)\" style=\"fill: none; stroke: #1f77b4; stroke-width: 1.5; stroke-linecap: square\"/>\n   </g>\n   <g id=\"line2d_48\">\n    <path d=\"M 49.633125 13.5 \nL 69.163125 13.832925 \nL 88.693125 15.548816 \n\" clip-path=\"url(#p4d8602758f)\" style=\"fill: none; stroke-dasharray: 5.55,2.4; stroke-dashoffset: 0; stroke: #ff7f0e; stroke-width: 1.5\"/>\n   </g>\n   <g id=\"line2d_49\">\n    <path d=\"M 49.633125 139.5 \nL 69.163125 139.460508 \nL 88.693125 134.467574 \n\" clip-path=\"url(#p4d8602758f)\" style=\"fill: none; stroke-dasharray: 9.6,2.4,1.5,2.4; stroke-dashoffset: 0; stroke: #2ca02c; stroke-width: 1.5\"/>\n   </g>\n   <g id=\"line2d_50\">\n    <path d=\"M 34.954394 13.507777 \nL 44.698573 13.597786 \nL 54.442752 13.649724 \nL 64.186931 13.694174 \nL 73.93111 13.875739 \nL 83.675289 14.540067 \nL 93.419468 20.333257 \nL 103.163647 55.194014 \n\" clip-path=\"url(#p4d8602758f)\" style=\"fill: none; stroke: #1f77b4; stroke-width: 1.5; stroke-linecap: square\"/>\n   </g>\n   <g id=\"line2d_51\">\n    <path d=\"M 49.633125 13.5 \nL 69.163125 13.832925 \nL 88.693125 15.548816 \nL 108.223125 69.379015 \n\" clip-path=\"url(#p4d8602758f)\" style=\"fill: none; stroke-dasharray: 5.55,2.4; stroke-dashoffset: 0; stroke: #ff7f0e; stroke-width: 1.5\"/>\n   </g>\n   <g id=\"line2d_52\">\n    <path d=\"M 49.633125 139.5 \nL 69.163125 139.460508 \nL 88.693125 134.467574 \n\" clip-path=\"url(#p4d8602758f)\" style=\"fill: none; stroke-dasharray: 9.6,2.4,1.5,2.4; stroke-dashoffset: 0; stroke: #2ca02c; stroke-width: 1.5\"/>\n   </g>\n   <g id=\"line2d_53\">\n    <path d=\"M 34.954394 13.507777 \nL 44.698573 13.597786 \nL 54.442752 13.649724 \nL 64.186931 13.694174 \nL 73.93111 13.875739 \nL 83.675289 14.540067 \nL 93.419468 20.333257 \nL 103.163647 55.194014 \n\" clip-path=\"url(#p4d8602758f)\" style=\"fill: none; stroke: #1f77b4; stroke-width: 1.5; stroke-linecap: square\"/>\n   </g>\n   <g id=\"line2d_54\">\n    <path d=\"M 49.633125 13.5 \nL 69.163125 13.832925 \nL 88.693125 15.548816 \nL 108.223125 69.379015 \n\" clip-path=\"url(#p4d8602758f)\" style=\"fill: none; stroke-dasharray: 5.55,2.4; stroke-dashoffset: 0; stroke: #ff7f0e; stroke-width: 1.5\"/>\n   </g>\n   <g id=\"line2d_55\">\n    <path d=\"M 49.633125 139.5 \nL 69.163125 139.460508 \nL 88.693125 134.467574 \nL 108.223125 114.817418 \n\" clip-path=\"url(#p4d8602758f)\" style=\"fill: none; stroke-dasharray: 9.6,2.4,1.5,2.4; stroke-dashoffset: 0; stroke: #2ca02c; stroke-width: 1.5\"/>\n   </g>\n   <g id=\"line2d_56\">\n    <path d=\"M 34.954394 13.507777 \nL 44.698573 13.597786 \nL 54.442752 13.649724 \nL 64.186931 13.694174 \nL 73.93111 13.875739 \nL 83.675289 14.540067 \nL 93.419468 20.333257 \nL 103.163647 55.194014 \nL 112.907826 74.610172 \n\" clip-path=\"url(#p4d8602758f)\" style=\"fill: none; stroke: #1f77b4; stroke-width: 1.5; stroke-linecap: square\"/>\n   </g>\n   <g id=\"line2d_57\">\n    <path d=\"M 49.633125 13.5 \nL 69.163125 13.832925 \nL 88.693125 15.548816 \nL 108.223125 69.379015 \n\" clip-path=\"url(#p4d8602758f)\" style=\"fill: none; stroke-dasharray: 5.55,2.4; stroke-dashoffset: 0; stroke: #ff7f0e; stroke-width: 1.5\"/>\n   </g>\n   <g id=\"line2d_58\">\n    <path d=\"M 49.633125 139.5 \nL 69.163125 139.460508 \nL 88.693125 134.467574 \nL 108.223125 114.817418 \n\" clip-path=\"url(#p4d8602758f)\" style=\"fill: none; stroke-dasharray: 9.6,2.4,1.5,2.4; stroke-dashoffset: 0; stroke: #2ca02c; stroke-width: 1.5\"/>\n   </g>\n   <g id=\"line2d_59\">\n    <path d=\"M 34.954394 13.507777 \nL 44.698573 13.597786 \nL 54.442752 13.649724 \nL 64.186931 13.694174 \nL 73.93111 13.875739 \nL 83.675289 14.540067 \nL 93.419468 20.333257 \nL 103.163647 55.194014 \nL 112.907826 74.610172 \nL 122.652006 82.623787 \n\" clip-path=\"url(#p4d8602758f)\" style=\"fill: none; stroke: #1f77b4; stroke-width: 1.5; stroke-linecap: square\"/>\n   </g>\n   <g id=\"line2d_60\">\n    <path d=\"M 49.633125 13.5 \nL 69.163125 13.832925 \nL 88.693125 15.548816 \nL 108.223125 69.379015 \n\" clip-path=\"url(#p4d8602758f)\" style=\"fill: none; stroke-dasharray: 5.55,2.4; stroke-dashoffset: 0; stroke: #ff7f0e; stroke-width: 1.5\"/>\n   </g>\n   <g id=\"line2d_61\">\n    <path d=\"M 49.633125 139.5 \nL 69.163125 139.460508 \nL 88.693125 134.467574 \nL 108.223125 114.817418 \n\" clip-path=\"url(#p4d8602758f)\" style=\"fill: none; stroke-dasharray: 9.6,2.4,1.5,2.4; stroke-dashoffset: 0; stroke: #2ca02c; stroke-width: 1.5\"/>\n   </g>\n   <g id=\"line2d_62\">\n    <path d=\"M 34.954394 13.507777 \nL 44.698573 13.597786 \nL 54.442752 13.649724 \nL 64.186931 13.694174 \nL 73.93111 13.875739 \nL 83.675289 14.540067 \nL 93.419468 20.333257 \nL 103.163647 55.194014 \nL 112.907826 74.610172 \nL 122.652006 82.623787 \n\" clip-path=\"url(#p4d8602758f)\" style=\"fill: none; stroke: #1f77b4; stroke-width: 1.5; stroke-linecap: square\"/>\n   </g>\n   <g id=\"line2d_63\">\n    <path d=\"M 49.633125 13.5 \nL 69.163125 13.832925 \nL 88.693125 15.548816 \nL 108.223125 69.379015 \nL 127.753125 85.714899 \n\" clip-path=\"url(#p4d8602758f)\" style=\"fill: none; stroke-dasharray: 5.55,2.4; stroke-dashoffset: 0; stroke: #ff7f0e; stroke-width: 1.5\"/>\n   </g>\n   <g id=\"line2d_64\">\n    <path d=\"M 49.633125 139.5 \nL 69.163125 139.460508 \nL 88.693125 134.467574 \nL 108.223125 114.817418 \n\" clip-path=\"url(#p4d8602758f)\" style=\"fill: none; stroke-dasharray: 9.6,2.4,1.5,2.4; stroke-dashoffset: 0; stroke: #2ca02c; stroke-width: 1.5\"/>\n   </g>\n   <g id=\"line2d_65\">\n    <path d=\"M 34.954394 13.507777 \nL 44.698573 13.597786 \nL 54.442752 13.649724 \nL 64.186931 13.694174 \nL 73.93111 13.875739 \nL 83.675289 14.540067 \nL 93.419468 20.333257 \nL 103.163647 55.194014 \nL 112.907826 74.610172 \nL 122.652006 82.623787 \n\" clip-path=\"url(#p4d8602758f)\" style=\"fill: none; stroke: #1f77b4; stroke-width: 1.5; stroke-linecap: square\"/>\n   </g>\n   <g id=\"line2d_66\">\n    <path d=\"M 49.633125 13.5 \nL 69.163125 13.832925 \nL 88.693125 15.548816 \nL 108.223125 69.379015 \nL 127.753125 85.714899 \n\" clip-path=\"url(#p4d8602758f)\" style=\"fill: none; stroke-dasharray: 5.55,2.4; stroke-dashoffset: 0; stroke: #ff7f0e; stroke-width: 1.5\"/>\n   </g>\n   <g id=\"line2d_67\">\n    <path d=\"M 49.633125 139.5 \nL 69.163125 139.460508 \nL 88.693125 134.467574 \nL 108.223125 114.817418 \nL 127.753125 110.851279 \n\" clip-path=\"url(#p4d8602758f)\" style=\"fill: none; stroke-dasharray: 9.6,2.4,1.5,2.4; stroke-dashoffset: 0; stroke: #2ca02c; stroke-width: 1.5\"/>\n   </g>\n   <g id=\"line2d_68\">\n    <path d=\"M 34.954394 13.507777 \nL 44.698573 13.597786 \nL 54.442752 13.649724 \nL 64.186931 13.694174 \nL 73.93111 13.875739 \nL 83.675289 14.540067 \nL 93.419468 20.333257 \nL 103.163647 55.194014 \nL 112.907826 74.610172 \nL 122.652006 82.623787 \nL 132.396185 87.728727 \n\" clip-path=\"url(#p4d8602758f)\" style=\"fill: none; stroke: #1f77b4; stroke-width: 1.5; stroke-linecap: square\"/>\n   </g>\n   <g id=\"line2d_69\">\n    <path d=\"M 49.633125 13.5 \nL 69.163125 13.832925 \nL 88.693125 15.548816 \nL 108.223125 69.379015 \nL 127.753125 85.714899 \n\" clip-path=\"url(#p4d8602758f)\" style=\"fill: none; stroke-dasharray: 5.55,2.4; stroke-dashoffset: 0; stroke: #ff7f0e; stroke-width: 1.5\"/>\n   </g>\n   <g id=\"line2d_70\">\n    <path d=\"M 49.633125 139.5 \nL 69.163125 139.460508 \nL 88.693125 134.467574 \nL 108.223125 114.817418 \nL 127.753125 110.851279 \n\" clip-path=\"url(#p4d8602758f)\" style=\"fill: none; stroke-dasharray: 9.6,2.4,1.5,2.4; stroke-dashoffset: 0; stroke: #2ca02c; stroke-width: 1.5\"/>\n   </g>\n   <g id=\"line2d_71\">\n    <path d=\"M 34.954394 13.507777 \nL 44.698573 13.597786 \nL 54.442752 13.649724 \nL 64.186931 13.694174 \nL 73.93111 13.875739 \nL 83.675289 14.540067 \nL 93.419468 20.333257 \nL 103.163647 55.194014 \nL 112.907826 74.610172 \nL 122.652006 82.623787 \nL 132.396185 87.728727 \nL 142.140364 92.208665 \n\" clip-path=\"url(#p4d8602758f)\" style=\"fill: none; stroke: #1f77b4; stroke-width: 1.5; stroke-linecap: square\"/>\n   </g>\n   <g id=\"line2d_72\">\n    <path d=\"M 49.633125 13.5 \nL 69.163125 13.832925 \nL 88.693125 15.548816 \nL 108.223125 69.379015 \nL 127.753125 85.714899 \n\" clip-path=\"url(#p4d8602758f)\" style=\"fill: none; stroke-dasharray: 5.55,2.4; stroke-dashoffset: 0; stroke: #ff7f0e; stroke-width: 1.5\"/>\n   </g>\n   <g id=\"line2d_73\">\n    <path d=\"M 49.633125 139.5 \nL 69.163125 139.460508 \nL 88.693125 134.467574 \nL 108.223125 114.817418 \nL 127.753125 110.851279 \n\" clip-path=\"url(#p4d8602758f)\" style=\"fill: none; stroke-dasharray: 9.6,2.4,1.5,2.4; stroke-dashoffset: 0; stroke: #2ca02c; stroke-width: 1.5\"/>\n   </g>\n   <g id=\"line2d_74\">\n    <path d=\"M 34.954394 13.507777 \nL 44.698573 13.597786 \nL 54.442752 13.649724 \nL 64.186931 13.694174 \nL 73.93111 13.875739 \nL 83.675289 14.540067 \nL 93.419468 20.333257 \nL 103.163647 55.194014 \nL 112.907826 74.610172 \nL 122.652006 82.623787 \nL 132.396185 87.728727 \nL 142.140364 92.208665 \n\" clip-path=\"url(#p4d8602758f)\" style=\"fill: none; stroke: #1f77b4; stroke-width: 1.5; stroke-linecap: square\"/>\n   </g>\n   <g id=\"line2d_75\">\n    <path d=\"M 49.633125 13.5 \nL 69.163125 13.832925 \nL 88.693125 15.548816 \nL 108.223125 69.379015 \nL 127.753125 85.714899 \nL 147.283125 93.188506 \n\" clip-path=\"url(#p4d8602758f)\" style=\"fill: none; stroke-dasharray: 5.55,2.4; stroke-dashoffset: 0; stroke: #ff7f0e; stroke-width: 1.5\"/>\n   </g>\n   <g id=\"line2d_76\">\n    <path d=\"M 49.633125 139.5 \nL 69.163125 139.460508 \nL 88.693125 134.467574 \nL 108.223125 114.817418 \nL 127.753125 110.851279 \n\" clip-path=\"url(#p4d8602758f)\" style=\"fill: none; stroke-dasharray: 9.6,2.4,1.5,2.4; stroke-dashoffset: 0; stroke: #2ca02c; stroke-width: 1.5\"/>\n   </g>\n   <g id=\"line2d_77\">\n    <path d=\"M 34.954394 13.507777 \nL 44.698573 13.597786 \nL 54.442752 13.649724 \nL 64.186931 13.694174 \nL 73.93111 13.875739 \nL 83.675289 14.540067 \nL 93.419468 20.333257 \nL 103.163647 55.194014 \nL 112.907826 74.610172 \nL 122.652006 82.623787 \nL 132.396185 87.728727 \nL 142.140364 92.208665 \n\" clip-path=\"url(#p4d8602758f)\" style=\"fill: none; stroke: #1f77b4; stroke-width: 1.5; stroke-linecap: square\"/>\n   </g>\n   <g id=\"line2d_78\">\n    <path d=\"M 49.633125 13.5 \nL 69.163125 13.832925 \nL 88.693125 15.548816 \nL 108.223125 69.379015 \nL 127.753125 85.714899 \nL 147.283125 93.188506 \n\" clip-path=\"url(#p4d8602758f)\" style=\"fill: none; stroke-dasharray: 5.55,2.4; stroke-dashoffset: 0; stroke: #ff7f0e; stroke-width: 1.5\"/>\n   </g>\n   <g id=\"line2d_79\">\n    <path d=\"M 49.633125 139.5 \nL 69.163125 139.460508 \nL 88.693125 134.467574 \nL 108.223125 114.817418 \nL 127.753125 110.851279 \nL 147.283125 107.708834 \n\" clip-path=\"url(#p4d8602758f)\" style=\"fill: none; stroke-dasharray: 9.6,2.4,1.5,2.4; stroke-dashoffset: 0; stroke: #2ca02c; stroke-width: 1.5\"/>\n   </g>\n   <g id=\"line2d_80\">\n    <path d=\"M 34.954394 13.507777 \nL 44.698573 13.597786 \nL 54.442752 13.649724 \nL 64.186931 13.694174 \nL 73.93111 13.875739 \nL 83.675289 14.540067 \nL 93.419468 20.333257 \nL 103.163647 55.194014 \nL 112.907826 74.610172 \nL 122.652006 82.623787 \nL 132.396185 87.728727 \nL 142.140364 92.208665 \nL 151.884543 94.747522 \n\" clip-path=\"url(#p4d8602758f)\" style=\"fill: none; stroke: #1f77b4; stroke-width: 1.5; stroke-linecap: square\"/>\n   </g>\n   <g id=\"line2d_81\">\n    <path d=\"M 49.633125 13.5 \nL 69.163125 13.832925 \nL 88.693125 15.548816 \nL 108.223125 69.379015 \nL 127.753125 85.714899 \nL 147.283125 93.188506 \n\" clip-path=\"url(#p4d8602758f)\" style=\"fill: none; stroke-dasharray: 5.55,2.4; stroke-dashoffset: 0; stroke: #ff7f0e; stroke-width: 1.5\"/>\n   </g>\n   <g id=\"line2d_82\">\n    <path d=\"M 49.633125 139.5 \nL 69.163125 139.460508 \nL 88.693125 134.467574 \nL 108.223125 114.817418 \nL 127.753125 110.851279 \nL 147.283125 107.708834 \n\" clip-path=\"url(#p4d8602758f)\" style=\"fill: none; stroke-dasharray: 9.6,2.4,1.5,2.4; stroke-dashoffset: 0; stroke: #2ca02c; stroke-width: 1.5\"/>\n   </g>\n   <g id=\"line2d_83\">\n    <path d=\"M 34.954394 13.507777 \nL 44.698573 13.597786 \nL 54.442752 13.649724 \nL 64.186931 13.694174 \nL 73.93111 13.875739 \nL 83.675289 14.540067 \nL 93.419468 20.333257 \nL 103.163647 55.194014 \nL 112.907826 74.610172 \nL 122.652006 82.623787 \nL 132.396185 87.728727 \nL 142.140364 92.208665 \nL 151.884543 94.747522 \nL 161.628722 96.442649 \n\" clip-path=\"url(#p4d8602758f)\" style=\"fill: none; stroke: #1f77b4; stroke-width: 1.5; stroke-linecap: square\"/>\n   </g>\n   <g id=\"line2d_84\">\n    <path d=\"M 49.633125 13.5 \nL 69.163125 13.832925 \nL 88.693125 15.548816 \nL 108.223125 69.379015 \nL 127.753125 85.714899 \nL 147.283125 93.188506 \n\" clip-path=\"url(#p4d8602758f)\" style=\"fill: none; stroke-dasharray: 5.55,2.4; stroke-dashoffset: 0; stroke: #ff7f0e; stroke-width: 1.5\"/>\n   </g>\n   <g id=\"line2d_85\">\n    <path d=\"M 49.633125 139.5 \nL 69.163125 139.460508 \nL 88.693125 134.467574 \nL 108.223125 114.817418 \nL 127.753125 110.851279 \nL 147.283125 107.708834 \n\" clip-path=\"url(#p4d8602758f)\" style=\"fill: none; stroke-dasharray: 9.6,2.4,1.5,2.4; stroke-dashoffset: 0; stroke: #2ca02c; stroke-width: 1.5\"/>\n   </g>\n   <g id=\"line2d_86\">\n    <path d=\"M 34.954394 13.507777 \nL 44.698573 13.597786 \nL 54.442752 13.649724 \nL 64.186931 13.694174 \nL 73.93111 13.875739 \nL 83.675289 14.540067 \nL 93.419468 20.333257 \nL 103.163647 55.194014 \nL 112.907826 74.610172 \nL 122.652006 82.623787 \nL 132.396185 87.728727 \nL 142.140364 92.208665 \nL 151.884543 94.747522 \nL 161.628722 96.442649 \n\" clip-path=\"url(#p4d8602758f)\" style=\"fill: none; stroke: #1f77b4; stroke-width: 1.5; stroke-linecap: square\"/>\n   </g>\n   <g id=\"line2d_87\">\n    <path d=\"M 49.633125 13.5 \nL 69.163125 13.832925 \nL 88.693125 15.548816 \nL 108.223125 69.379015 \nL 127.753125 85.714899 \nL 147.283125 93.188506 \nL 166.813125 96.695263 \n\" clip-path=\"url(#p4d8602758f)\" style=\"fill: none; stroke-dasharray: 5.55,2.4; stroke-dashoffset: 0; stroke: #ff7f0e; stroke-width: 1.5\"/>\n   </g>\n   <g id=\"line2d_88\">\n    <path d=\"M 49.633125 139.5 \nL 69.163125 139.460508 \nL 88.693125 134.467574 \nL 108.223125 114.817418 \nL 127.753125 110.851279 \nL 147.283125 107.708834 \n\" clip-path=\"url(#p4d8602758f)\" style=\"fill: none; stroke-dasharray: 9.6,2.4,1.5,2.4; stroke-dashoffset: 0; stroke: #2ca02c; stroke-width: 1.5\"/>\n   </g>\n   <g id=\"line2d_89\">\n    <path d=\"M 34.954394 13.507777 \nL 44.698573 13.597786 \nL 54.442752 13.649724 \nL 64.186931 13.694174 \nL 73.93111 13.875739 \nL 83.675289 14.540067 \nL 93.419468 20.333257 \nL 103.163647 55.194014 \nL 112.907826 74.610172 \nL 122.652006 82.623787 \nL 132.396185 87.728727 \nL 142.140364 92.208665 \nL 151.884543 94.747522 \nL 161.628722 96.442649 \n\" clip-path=\"url(#p4d8602758f)\" style=\"fill: none; stroke: #1f77b4; stroke-width: 1.5; stroke-linecap: square\"/>\n   </g>\n   <g id=\"line2d_90\">\n    <path d=\"M 49.633125 13.5 \nL 69.163125 13.832925 \nL 88.693125 15.548816 \nL 108.223125 69.379015 \nL 127.753125 85.714899 \nL 147.283125 93.188506 \nL 166.813125 96.695263 \n\" clip-path=\"url(#p4d8602758f)\" style=\"fill: none; stroke-dasharray: 5.55,2.4; stroke-dashoffset: 0; stroke: #ff7f0e; stroke-width: 1.5\"/>\n   </g>\n   <g id=\"line2d_91\">\n    <path d=\"M 49.633125 139.5 \nL 69.163125 139.460508 \nL 88.693125 134.467574 \nL 108.223125 114.817418 \nL 127.753125 110.851279 \nL 147.283125 107.708834 \nL 166.813125 105.553692 \n\" clip-path=\"url(#p4d8602758f)\" style=\"fill: none; stroke-dasharray: 9.6,2.4,1.5,2.4; stroke-dashoffset: 0; stroke: #2ca02c; stroke-width: 1.5\"/>\n   </g>\n   <g id=\"line2d_92\">\n    <path d=\"M 34.954394 13.507777 \nL 44.698573 13.597786 \nL 54.442752 13.649724 \nL 64.186931 13.694174 \nL 73.93111 13.875739 \nL 83.675289 14.540067 \nL 93.419468 20.333257 \nL 103.163647 55.194014 \nL 112.907826 74.610172 \nL 122.652006 82.623787 \nL 132.396185 87.728727 \nL 142.140364 92.208665 \nL 151.884543 94.747522 \nL 161.628722 96.442649 \nL 171.372901 97.722718 \n\" clip-path=\"url(#p4d8602758f)\" style=\"fill: none; stroke: #1f77b4; stroke-width: 1.5; stroke-linecap: square\"/>\n   </g>\n   <g id=\"line2d_93\">\n    <path d=\"M 49.633125 13.5 \nL 69.163125 13.832925 \nL 88.693125 15.548816 \nL 108.223125 69.379015 \nL 127.753125 85.714899 \nL 147.283125 93.188506 \nL 166.813125 96.695263 \n\" clip-path=\"url(#p4d8602758f)\" style=\"fill: none; stroke-dasharray: 5.55,2.4; stroke-dashoffset: 0; stroke: #ff7f0e; stroke-width: 1.5\"/>\n   </g>\n   <g id=\"line2d_94\">\n    <path d=\"M 49.633125 139.5 \nL 69.163125 139.460508 \nL 88.693125 134.467574 \nL 108.223125 114.817418 \nL 127.753125 110.851279 \nL 147.283125 107.708834 \nL 166.813125 105.553692 \n\" clip-path=\"url(#p4d8602758f)\" style=\"fill: none; stroke-dasharray: 9.6,2.4,1.5,2.4; stroke-dashoffset: 0; stroke: #2ca02c; stroke-width: 1.5\"/>\n   </g>\n   <g id=\"line2d_95\">\n    <path d=\"M 34.954394 13.507777 \nL 44.698573 13.597786 \nL 54.442752 13.649724 \nL 64.186931 13.694174 \nL 73.93111 13.875739 \nL 83.675289 14.540067 \nL 93.419468 20.333257 \nL 103.163647 55.194014 \nL 112.907826 74.610172 \nL 122.652006 82.623787 \nL 132.396185 87.728727 \nL 142.140364 92.208665 \nL 151.884543 94.747522 \nL 161.628722 96.442649 \nL 171.372901 97.722718 \nL 181.11708 99.963438 \n\" clip-path=\"url(#p4d8602758f)\" style=\"fill: none; stroke: #1f77b4; stroke-width: 1.5; stroke-linecap: square\"/>\n   </g>\n   <g id=\"line2d_96\">\n    <path d=\"M 49.633125 13.5 \nL 69.163125 13.832925 \nL 88.693125 15.548816 \nL 108.223125 69.379015 \nL 127.753125 85.714899 \nL 147.283125 93.188506 \nL 166.813125 96.695263 \n\" clip-path=\"url(#p4d8602758f)\" style=\"fill: none; stroke-dasharray: 5.55,2.4; stroke-dashoffset: 0; stroke: #ff7f0e; stroke-width: 1.5\"/>\n   </g>\n   <g id=\"line2d_97\">\n    <path d=\"M 49.633125 139.5 \nL 69.163125 139.460508 \nL 88.693125 134.467574 \nL 108.223125 114.817418 \nL 127.753125 110.851279 \nL 147.283125 107.708834 \nL 166.813125 105.553692 \n\" clip-path=\"url(#p4d8602758f)\" style=\"fill: none; stroke-dasharray: 9.6,2.4,1.5,2.4; stroke-dashoffset: 0; stroke: #2ca02c; stroke-width: 1.5\"/>\n   </g>\n   <g id=\"line2d_98\">\n    <path d=\"M 34.954394 13.507777 \nL 44.698573 13.597786 \nL 54.442752 13.649724 \nL 64.186931 13.694174 \nL 73.93111 13.875739 \nL 83.675289 14.540067 \nL 93.419468 20.333257 \nL 103.163647 55.194014 \nL 112.907826 74.610172 \nL 122.652006 82.623787 \nL 132.396185 87.728727 \nL 142.140364 92.208665 \nL 151.884543 94.747522 \nL 161.628722 96.442649 \nL 171.372901 97.722718 \nL 181.11708 99.963438 \n\" clip-path=\"url(#p4d8602758f)\" style=\"fill: none; stroke: #1f77b4; stroke-width: 1.5; stroke-linecap: square\"/>\n   </g>\n   <g id=\"line2d_99\">\n    <path d=\"M 49.633125 13.5 \nL 69.163125 13.832925 \nL 88.693125 15.548816 \nL 108.223125 69.379015 \nL 127.753125 85.714899 \nL 147.283125 93.188506 \nL 166.813125 96.695263 \nL 186.343125 99.779578 \n\" clip-path=\"url(#p4d8602758f)\" style=\"fill: none; stroke-dasharray: 5.55,2.4; stroke-dashoffset: 0; stroke: #ff7f0e; stroke-width: 1.5\"/>\n   </g>\n   <g id=\"line2d_100\">\n    <path d=\"M 49.633125 139.5 \nL 69.163125 139.460508 \nL 88.693125 134.467574 \nL 108.223125 114.817418 \nL 127.753125 110.851279 \nL 147.283125 107.708834 \nL 166.813125 105.553692 \n\" clip-path=\"url(#p4d8602758f)\" style=\"fill: none; stroke-dasharray: 9.6,2.4,1.5,2.4; stroke-dashoffset: 0; stroke: #2ca02c; stroke-width: 1.5\"/>\n   </g>\n   <g id=\"line2d_101\">\n    <path d=\"M 34.954394 13.507777 \nL 44.698573 13.597786 \nL 54.442752 13.649724 \nL 64.186931 13.694174 \nL 73.93111 13.875739 \nL 83.675289 14.540067 \nL 93.419468 20.333257 \nL 103.163647 55.194014 \nL 112.907826 74.610172 \nL 122.652006 82.623787 \nL 132.396185 87.728727 \nL 142.140364 92.208665 \nL 151.884543 94.747522 \nL 161.628722 96.442649 \nL 171.372901 97.722718 \nL 181.11708 99.963438 \n\" clip-path=\"url(#p4d8602758f)\" style=\"fill: none; stroke: #1f77b4; stroke-width: 1.5; stroke-linecap: square\"/>\n   </g>\n   <g id=\"line2d_102\">\n    <path d=\"M 49.633125 13.5 \nL 69.163125 13.832925 \nL 88.693125 15.548816 \nL 108.223125 69.379015 \nL 127.753125 85.714899 \nL 147.283125 93.188506 \nL 166.813125 96.695263 \nL 186.343125 99.779578 \n\" clip-path=\"url(#p4d8602758f)\" style=\"fill: none; stroke-dasharray: 5.55,2.4; stroke-dashoffset: 0; stroke: #ff7f0e; stroke-width: 1.5\"/>\n   </g>\n   <g id=\"line2d_103\">\n    <path d=\"M 49.633125 139.5 \nL 69.163125 139.460508 \nL 88.693125 134.467574 \nL 108.223125 114.817418 \nL 127.753125 110.851279 \nL 147.283125 107.708834 \nL 166.813125 105.553692 \nL 186.343125 105.226471 \n\" clip-path=\"url(#p4d8602758f)\" style=\"fill: none; stroke-dasharray: 9.6,2.4,1.5,2.4; stroke-dashoffset: 0; stroke: #2ca02c; stroke-width: 1.5\"/>\n   </g>\n   <g id=\"line2d_104\">\n    <path d=\"M 34.954394 13.507777 \nL 44.698573 13.597786 \nL 54.442752 13.649724 \nL 64.186931 13.694174 \nL 73.93111 13.875739 \nL 83.675289 14.540067 \nL 93.419468 20.333257 \nL 103.163647 55.194014 \nL 112.907826 74.610172 \nL 122.652006 82.623787 \nL 132.396185 87.728727 \nL 142.140364 92.208665 \nL 151.884543 94.747522 \nL 161.628722 96.442649 \nL 171.372901 97.722718 \nL 181.11708 99.963438 \nL 190.861259 100.869738 \n\" clip-path=\"url(#p4d8602758f)\" style=\"fill: none; stroke: #1f77b4; stroke-width: 1.5; stroke-linecap: square\"/>\n   </g>\n   <g id=\"line2d_105\">\n    <path d=\"M 49.633125 13.5 \nL 69.163125 13.832925 \nL 88.693125 15.548816 \nL 108.223125 69.379015 \nL 127.753125 85.714899 \nL 147.283125 93.188506 \nL 166.813125 96.695263 \nL 186.343125 99.779578 \n\" clip-path=\"url(#p4d8602758f)\" style=\"fill: none; stroke-dasharray: 5.55,2.4; stroke-dashoffset: 0; stroke: #ff7f0e; stroke-width: 1.5\"/>\n   </g>\n   <g id=\"line2d_106\">\n    <path d=\"M 49.633125 139.5 \nL 69.163125 139.460508 \nL 88.693125 134.467574 \nL 108.223125 114.817418 \nL 127.753125 110.851279 \nL 147.283125 107.708834 \nL 166.813125 105.553692 \nL 186.343125 105.226471 \n\" clip-path=\"url(#p4d8602758f)\" style=\"fill: none; stroke-dasharray: 9.6,2.4,1.5,2.4; stroke-dashoffset: 0; stroke: #2ca02c; stroke-width: 1.5\"/>\n   </g>\n   <g id=\"line2d_107\">\n    <path d=\"M 34.954394 13.507777 \nL 44.698573 13.597786 \nL 54.442752 13.649724 \nL 64.186931 13.694174 \nL 73.93111 13.875739 \nL 83.675289 14.540067 \nL 93.419468 20.333257 \nL 103.163647 55.194014 \nL 112.907826 74.610172 \nL 122.652006 82.623787 \nL 132.396185 87.728727 \nL 142.140364 92.208665 \nL 151.884543 94.747522 \nL 161.628722 96.442649 \nL 171.372901 97.722718 \nL 181.11708 99.963438 \nL 190.861259 100.869738 \nL 200.605438 102.191337 \n\" clip-path=\"url(#p4d8602758f)\" style=\"fill: none; stroke: #1f77b4; stroke-width: 1.5; stroke-linecap: square\"/>\n   </g>\n   <g id=\"line2d_108\">\n    <path d=\"M 49.633125 13.5 \nL 69.163125 13.832925 \nL 88.693125 15.548816 \nL 108.223125 69.379015 \nL 127.753125 85.714899 \nL 147.283125 93.188506 \nL 166.813125 96.695263 \nL 186.343125 99.779578 \n\" clip-path=\"url(#p4d8602758f)\" style=\"fill: none; stroke-dasharray: 5.55,2.4; stroke-dashoffset: 0; stroke: #ff7f0e; stroke-width: 1.5\"/>\n   </g>\n   <g id=\"line2d_109\">\n    <path d=\"M 49.633125 139.5 \nL 69.163125 139.460508 \nL 88.693125 134.467574 \nL 108.223125 114.817418 \nL 127.753125 110.851279 \nL 147.283125 107.708834 \nL 166.813125 105.553692 \nL 186.343125 105.226471 \n\" clip-path=\"url(#p4d8602758f)\" style=\"fill: none; stroke-dasharray: 9.6,2.4,1.5,2.4; stroke-dashoffset: 0; stroke: #2ca02c; stroke-width: 1.5\"/>\n   </g>\n   <g id=\"line2d_110\">\n    <path d=\"M 34.954394 13.507777 \nL 44.698573 13.597786 \nL 54.442752 13.649724 \nL 64.186931 13.694174 \nL 73.93111 13.875739 \nL 83.675289 14.540067 \nL 93.419468 20.333257 \nL 103.163647 55.194014 \nL 112.907826 74.610172 \nL 122.652006 82.623787 \nL 132.396185 87.728727 \nL 142.140364 92.208665 \nL 151.884543 94.747522 \nL 161.628722 96.442649 \nL 171.372901 97.722718 \nL 181.11708 99.963438 \nL 190.861259 100.869738 \nL 200.605438 102.191337 \n\" clip-path=\"url(#p4d8602758f)\" style=\"fill: none; stroke: #1f77b4; stroke-width: 1.5; stroke-linecap: square\"/>\n   </g>\n   <g id=\"line2d_111\">\n    <path d=\"M 49.633125 13.5 \nL 69.163125 13.832925 \nL 88.693125 15.548816 \nL 108.223125 69.379015 \nL 127.753125 85.714899 \nL 147.283125 93.188506 \nL 166.813125 96.695263 \nL 186.343125 99.779578 \nL 205.873125 101.819944 \n\" clip-path=\"url(#p4d8602758f)\" style=\"fill: none; stroke-dasharray: 5.55,2.4; stroke-dashoffset: 0; stroke: #ff7f0e; stroke-width: 1.5\"/>\n   </g>\n   <g id=\"line2d_112\">\n    <path d=\"M 49.633125 139.5 \nL 69.163125 139.460508 \nL 88.693125 134.467574 \nL 108.223125 114.817418 \nL 127.753125 110.851279 \nL 147.283125 107.708834 \nL 166.813125 105.553692 \nL 186.343125 105.226471 \n\" clip-path=\"url(#p4d8602758f)\" style=\"fill: none; stroke-dasharray: 9.6,2.4,1.5,2.4; stroke-dashoffset: 0; stroke: #2ca02c; stroke-width: 1.5\"/>\n   </g>\n   <g id=\"line2d_113\">\n    <path d=\"M 34.954394 13.507777 \nL 44.698573 13.597786 \nL 54.442752 13.649724 \nL 64.186931 13.694174 \nL 73.93111 13.875739 \nL 83.675289 14.540067 \nL 93.419468 20.333257 \nL 103.163647 55.194014 \nL 112.907826 74.610172 \nL 122.652006 82.623787 \nL 132.396185 87.728727 \nL 142.140364 92.208665 \nL 151.884543 94.747522 \nL 161.628722 96.442649 \nL 171.372901 97.722718 \nL 181.11708 99.963438 \nL 190.861259 100.869738 \nL 200.605438 102.191337 \n\" clip-path=\"url(#p4d8602758f)\" style=\"fill: none; stroke: #1f77b4; stroke-width: 1.5; stroke-linecap: square\"/>\n   </g>\n   <g id=\"line2d_114\">\n    <path d=\"M 49.633125 13.5 \nL 69.163125 13.832925 \nL 88.693125 15.548816 \nL 108.223125 69.379015 \nL 127.753125 85.714899 \nL 147.283125 93.188506 \nL 166.813125 96.695263 \nL 186.343125 99.779578 \nL 205.873125 101.819944 \n\" clip-path=\"url(#p4d8602758f)\" style=\"fill: none; stroke-dasharray: 5.55,2.4; stroke-dashoffset: 0; stroke: #ff7f0e; stroke-width: 1.5\"/>\n   </g>\n   <g id=\"line2d_115\">\n    <path d=\"M 49.633125 139.5 \nL 69.163125 139.460508 \nL 88.693125 134.467574 \nL 108.223125 114.817418 \nL 127.753125 110.851279 \nL 147.283125 107.708834 \nL 166.813125 105.553692 \nL 186.343125 105.226471 \nL 205.873125 104.515613 \n\" clip-path=\"url(#p4d8602758f)\" style=\"fill: none; stroke-dasharray: 9.6,2.4,1.5,2.4; stroke-dashoffset: 0; stroke: #2ca02c; stroke-width: 1.5\"/>\n   </g>\n   <g id=\"line2d_116\">\n    <path d=\"M 34.954394 13.507777 \nL 44.698573 13.597786 \nL 54.442752 13.649724 \nL 64.186931 13.694174 \nL 73.93111 13.875739 \nL 83.675289 14.540067 \nL 93.419468 20.333257 \nL 103.163647 55.194014 \nL 112.907826 74.610172 \nL 122.652006 82.623787 \nL 132.396185 87.728727 \nL 142.140364 92.208665 \nL 151.884543 94.747522 \nL 161.628722 96.442649 \nL 171.372901 97.722718 \nL 181.11708 99.963438 \nL 190.861259 100.869738 \nL 200.605438 102.191337 \nL 210.349618 103.386242 \n\" clip-path=\"url(#p4d8602758f)\" style=\"fill: none; stroke: #1f77b4; stroke-width: 1.5; stroke-linecap: square\"/>\n   </g>\n   <g id=\"line2d_117\">\n    <path d=\"M 49.633125 13.5 \nL 69.163125 13.832925 \nL 88.693125 15.548816 \nL 108.223125 69.379015 \nL 127.753125 85.714899 \nL 147.283125 93.188506 \nL 166.813125 96.695263 \nL 186.343125 99.779578 \nL 205.873125 101.819944 \n\" clip-path=\"url(#p4d8602758f)\" style=\"fill: none; stroke-dasharray: 5.55,2.4; stroke-dashoffset: 0; stroke: #ff7f0e; stroke-width: 1.5\"/>\n   </g>\n   <g id=\"line2d_118\">\n    <path d=\"M 49.633125 139.5 \nL 69.163125 139.460508 \nL 88.693125 134.467574 \nL 108.223125 114.817418 \nL 127.753125 110.851279 \nL 147.283125 107.708834 \nL 166.813125 105.553692 \nL 186.343125 105.226471 \nL 205.873125 104.515613 \n\" clip-path=\"url(#p4d8602758f)\" style=\"fill: none; stroke-dasharray: 9.6,2.4,1.5,2.4; stroke-dashoffset: 0; stroke: #2ca02c; stroke-width: 1.5\"/>\n   </g>\n   <g id=\"line2d_119\">\n    <path d=\"M 34.954394 13.507777 \nL 44.698573 13.597786 \nL 54.442752 13.649724 \nL 64.186931 13.694174 \nL 73.93111 13.875739 \nL 83.675289 14.540067 \nL 93.419468 20.333257 \nL 103.163647 55.194014 \nL 112.907826 74.610172 \nL 122.652006 82.623787 \nL 132.396185 87.728727 \nL 142.140364 92.208665 \nL 151.884543 94.747522 \nL 161.628722 96.442649 \nL 171.372901 97.722718 \nL 181.11708 99.963438 \nL 190.861259 100.869738 \nL 200.605438 102.191337 \nL 210.349618 103.386242 \nL 220.093797 104.695485 \n\" clip-path=\"url(#p4d8602758f)\" style=\"fill: none; stroke: #1f77b4; stroke-width: 1.5; stroke-linecap: square\"/>\n   </g>\n   <g id=\"line2d_120\">\n    <path d=\"M 49.633125 13.5 \nL 69.163125 13.832925 \nL 88.693125 15.548816 \nL 108.223125 69.379015 \nL 127.753125 85.714899 \nL 147.283125 93.188506 \nL 166.813125 96.695263 \nL 186.343125 99.779578 \nL 205.873125 101.819944 \n\" clip-path=\"url(#p4d8602758f)\" style=\"fill: none; stroke-dasharray: 5.55,2.4; stroke-dashoffset: 0; stroke: #ff7f0e; stroke-width: 1.5\"/>\n   </g>\n   <g id=\"line2d_121\">\n    <path d=\"M 49.633125 139.5 \nL 69.163125 139.460508 \nL 88.693125 134.467574 \nL 108.223125 114.817418 \nL 127.753125 110.851279 \nL 147.283125 107.708834 \nL 166.813125 105.553692 \nL 186.343125 105.226471 \nL 205.873125 104.515613 \n\" clip-path=\"url(#p4d8602758f)\" style=\"fill: none; stroke-dasharray: 9.6,2.4,1.5,2.4; stroke-dashoffset: 0; stroke: #2ca02c; stroke-width: 1.5\"/>\n   </g>\n   <g id=\"line2d_122\">\n    <path d=\"M 34.954394 13.507777 \nL 44.698573 13.597786 \nL 54.442752 13.649724 \nL 64.186931 13.694174 \nL 73.93111 13.875739 \nL 83.675289 14.540067 \nL 93.419468 20.333257 \nL 103.163647 55.194014 \nL 112.907826 74.610172 \nL 122.652006 82.623787 \nL 132.396185 87.728727 \nL 142.140364 92.208665 \nL 151.884543 94.747522 \nL 161.628722 96.442649 \nL 171.372901 97.722718 \nL 181.11708 99.963438 \nL 190.861259 100.869738 \nL 200.605438 102.191337 \nL 210.349618 103.386242 \nL 220.093797 104.695485 \n\" clip-path=\"url(#p4d8602758f)\" style=\"fill: none; stroke: #1f77b4; stroke-width: 1.5; stroke-linecap: square\"/>\n   </g>\n   <g id=\"line2d_123\">\n    <path d=\"M 49.633125 13.5 \nL 69.163125 13.832925 \nL 88.693125 15.548816 \nL 108.223125 69.379015 \nL 127.753125 85.714899 \nL 147.283125 93.188506 \nL 166.813125 96.695263 \nL 186.343125 99.779578 \nL 205.873125 101.819944 \nL 225.403125 104.008955 \n\" clip-path=\"url(#p4d8602758f)\" style=\"fill: none; stroke-dasharray: 5.55,2.4; stroke-dashoffset: 0; stroke: #ff7f0e; stroke-width: 1.5\"/>\n   </g>\n   <g id=\"line2d_124\">\n    <path d=\"M 49.633125 139.5 \nL 69.163125 139.460508 \nL 88.693125 134.467574 \nL 108.223125 114.817418 \nL 127.753125 110.851279 \nL 147.283125 107.708834 \nL 166.813125 105.553692 \nL 186.343125 105.226471 \nL 205.873125 104.515613 \n\" clip-path=\"url(#p4d8602758f)\" style=\"fill: none; stroke-dasharray: 9.6,2.4,1.5,2.4; stroke-dashoffset: 0; stroke: #2ca02c; stroke-width: 1.5\"/>\n   </g>\n   <g id=\"line2d_125\">\n    <path d=\"M 34.954394 13.507777 \nL 44.698573 13.597786 \nL 54.442752 13.649724 \nL 64.186931 13.694174 \nL 73.93111 13.875739 \nL 83.675289 14.540067 \nL 93.419468 20.333257 \nL 103.163647 55.194014 \nL 112.907826 74.610172 \nL 122.652006 82.623787 \nL 132.396185 87.728727 \nL 142.140364 92.208665 \nL 151.884543 94.747522 \nL 161.628722 96.442649 \nL 171.372901 97.722718 \nL 181.11708 99.963438 \nL 190.861259 100.869738 \nL 200.605438 102.191337 \nL 210.349618 103.386242 \nL 220.093797 104.695485 \n\" clip-path=\"url(#p4d8602758f)\" style=\"fill: none; stroke: #1f77b4; stroke-width: 1.5; stroke-linecap: square\"/>\n   </g>\n   <g id=\"line2d_126\">\n    <path d=\"M 49.633125 13.5 \nL 69.163125 13.832925 \nL 88.693125 15.548816 \nL 108.223125 69.379015 \nL 127.753125 85.714899 \nL 147.283125 93.188506 \nL 166.813125 96.695263 \nL 186.343125 99.779578 \nL 205.873125 101.819944 \nL 225.403125 104.008955 \n\" clip-path=\"url(#p4d8602758f)\" style=\"fill: none; stroke-dasharray: 5.55,2.4; stroke-dashoffset: 0; stroke: #ff7f0e; stroke-width: 1.5\"/>\n   </g>\n   <g id=\"line2d_127\">\n    <path d=\"M 49.633125 139.5 \nL 69.163125 139.460508 \nL 88.693125 134.467574 \nL 108.223125 114.817418 \nL 127.753125 110.851279 \nL 147.283125 107.708834 \nL 166.813125 105.553692 \nL 186.343125 105.226471 \nL 205.873125 104.515613 \nL 225.403125 103.178522 \n\" clip-path=\"url(#p4d8602758f)\" style=\"fill: none; stroke-dasharray: 9.6,2.4,1.5,2.4; stroke-dashoffset: 0; stroke: #2ca02c; stroke-width: 1.5\"/>\n   </g>\n   <g id=\"patch_3\">\n    <path d=\"M 30.103125 145.8 \nL 30.103125 7.2 \n\" style=\"fill: none; stroke: #000000; stroke-width: 0.8; stroke-linejoin: miter; stroke-linecap: square\"/>\n   </g>\n   <g id=\"patch_4\">\n    <path d=\"M 225.403125 145.8 \nL 225.403125 7.2 \n\" style=\"fill: none; stroke: #000000; stroke-width: 0.8; stroke-linejoin: miter; stroke-linecap: square\"/>\n   </g>\n   <g id=\"patch_5\">\n    <path d=\"M 30.103125 145.8 \nL 225.403125 145.8 \n\" style=\"fill: none; stroke: #000000; stroke-width: 0.8; stroke-linejoin: miter; stroke-linecap: square\"/>\n   </g>\n   <g id=\"patch_6\">\n    <path d=\"M 30.103125 7.2 \nL 225.403125 7.2 \n\" style=\"fill: none; stroke: #000000; stroke-width: 0.8; stroke-linejoin: miter; stroke-linecap: square\"/>\n   </g>\n   <g id=\"legend_1\">\n    <g id=\"patch_7\">\n     <path d=\"M 138.8125 60.06875 \nL 218.403125 60.06875 \nQ 220.403125 60.06875 220.403125 58.06875 \nL 220.403125 14.2 \nQ 220.403125 12.2 218.403125 12.2 \nL 138.8125 12.2 \nQ 136.8125 12.2 136.8125 14.2 \nL 136.8125 58.06875 \nQ 136.8125 60.06875 138.8125 60.06875 \nz\n\" style=\"fill: #ffffff; opacity: 0.8; stroke: #cccccc; stroke-linejoin: miter\"/>\n    </g>\n    <g id=\"line2d_128\">\n     <path d=\"M 140.8125 20.298438 \nL 150.8125 20.298438 \nL 160.8125 20.298438 \n\" style=\"fill: none; stroke: #1f77b4; stroke-width: 1.5; stroke-linecap: square\"/>\n    </g>\n    <g id=\"text_13\">\n     <!-- train_loss -->\n     <g transform=\"translate(168.8125 23.798438) scale(0.1 -0.1)\">\n      <defs>\n       <path id=\"DejaVuSans-74\" d=\"M 1172 4494 \nL 1172 3500 \nL 2356 3500 \nL 2356 3053 \nL 1172 3053 \nL 1172 1153 \nQ 1172 725 1289 603 \nQ 1406 481 1766 481 \nL 2356 481 \nL 2356 0 \nL 1766 0 \nQ 1100 0 847 248 \nQ 594 497 594 1153 \nL 594 3053 \nL 172 3053 \nL 172 3500 \nL 594 3500 \nL 594 4494 \nL 1172 4494 \nz\n\" transform=\"scale(0.015625)\"/>\n       <path id=\"DejaVuSans-72\" d=\"M 2631 2963 \nQ 2534 3019 2420 3045 \nQ 2306 3072 2169 3072 \nQ 1681 3072 1420 2755 \nQ 1159 2438 1159 1844 \nL 1159 0 \nL 581 0 \nL 581 3500 \nL 1159 3500 \nL 1159 2956 \nQ 1341 3275 1631 3429 \nQ 1922 3584 2338 3584 \nQ 2397 3584 2469 3576 \nQ 2541 3569 2628 3553 \nL 2631 2963 \nz\n\" transform=\"scale(0.015625)\"/>\n       <path id=\"DejaVuSans-61\" d=\"M 2194 1759 \nQ 1497 1759 1228 1600 \nQ 959 1441 959 1056 \nQ 959 750 1161 570 \nQ 1363 391 1709 391 \nQ 2188 391 2477 730 \nQ 2766 1069 2766 1631 \nL 2766 1759 \nL 2194 1759 \nz\nM 3341 1997 \nL 3341 0 \nL 2766 0 \nL 2766 531 \nQ 2569 213 2275 61 \nQ 1981 -91 1556 -91 \nQ 1019 -91 701 211 \nQ 384 513 384 1019 \nQ 384 1609 779 1909 \nQ 1175 2209 1959 2209 \nL 2766 2209 \nL 2766 2266 \nQ 2766 2663 2505 2880 \nQ 2244 3097 1772 3097 \nQ 1472 3097 1187 3025 \nQ 903 2953 641 2809 \nL 641 3341 \nQ 956 3463 1253 3523 \nQ 1550 3584 1831 3584 \nQ 2591 3584 2966 3190 \nQ 3341 2797 3341 1997 \nz\n\" transform=\"scale(0.015625)\"/>\n       <path id=\"DejaVuSans-69\" d=\"M 603 3500 \nL 1178 3500 \nL 1178 0 \nL 603 0 \nL 603 3500 \nz\nM 603 4863 \nL 1178 4863 \nL 1178 4134 \nL 603 4134 \nL 603 4863 \nz\n\" transform=\"scale(0.015625)\"/>\n       <path id=\"DejaVuSans-6e\" d=\"M 3513 2113 \nL 3513 0 \nL 2938 0 \nL 2938 2094 \nQ 2938 2591 2744 2837 \nQ 2550 3084 2163 3084 \nQ 1697 3084 1428 2787 \nQ 1159 2491 1159 1978 \nL 1159 0 \nL 581 0 \nL 581 3500 \nL 1159 3500 \nL 1159 2956 \nQ 1366 3272 1645 3428 \nQ 1925 3584 2291 3584 \nQ 2894 3584 3203 3211 \nQ 3513 2838 3513 2113 \nz\n\" transform=\"scale(0.015625)\"/>\n       <path id=\"DejaVuSans-5f\" d=\"M 3263 -1063 \nL 3263 -1509 \nL -63 -1509 \nL -63 -1063 \nL 3263 -1063 \nz\n\" transform=\"scale(0.015625)\"/>\n       <path id=\"DejaVuSans-6c\" d=\"M 603 4863 \nL 1178 4863 \nL 1178 0 \nL 603 0 \nL 603 4863 \nz\n\" transform=\"scale(0.015625)\"/>\n       <path id=\"DejaVuSans-73\" d=\"M 2834 3397 \nL 2834 2853 \nQ 2591 2978 2328 3040 \nQ 2066 3103 1784 3103 \nQ 1356 3103 1142 2972 \nQ 928 2841 928 2578 \nQ 928 2378 1081 2264 \nQ 1234 2150 1697 2047 \nL 1894 2003 \nQ 2506 1872 2764 1633 \nQ 3022 1394 3022 966 \nQ 3022 478 2636 193 \nQ 2250 -91 1575 -91 \nQ 1294 -91 989 -36 \nQ 684 19 347 128 \nL 347 722 \nQ 666 556 975 473 \nQ 1284 391 1588 391 \nQ 1994 391 2212 530 \nQ 2431 669 2431 922 \nQ 2431 1156 2273 1281 \nQ 2116 1406 1581 1522 \nL 1381 1569 \nQ 847 1681 609 1914 \nQ 372 2147 372 2553 \nQ 372 3047 722 3315 \nQ 1072 3584 1716 3584 \nQ 2034 3584 2315 3537 \nQ 2597 3491 2834 3397 \nz\n\" transform=\"scale(0.015625)\"/>\n      </defs>\n      <use xlink:href=\"#DejaVuSans-74\"/>\n      <use xlink:href=\"#DejaVuSans-72\" x=\"39.208984\"/>\n      <use xlink:href=\"#DejaVuSans-61\" x=\"80.322266\"/>\n      <use xlink:href=\"#DejaVuSans-69\" x=\"141.601562\"/>\n      <use xlink:href=\"#DejaVuSans-6e\" x=\"169.384766\"/>\n      <use xlink:href=\"#DejaVuSans-5f\" x=\"232.763672\"/>\n      <use xlink:href=\"#DejaVuSans-6c\" x=\"282.763672\"/>\n      <use xlink:href=\"#DejaVuSans-6f\" x=\"310.546875\"/>\n      <use xlink:href=\"#DejaVuSans-73\" x=\"371.728516\"/>\n      <use xlink:href=\"#DejaVuSans-73\" x=\"423.828125\"/>\n     </g>\n    </g>\n    <g id=\"line2d_129\">\n     <path d=\"M 140.8125 35.254688 \nL 150.8125 35.254688 \nL 160.8125 35.254688 \n\" style=\"fill: none; stroke-dasharray: 5.55,2.4; stroke-dashoffset: 0; stroke: #ff7f0e; stroke-width: 1.5\"/>\n    </g>\n    <g id=\"text_14\">\n     <!-- val_loss -->\n     <g transform=\"translate(168.8125 38.754688) scale(0.1 -0.1)\">\n      <defs>\n       <path id=\"DejaVuSans-76\" d=\"M 191 3500 \nL 800 3500 \nL 1894 563 \nL 2988 3500 \nL 3597 3500 \nL 2284 0 \nL 1503 0 \nL 191 3500 \nz\n\" transform=\"scale(0.015625)\"/>\n      </defs>\n      <use xlink:href=\"#DejaVuSans-76\"/>\n      <use xlink:href=\"#DejaVuSans-61\" x=\"59.179688\"/>\n      <use xlink:href=\"#DejaVuSans-6c\" x=\"120.458984\"/>\n      <use xlink:href=\"#DejaVuSans-5f\" x=\"148.242188\"/>\n      <use xlink:href=\"#DejaVuSans-6c\" x=\"198.242188\"/>\n      <use xlink:href=\"#DejaVuSans-6f\" x=\"226.025391\"/>\n      <use xlink:href=\"#DejaVuSans-73\" x=\"287.207031\"/>\n      <use xlink:href=\"#DejaVuSans-73\" x=\"339.306641\"/>\n     </g>\n    </g>\n    <g id=\"line2d_130\">\n     <path d=\"M 140.8125 50.210938 \nL 150.8125 50.210938 \nL 160.8125 50.210938 \n\" style=\"fill: none; stroke-dasharray: 9.6,2.4,1.5,2.4; stroke-dashoffset: 0; stroke: #2ca02c; stroke-width: 1.5\"/>\n    </g>\n    <g id=\"text_15\">\n     <!-- val_acc -->\n     <g transform=\"translate(168.8125 53.710938) scale(0.1 -0.1)\">\n      <use xlink:href=\"#DejaVuSans-76\"/>\n      <use xlink:href=\"#DejaVuSans-61\" x=\"59.179688\"/>\n      <use xlink:href=\"#DejaVuSans-6c\" x=\"120.458984\"/>\n      <use xlink:href=\"#DejaVuSans-5f\" x=\"148.242188\"/>\n      <use xlink:href=\"#DejaVuSans-61\" x=\"198.242188\"/>\n      <use xlink:href=\"#DejaVuSans-63\" x=\"259.521484\"/>\n      <use xlink:href=\"#DejaVuSans-63\" x=\"314.501953\"/>\n     </g>\n    </g>\n   </g>\n  </g>\n </g>\n <defs>\n  <clipPath id=\"p4d8602758f\">\n   <rect x=\"30.103125\" y=\"7.2\" width=\"195.3\" height=\"138.6\"/>\n  </clipPath>\n </defs>\n</svg>\n"
          },
          "metadata": {}
        }
      ]
    },
    {
      "cell_type": "markdown",
      "source": [
        "# 8. Modern Convolutional Neural Networks"
      ],
      "metadata": {
        "id": "bINwa0fO0v8r"
      }
    },
    {
      "cell_type": "markdown",
      "source": [
        "## 8.2. Networks Using Blocks (VGG)"
      ],
      "metadata": {
        "id": "c5HGhAVU3uvw"
      }
    },
    {
      "cell_type": "code",
      "source": [
        "import torch\n",
        "from torch import nn\n",
        "from d2l import torch as d2l"
      ],
      "metadata": {
        "id": "e4qFMJF93xHP"
      },
      "execution_count": null,
      "outputs": []
    },
    {
      "cell_type": "code",
      "source": [
        "def vgg_block(num_convs, out_channels):\n",
        "    layers = []\n",
        "    for _ in range(num_convs):\n",
        "        layers.append(nn.LazyConv2d(out_channels, kernel_size=3, padding=1))\n",
        "        layers.append(nn.ReLU())\n",
        "    layers.append(nn.MaxPool2d(kernel_size=2,stride=2))\n",
        "    return nn.Sequential(*layers)"
      ],
      "metadata": {
        "id": "6FGjaYXC64kd"
      },
      "execution_count": null,
      "outputs": []
    },
    {
      "cell_type": "code",
      "source": [
        "class VGG(d2l.Classifier):\n",
        "    def __init__(self, arch, lr=0.1, num_classes=10):\n",
        "        super().__init__()\n",
        "        self.save_hyperparameters()\n",
        "        conv_blks = []\n",
        "        for (num_convs, out_channels) in arch:\n",
        "            conv_blks.append(vgg_block(num_convs, out_channels))\n",
        "        self.net = nn.Sequential(\n",
        "            *conv_blks, nn.Flatten(),\n",
        "            nn.LazyLinear(4096), nn.ReLU(), nn.Dropout(0.5),\n",
        "            nn.LazyLinear(4096), nn.ReLU(), nn.Dropout(0.5),\n",
        "            nn.LazyLinear(num_classes))\n",
        "        self.net.apply(d2l.init_cnn)"
      ],
      "metadata": {
        "id": "okuFYTF47yub"
      },
      "execution_count": null,
      "outputs": []
    },
    {
      "cell_type": "code",
      "source": [
        "VGG(arch=((1, 64), (1, 128), (2, 256), (2, 512), (2, 512))).layer_summary(\n",
        "    (1, 1, 224, 224))"
      ],
      "metadata": {
        "colab": {
          "base_uri": "https://localhost:8080/"
        },
        "id": "CSzhewps8H8P",
        "outputId": "c5c991a6-9a28-45b8-d14d-7963518a6603"
      },
      "execution_count": null,
      "outputs": [
        {
          "output_type": "stream",
          "name": "stdout",
          "text": [
            "Sequential output shape:\t torch.Size([1, 64, 112, 112])\n",
            "Sequential output shape:\t torch.Size([1, 128, 56, 56])\n",
            "Sequential output shape:\t torch.Size([1, 256, 28, 28])\n",
            "Sequential output shape:\t torch.Size([1, 512, 14, 14])\n",
            "Sequential output shape:\t torch.Size([1, 512, 7, 7])\n",
            "Flatten output shape:\t torch.Size([1, 25088])\n",
            "Linear output shape:\t torch.Size([1, 4096])\n",
            "ReLU output shape:\t torch.Size([1, 4096])\n",
            "Dropout output shape:\t torch.Size([1, 4096])\n",
            "Linear output shape:\t torch.Size([1, 4096])\n",
            "ReLU output shape:\t torch.Size([1, 4096])\n",
            "Dropout output shape:\t torch.Size([1, 4096])\n",
            "Linear output shape:\t torch.Size([1, 10])\n"
          ]
        }
      ]
    },
    {
      "cell_type": "markdown",
      "source": [
        "### 8.2.3. Training"
      ],
      "metadata": {
        "id": "jYr18KKk8XXn"
      }
    },
    {
      "cell_type": "code",
      "source": [
        "model = VGG(arch=((1, 16), (1, 32), (2, 64), (2, 128), (2, 128)), lr=0.01)\n",
        "trainer = d2l.Trainer(max_epochs=10, num_gpus=1)\n",
        "data = d2l.FashionMNIST(batch_size=128, resize=(224, 224))\n",
        "model.apply_init([next(iter(data.get_dataloader(True)))[0]], d2l.init_cnn)\n",
        "trainer.fit(model, data)"
      ],
      "metadata": {
        "colab": {
          "base_uri": "https://localhost:8080/",
          "height": 266
        },
        "id": "QHYg2nWm8ZDJ",
        "outputId": "839869c3-6162-4976-bef8-1b6dce2bec40"
      },
      "execution_count": null,
      "outputs": [
        {
          "output_type": "display_data",
          "data": {
            "text/plain": [
              "<Figure size 350x250 with 1 Axes>"
            ],
            "image/svg+xml": "<?xml version=\"1.0\" encoding=\"utf-8\" standalone=\"no\"?>\n<!DOCTYPE svg PUBLIC \"-//W3C//DTD SVG 1.1//EN\"\n  \"http://www.w3.org/Graphics/SVG/1.1/DTD/svg11.dtd\">\n<svg xmlns:xlink=\"http://www.w3.org/1999/xlink\" width=\"238.965625pt\" height=\"183.35625pt\" viewBox=\"0 0 238.965625 183.35625\" xmlns=\"http://www.w3.org/2000/svg\" version=\"1.1\">\n <metadata>\n  <rdf:RDF xmlns:dc=\"http://purl.org/dc/elements/1.1/\" xmlns:cc=\"http://creativecommons.org/ns#\" xmlns:rdf=\"http://www.w3.org/1999/02/22-rdf-syntax-ns#\">\n   <cc:Work>\n    <dc:type rdf:resource=\"http://purl.org/dc/dcmitype/StillImage\"/>\n    <dc:date>2024-10-10T10:39:14.362158</dc:date>\n    <dc:format>image/svg+xml</dc:format>\n    <dc:creator>\n     <cc:Agent>\n      <dc:title>Matplotlib v3.7.2, https://matplotlib.org/</dc:title>\n     </cc:Agent>\n    </dc:creator>\n   </cc:Work>\n  </rdf:RDF>\n </metadata>\n <defs>\n  <style type=\"text/css\">*{stroke-linejoin: round; stroke-linecap: butt}</style>\n </defs>\n <g id=\"figure_1\">\n  <g id=\"patch_1\">\n   <path d=\"M 0 183.35625 \nL 238.965625 183.35625 \nL 238.965625 0 \nL 0 0 \nz\n\" style=\"fill: #ffffff\"/>\n  </g>\n  <g id=\"axes_1\">\n   <g id=\"patch_2\">\n    <path d=\"M 30.103125 145.8 \nL 225.403125 145.8 \nL 225.403125 7.2 \nL 30.103125 7.2 \nz\n\" style=\"fill: #ffffff\"/>\n   </g>\n   <g id=\"matplotlib.axis_1\">\n    <g id=\"xtick_1\">\n     <g id=\"line2d_1\">\n      <defs>\n       <path id=\"m0a1d9016a0\" d=\"M 0 0 \nL 0 3.5 \n\" style=\"stroke: #000000; stroke-width: 0.8\"/>\n      </defs>\n      <g>\n       <use xlink:href=\"#m0a1d9016a0\" x=\"30.103125\" y=\"145.8\" style=\"stroke: #000000; stroke-width: 0.8\"/>\n      </g>\n     </g>\n     <g id=\"text_1\">\n      <!-- 0 -->\n      <g transform=\"translate(26.921875 160.398438) scale(0.1 -0.1)\">\n       <defs>\n        <path id=\"DejaVuSans-30\" d=\"M 2034 4250 \nQ 1547 4250 1301 3770 \nQ 1056 3291 1056 2328 \nQ 1056 1369 1301 889 \nQ 1547 409 2034 409 \nQ 2525 409 2770 889 \nQ 3016 1369 3016 2328 \nQ 3016 3291 2770 3770 \nQ 2525 4250 2034 4250 \nz\nM 2034 4750 \nQ 2819 4750 3233 4129 \nQ 3647 3509 3647 2328 \nQ 3647 1150 3233 529 \nQ 2819 -91 2034 -91 \nQ 1250 -91 836 529 \nQ 422 1150 422 2328 \nQ 422 3509 836 4129 \nQ 1250 4750 2034 4750 \nz\n\" transform=\"scale(0.015625)\"/>\n       </defs>\n       <use xlink:href=\"#DejaVuSans-30\"/>\n      </g>\n     </g>\n    </g>\n    <g id=\"xtick_2\">\n     <g id=\"line2d_2\">\n      <g>\n       <use xlink:href=\"#m0a1d9016a0\" x=\"69.163125\" y=\"145.8\" style=\"stroke: #000000; stroke-width: 0.8\"/>\n      </g>\n     </g>\n     <g id=\"text_2\">\n      <!-- 2 -->\n      <g transform=\"translate(65.981875 160.398438) scale(0.1 -0.1)\">\n       <defs>\n        <path id=\"DejaVuSans-32\" d=\"M 1228 531 \nL 3431 531 \nL 3431 0 \nL 469 0 \nL 469 531 \nQ 828 903 1448 1529 \nQ 2069 2156 2228 2338 \nQ 2531 2678 2651 2914 \nQ 2772 3150 2772 3378 \nQ 2772 3750 2511 3984 \nQ 2250 4219 1831 4219 \nQ 1534 4219 1204 4116 \nQ 875 4013 500 3803 \nL 500 4441 \nQ 881 4594 1212 4672 \nQ 1544 4750 1819 4750 \nQ 2544 4750 2975 4387 \nQ 3406 4025 3406 3419 \nQ 3406 3131 3298 2873 \nQ 3191 2616 2906 2266 \nQ 2828 2175 2409 1742 \nQ 1991 1309 1228 531 \nz\n\" transform=\"scale(0.015625)\"/>\n       </defs>\n       <use xlink:href=\"#DejaVuSans-32\"/>\n      </g>\n     </g>\n    </g>\n    <g id=\"xtick_3\">\n     <g id=\"line2d_3\">\n      <g>\n       <use xlink:href=\"#m0a1d9016a0\" x=\"108.223125\" y=\"145.8\" style=\"stroke: #000000; stroke-width: 0.8\"/>\n      </g>\n     </g>\n     <g id=\"text_3\">\n      <!-- 4 -->\n      <g transform=\"translate(105.041875 160.398438) scale(0.1 -0.1)\">\n       <defs>\n        <path id=\"DejaVuSans-34\" d=\"M 2419 4116 \nL 825 1625 \nL 2419 1625 \nL 2419 4116 \nz\nM 2253 4666 \nL 3047 4666 \nL 3047 1625 \nL 3713 1625 \nL 3713 1100 \nL 3047 1100 \nL 3047 0 \nL 2419 0 \nL 2419 1100 \nL 313 1100 \nL 313 1709 \nL 2253 4666 \nz\n\" transform=\"scale(0.015625)\"/>\n       </defs>\n       <use xlink:href=\"#DejaVuSans-34\"/>\n      </g>\n     </g>\n    </g>\n    <g id=\"xtick_4\">\n     <g id=\"line2d_4\">\n      <g>\n       <use xlink:href=\"#m0a1d9016a0\" x=\"147.283125\" y=\"145.8\" style=\"stroke: #000000; stroke-width: 0.8\"/>\n      </g>\n     </g>\n     <g id=\"text_4\">\n      <!-- 6 -->\n      <g transform=\"translate(144.101875 160.398438) scale(0.1 -0.1)\">\n       <defs>\n        <path id=\"DejaVuSans-36\" d=\"M 2113 2584 \nQ 1688 2584 1439 2293 \nQ 1191 2003 1191 1497 \nQ 1191 994 1439 701 \nQ 1688 409 2113 409 \nQ 2538 409 2786 701 \nQ 3034 994 3034 1497 \nQ 3034 2003 2786 2293 \nQ 2538 2584 2113 2584 \nz\nM 3366 4563 \nL 3366 3988 \nQ 3128 4100 2886 4159 \nQ 2644 4219 2406 4219 \nQ 1781 4219 1451 3797 \nQ 1122 3375 1075 2522 \nQ 1259 2794 1537 2939 \nQ 1816 3084 2150 3084 \nQ 2853 3084 3261 2657 \nQ 3669 2231 3669 1497 \nQ 3669 778 3244 343 \nQ 2819 -91 2113 -91 \nQ 1303 -91 875 529 \nQ 447 1150 447 2328 \nQ 447 3434 972 4092 \nQ 1497 4750 2381 4750 \nQ 2619 4750 2861 4703 \nQ 3103 4656 3366 4563 \nz\n\" transform=\"scale(0.015625)\"/>\n       </defs>\n       <use xlink:href=\"#DejaVuSans-36\"/>\n      </g>\n     </g>\n    </g>\n    <g id=\"xtick_5\">\n     <g id=\"line2d_5\">\n      <g>\n       <use xlink:href=\"#m0a1d9016a0\" x=\"186.343125\" y=\"145.8\" style=\"stroke: #000000; stroke-width: 0.8\"/>\n      </g>\n     </g>\n     <g id=\"text_5\">\n      <!-- 8 -->\n      <g transform=\"translate(183.161875 160.398438) scale(0.1 -0.1)\">\n       <defs>\n        <path id=\"DejaVuSans-38\" d=\"M 2034 2216 \nQ 1584 2216 1326 1975 \nQ 1069 1734 1069 1313 \nQ 1069 891 1326 650 \nQ 1584 409 2034 409 \nQ 2484 409 2743 651 \nQ 3003 894 3003 1313 \nQ 3003 1734 2745 1975 \nQ 2488 2216 2034 2216 \nz\nM 1403 2484 \nQ 997 2584 770 2862 \nQ 544 3141 544 3541 \nQ 544 4100 942 4425 \nQ 1341 4750 2034 4750 \nQ 2731 4750 3128 4425 \nQ 3525 4100 3525 3541 \nQ 3525 3141 3298 2862 \nQ 3072 2584 2669 2484 \nQ 3125 2378 3379 2068 \nQ 3634 1759 3634 1313 \nQ 3634 634 3220 271 \nQ 2806 -91 2034 -91 \nQ 1263 -91 848 271 \nQ 434 634 434 1313 \nQ 434 1759 690 2068 \nQ 947 2378 1403 2484 \nz\nM 1172 3481 \nQ 1172 3119 1398 2916 \nQ 1625 2713 2034 2713 \nQ 2441 2713 2670 2916 \nQ 2900 3119 2900 3481 \nQ 2900 3844 2670 4047 \nQ 2441 4250 2034 4250 \nQ 1625 4250 1398 4047 \nQ 1172 3844 1172 3481 \nz\n\" transform=\"scale(0.015625)\"/>\n       </defs>\n       <use xlink:href=\"#DejaVuSans-38\"/>\n      </g>\n     </g>\n    </g>\n    <g id=\"xtick_6\">\n     <g id=\"line2d_6\">\n      <g>\n       <use xlink:href=\"#m0a1d9016a0\" x=\"225.403125\" y=\"145.8\" style=\"stroke: #000000; stroke-width: 0.8\"/>\n      </g>\n     </g>\n     <g id=\"text_6\">\n      <!-- 10 -->\n      <g transform=\"translate(219.040625 160.398438) scale(0.1 -0.1)\">\n       <defs>\n        <path id=\"DejaVuSans-31\" d=\"M 794 531 \nL 1825 531 \nL 1825 4091 \nL 703 3866 \nL 703 4441 \nL 1819 4666 \nL 2450 4666 \nL 2450 531 \nL 3481 531 \nL 3481 0 \nL 794 0 \nL 794 531 \nz\n\" transform=\"scale(0.015625)\"/>\n       </defs>\n       <use xlink:href=\"#DejaVuSans-31\"/>\n       <use xlink:href=\"#DejaVuSans-30\" x=\"63.623047\"/>\n      </g>\n     </g>\n    </g>\n    <g id=\"text_7\">\n     <!-- epoch -->\n     <g transform=\"translate(112.525 174.076563) scale(0.1 -0.1)\">\n      <defs>\n       <path id=\"DejaVuSans-65\" d=\"M 3597 1894 \nL 3597 1613 \nL 953 1613 \nQ 991 1019 1311 708 \nQ 1631 397 2203 397 \nQ 2534 397 2845 478 \nQ 3156 559 3463 722 \nL 3463 178 \nQ 3153 47 2828 -22 \nQ 2503 -91 2169 -91 \nQ 1331 -91 842 396 \nQ 353 884 353 1716 \nQ 353 2575 817 3079 \nQ 1281 3584 2069 3584 \nQ 2775 3584 3186 3129 \nQ 3597 2675 3597 1894 \nz\nM 3022 2063 \nQ 3016 2534 2758 2815 \nQ 2500 3097 2075 3097 \nQ 1594 3097 1305 2825 \nQ 1016 2553 972 2059 \nL 3022 2063 \nz\n\" transform=\"scale(0.015625)\"/>\n       <path id=\"DejaVuSans-70\" d=\"M 1159 525 \nL 1159 -1331 \nL 581 -1331 \nL 581 3500 \nL 1159 3500 \nL 1159 2969 \nQ 1341 3281 1617 3432 \nQ 1894 3584 2278 3584 \nQ 2916 3584 3314 3078 \nQ 3713 2572 3713 1747 \nQ 3713 922 3314 415 \nQ 2916 -91 2278 -91 \nQ 1894 -91 1617 61 \nQ 1341 213 1159 525 \nz\nM 3116 1747 \nQ 3116 2381 2855 2742 \nQ 2594 3103 2138 3103 \nQ 1681 3103 1420 2742 \nQ 1159 2381 1159 1747 \nQ 1159 1113 1420 752 \nQ 1681 391 2138 391 \nQ 2594 391 2855 752 \nQ 3116 1113 3116 1747 \nz\n\" transform=\"scale(0.015625)\"/>\n       <path id=\"DejaVuSans-6f\" d=\"M 1959 3097 \nQ 1497 3097 1228 2736 \nQ 959 2375 959 1747 \nQ 959 1119 1226 758 \nQ 1494 397 1959 397 \nQ 2419 397 2687 759 \nQ 2956 1122 2956 1747 \nQ 2956 2369 2687 2733 \nQ 2419 3097 1959 3097 \nz\nM 1959 3584 \nQ 2709 3584 3137 3096 \nQ 3566 2609 3566 1747 \nQ 3566 888 3137 398 \nQ 2709 -91 1959 -91 \nQ 1206 -91 779 398 \nQ 353 888 353 1747 \nQ 353 2609 779 3096 \nQ 1206 3584 1959 3584 \nz\n\" transform=\"scale(0.015625)\"/>\n       <path id=\"DejaVuSans-63\" d=\"M 3122 3366 \nL 3122 2828 \nQ 2878 2963 2633 3030 \nQ 2388 3097 2138 3097 \nQ 1578 3097 1268 2742 \nQ 959 2388 959 1747 \nQ 959 1106 1268 751 \nQ 1578 397 2138 397 \nQ 2388 397 2633 464 \nQ 2878 531 3122 666 \nL 3122 134 \nQ 2881 22 2623 -34 \nQ 2366 -91 2075 -91 \nQ 1284 -91 818 406 \nQ 353 903 353 1747 \nQ 353 2603 823 3093 \nQ 1294 3584 2113 3584 \nQ 2378 3584 2631 3529 \nQ 2884 3475 3122 3366 \nz\n\" transform=\"scale(0.015625)\"/>\n       <path id=\"DejaVuSans-68\" d=\"M 3513 2113 \nL 3513 0 \nL 2938 0 \nL 2938 2094 \nQ 2938 2591 2744 2837 \nQ 2550 3084 2163 3084 \nQ 1697 3084 1428 2787 \nQ 1159 2491 1159 1978 \nL 1159 0 \nL 581 0 \nL 581 4863 \nL 1159 4863 \nL 1159 2956 \nQ 1366 3272 1645 3428 \nQ 1925 3584 2291 3584 \nQ 2894 3584 3203 3211 \nQ 3513 2838 3513 2113 \nz\n\" transform=\"scale(0.015625)\"/>\n      </defs>\n      <use xlink:href=\"#DejaVuSans-65\"/>\n      <use xlink:href=\"#DejaVuSans-70\" x=\"61.523438\"/>\n      <use xlink:href=\"#DejaVuSans-6f\" x=\"125\"/>\n      <use xlink:href=\"#DejaVuSans-63\" x=\"186.181641\"/>\n      <use xlink:href=\"#DejaVuSans-68\" x=\"241.162109\"/>\n     </g>\n    </g>\n   </g>\n   <g id=\"matplotlib.axis_2\">\n    <g id=\"ytick_1\">\n     <g id=\"line2d_7\">\n      <defs>\n       <path id=\"med91267aeb\" d=\"M 0 0 \nL -3.5 0 \n\" style=\"stroke: #000000; stroke-width: 0.8\"/>\n      </defs>\n      <g>\n       <use xlink:href=\"#med91267aeb\" x=\"30.103125\" y=\"126.55941\" style=\"stroke: #000000; stroke-width: 0.8\"/>\n      </g>\n     </g>\n     <g id=\"text_8\">\n      <!-- 0.5 -->\n      <g transform=\"translate(7.2 130.358629) scale(0.1 -0.1)\">\n       <defs>\n        <path id=\"DejaVuSans-2e\" d=\"M 684 794 \nL 1344 794 \nL 1344 0 \nL 684 0 \nL 684 794 \nz\n\" transform=\"scale(0.015625)\"/>\n        <path id=\"DejaVuSans-35\" d=\"M 691 4666 \nL 3169 4666 \nL 3169 4134 \nL 1269 4134 \nL 1269 2991 \nQ 1406 3038 1543 3061 \nQ 1681 3084 1819 3084 \nQ 2600 3084 3056 2656 \nQ 3513 2228 3513 1497 \nQ 3513 744 3044 326 \nQ 2575 -91 1722 -91 \nQ 1428 -91 1123 -41 \nQ 819 9 494 109 \nL 494 744 \nQ 775 591 1075 516 \nQ 1375 441 1709 441 \nQ 2250 441 2565 725 \nQ 2881 1009 2881 1497 \nQ 2881 1984 2565 2268 \nQ 2250 2553 1709 2553 \nQ 1456 2553 1204 2497 \nQ 953 2441 691 2322 \nL 691 4666 \nz\n\" transform=\"scale(0.015625)\"/>\n       </defs>\n       <use xlink:href=\"#DejaVuSans-30\"/>\n       <use xlink:href=\"#DejaVuSans-2e\" x=\"63.623047\"/>\n       <use xlink:href=\"#DejaVuSans-35\" x=\"95.410156\"/>\n      </g>\n     </g>\n    </g>\n    <g id=\"ytick_2\">\n     <g id=\"line2d_8\">\n      <g>\n       <use xlink:href=\"#med91267aeb\" x=\"30.103125\" y=\"95.089677\" style=\"stroke: #000000; stroke-width: 0.8\"/>\n      </g>\n     </g>\n     <g id=\"text_9\">\n      <!-- 1.0 -->\n      <g transform=\"translate(7.2 98.888896) scale(0.1 -0.1)\">\n       <use xlink:href=\"#DejaVuSans-31\"/>\n       <use xlink:href=\"#DejaVuSans-2e\" x=\"63.623047\"/>\n       <use xlink:href=\"#DejaVuSans-30\" x=\"95.410156\"/>\n      </g>\n     </g>\n    </g>\n    <g id=\"ytick_3\">\n     <g id=\"line2d_9\">\n      <g>\n       <use xlink:href=\"#med91267aeb\" x=\"30.103125\" y=\"63.619944\" style=\"stroke: #000000; stroke-width: 0.8\"/>\n      </g>\n     </g>\n     <g id=\"text_10\">\n      <!-- 1.5 -->\n      <g transform=\"translate(7.2 67.419163) scale(0.1 -0.1)\">\n       <use xlink:href=\"#DejaVuSans-31\"/>\n       <use xlink:href=\"#DejaVuSans-2e\" x=\"63.623047\"/>\n       <use xlink:href=\"#DejaVuSans-35\" x=\"95.410156\"/>\n      </g>\n     </g>\n    </g>\n    <g id=\"ytick_4\">\n     <g id=\"line2d_10\">\n      <g>\n       <use xlink:href=\"#med91267aeb\" x=\"30.103125\" y=\"32.150211\" style=\"stroke: #000000; stroke-width: 0.8\"/>\n      </g>\n     </g>\n     <g id=\"text_11\">\n      <!-- 2.0 -->\n      <g transform=\"translate(7.2 35.94943) scale(0.1 -0.1)\">\n       <use xlink:href=\"#DejaVuSans-32\"/>\n       <use xlink:href=\"#DejaVuSans-2e\" x=\"63.623047\"/>\n       <use xlink:href=\"#DejaVuSans-30\" x=\"95.410156\"/>\n      </g>\n     </g>\n    </g>\n   </g>\n   <g id=\"line2d_11\">\n    <path d=\"M 34.954394 13.5 \n\" clip-path=\"url(#pc855cf39ae)\" style=\"fill: none; stroke: #1f77b4; stroke-width: 1.5; stroke-linecap: square\"/>\n   </g>\n   <g id=\"line2d_12\">\n    <path d=\"M 34.954394 13.5 \nL 44.698573 59.919905 \n\" clip-path=\"url(#pc855cf39ae)\" style=\"fill: none; stroke: #1f77b4; stroke-width: 1.5; stroke-linecap: square\"/>\n   </g>\n   <g id=\"line2d_13\">\n    <path d=\"M 34.954394 13.5 \nL 44.698573 59.919905 \n\" clip-path=\"url(#pc855cf39ae)\" style=\"fill: none; stroke: #1f77b4; stroke-width: 1.5; stroke-linecap: square\"/>\n   </g>\n   <g id=\"line2d_14\">\n    <path d=\"M 49.633125 112.761053 \n\" clip-path=\"url(#pc855cf39ae)\" style=\"fill: none; stroke-dasharray: 5.55,2.4; stroke-dashoffset: 0; stroke: #ff7f0e; stroke-width: 1.5\"/>\n   </g>\n   <g id=\"line2d_15\"/>\n   <g id=\"line2d_16\">\n    <path d=\"M 34.954394 13.5 \nL 44.698573 59.919905 \n\" clip-path=\"url(#pc855cf39ae)\" style=\"fill: none; stroke: #1f77b4; stroke-width: 1.5; stroke-linecap: square\"/>\n   </g>\n   <g id=\"line2d_17\">\n    <path d=\"M 49.633125 112.761053 \n\" clip-path=\"url(#pc855cf39ae)\" style=\"fill: none; stroke-dasharray: 5.55,2.4; stroke-dashoffset: 0; stroke: #ff7f0e; stroke-width: 1.5\"/>\n   </g>\n   <g id=\"line2d_18\">\n    <path d=\"M 49.633125 112.529984 \n\" clip-path=\"url(#pc855cf39ae)\" style=\"fill: none; stroke-dasharray: 9.6,2.4,1.5,2.4; stroke-dashoffset: 0; stroke: #2ca02c; stroke-width: 1.5\"/>\n   </g>\n   <g id=\"line2d_19\">\n    <path d=\"M 34.954394 13.5 \nL 44.698573 59.919905 \nL 54.442752 113.112059 \n\" clip-path=\"url(#pc855cf39ae)\" style=\"fill: none; stroke: #1f77b4; stroke-width: 1.5; stroke-linecap: square\"/>\n   </g>\n   <g id=\"line2d_20\">\n    <path d=\"M 49.633125 112.761053 \n\" clip-path=\"url(#pc855cf39ae)\" style=\"fill: none; stroke-dasharray: 5.55,2.4; stroke-dashoffset: 0; stroke: #ff7f0e; stroke-width: 1.5\"/>\n   </g>\n   <g id=\"line2d_21\">\n    <path d=\"M 49.633125 112.529984 \n\" clip-path=\"url(#pc855cf39ae)\" style=\"fill: none; stroke-dasharray: 9.6,2.4,1.5,2.4; stroke-dashoffset: 0; stroke: #2ca02c; stroke-width: 1.5\"/>\n   </g>\n   <g id=\"line2d_22\">\n    <path d=\"M 34.954394 13.5 \nL 44.698573 59.919905 \nL 54.442752 113.112059 \nL 64.186931 121.736702 \n\" clip-path=\"url(#pc855cf39ae)\" style=\"fill: none; stroke: #1f77b4; stroke-width: 1.5; stroke-linecap: square\"/>\n   </g>\n   <g id=\"line2d_23\">\n    <path d=\"M 49.633125 112.761053 \n\" clip-path=\"url(#pc855cf39ae)\" style=\"fill: none; stroke-dasharray: 5.55,2.4; stroke-dashoffset: 0; stroke: #ff7f0e; stroke-width: 1.5\"/>\n   </g>\n   <g id=\"line2d_24\">\n    <path d=\"M 49.633125 112.529984 \n\" clip-path=\"url(#pc855cf39ae)\" style=\"fill: none; stroke-dasharray: 9.6,2.4,1.5,2.4; stroke-dashoffset: 0; stroke: #2ca02c; stroke-width: 1.5\"/>\n   </g>\n   <g id=\"line2d_25\">\n    <path d=\"M 34.954394 13.5 \nL 44.698573 59.919905 \nL 54.442752 113.112059 \nL 64.186931 121.736702 \n\" clip-path=\"url(#pc855cf39ae)\" style=\"fill: none; stroke: #1f77b4; stroke-width: 1.5; stroke-linecap: square\"/>\n   </g>\n   <g id=\"line2d_26\">\n    <path d=\"M 49.633125 112.761053 \nL 69.163125 125.912827 \n\" clip-path=\"url(#pc855cf39ae)\" style=\"fill: none; stroke-dasharray: 5.55,2.4; stroke-dashoffset: 0; stroke: #ff7f0e; stroke-width: 1.5\"/>\n   </g>\n   <g id=\"line2d_27\">\n    <path d=\"M 49.633125 112.529984 \n\" clip-path=\"url(#pc855cf39ae)\" style=\"fill: none; stroke-dasharray: 9.6,2.4,1.5,2.4; stroke-dashoffset: 0; stroke: #2ca02c; stroke-width: 1.5\"/>\n   </g>\n   <g id=\"line2d_28\">\n    <path d=\"M 34.954394 13.5 \nL 44.698573 59.919905 \nL 54.442752 113.112059 \nL 64.186931 121.736702 \n\" clip-path=\"url(#pc855cf39ae)\" style=\"fill: none; stroke: #1f77b4; stroke-width: 1.5; stroke-linecap: square\"/>\n   </g>\n   <g id=\"line2d_29\">\n    <path d=\"M 49.633125 112.761053 \nL 69.163125 125.912827 \n\" clip-path=\"url(#pc855cf39ae)\" style=\"fill: none; stroke-dasharray: 5.55,2.4; stroke-dashoffset: 0; stroke: #ff7f0e; stroke-width: 1.5\"/>\n   </g>\n   <g id=\"line2d_30\">\n    <path d=\"M 49.633125 112.529984 \nL 69.163125 107.021536 \n\" clip-path=\"url(#pc855cf39ae)\" style=\"fill: none; stroke-dasharray: 9.6,2.4,1.5,2.4; stroke-dashoffset: 0; stroke: #2ca02c; stroke-width: 1.5\"/>\n   </g>\n   <g id=\"line2d_31\">\n    <path d=\"M 34.954394 13.5 \nL 44.698573 59.919905 \nL 54.442752 113.112059 \nL 64.186931 121.736702 \nL 73.93111 125.98442 \n\" clip-path=\"url(#pc855cf39ae)\" style=\"fill: none; stroke: #1f77b4; stroke-width: 1.5; stroke-linecap: square\"/>\n   </g>\n   <g id=\"line2d_32\">\n    <path d=\"M 49.633125 112.761053 \nL 69.163125 125.912827 \n\" clip-path=\"url(#pc855cf39ae)\" style=\"fill: none; stroke-dasharray: 5.55,2.4; stroke-dashoffset: 0; stroke: #ff7f0e; stroke-width: 1.5\"/>\n   </g>\n   <g id=\"line2d_33\">\n    <path d=\"M 49.633125 112.529984 \nL 69.163125 107.021536 \n\" clip-path=\"url(#pc855cf39ae)\" style=\"fill: none; stroke-dasharray: 9.6,2.4,1.5,2.4; stroke-dashoffset: 0; stroke: #2ca02c; stroke-width: 1.5\"/>\n   </g>\n   <g id=\"line2d_34\">\n    <path d=\"M 34.954394 13.5 \nL 44.698573 59.919905 \nL 54.442752 113.112059 \nL 64.186931 121.736702 \nL 73.93111 125.98442 \nL 83.675289 127.927502 \n\" clip-path=\"url(#pc855cf39ae)\" style=\"fill: none; stroke: #1f77b4; stroke-width: 1.5; stroke-linecap: square\"/>\n   </g>\n   <g id=\"line2d_35\">\n    <path d=\"M 49.633125 112.761053 \nL 69.163125 125.912827 \n\" clip-path=\"url(#pc855cf39ae)\" style=\"fill: none; stroke-dasharray: 5.55,2.4; stroke-dashoffset: 0; stroke: #ff7f0e; stroke-width: 1.5\"/>\n   </g>\n   <g id=\"line2d_36\">\n    <path d=\"M 49.633125 112.529984 \nL 69.163125 107.021536 \n\" clip-path=\"url(#pc855cf39ae)\" style=\"fill: none; stroke-dasharray: 9.6,2.4,1.5,2.4; stroke-dashoffset: 0; stroke: #2ca02c; stroke-width: 1.5\"/>\n   </g>\n   <g id=\"line2d_37\">\n    <path d=\"M 34.954394 13.5 \nL 44.698573 59.919905 \nL 54.442752 113.112059 \nL 64.186931 121.736702 \nL 73.93111 125.98442 \nL 83.675289 127.927502 \n\" clip-path=\"url(#pc855cf39ae)\" style=\"fill: none; stroke: #1f77b4; stroke-width: 1.5; stroke-linecap: square\"/>\n   </g>\n   <g id=\"line2d_38\">\n    <path d=\"M 49.633125 112.761053 \nL 69.163125 125.912827 \nL 88.693125 130.445386 \n\" clip-path=\"url(#pc855cf39ae)\" style=\"fill: none; stroke-dasharray: 5.55,2.4; stroke-dashoffset: 0; stroke: #ff7f0e; stroke-width: 1.5\"/>\n   </g>\n   <g id=\"line2d_39\">\n    <path d=\"M 49.633125 112.529984 \nL 69.163125 107.021536 \n\" clip-path=\"url(#pc855cf39ae)\" style=\"fill: none; stroke-dasharray: 9.6,2.4,1.5,2.4; stroke-dashoffset: 0; stroke: #2ca02c; stroke-width: 1.5\"/>\n   </g>\n   <g id=\"line2d_40\">\n    <path d=\"M 34.954394 13.5 \nL 44.698573 59.919905 \nL 54.442752 113.112059 \nL 64.186931 121.736702 \nL 73.93111 125.98442 \nL 83.675289 127.927502 \n\" clip-path=\"url(#pc855cf39ae)\" style=\"fill: none; stroke: #1f77b4; stroke-width: 1.5; stroke-linecap: square\"/>\n   </g>\n   <g id=\"line2d_41\">\n    <path d=\"M 49.633125 112.761053 \nL 69.163125 125.912827 \nL 88.693125 130.445386 \n\" clip-path=\"url(#pc855cf39ae)\" style=\"fill: none; stroke-dasharray: 5.55,2.4; stroke-dashoffset: 0; stroke: #ff7f0e; stroke-width: 1.5\"/>\n   </g>\n   <g id=\"line2d_42\">\n    <path d=\"M 49.633125 112.529984 \nL 69.163125 107.021536 \nL 88.693125 105.210283 \n\" clip-path=\"url(#pc855cf39ae)\" style=\"fill: none; stroke-dasharray: 9.6,2.4,1.5,2.4; stroke-dashoffset: 0; stroke: #2ca02c; stroke-width: 1.5\"/>\n   </g>\n   <g id=\"line2d_43\">\n    <path d=\"M 34.954394 13.5 \nL 44.698573 59.919905 \nL 54.442752 113.112059 \nL 64.186931 121.736702 \nL 73.93111 125.98442 \nL 83.675289 127.927502 \nL 93.419468 130.323518 \n\" clip-path=\"url(#pc855cf39ae)\" style=\"fill: none; stroke: #1f77b4; stroke-width: 1.5; stroke-linecap: square\"/>\n   </g>\n   <g id=\"line2d_44\">\n    <path d=\"M 49.633125 112.761053 \nL 69.163125 125.912827 \nL 88.693125 130.445386 \n\" clip-path=\"url(#pc855cf39ae)\" style=\"fill: none; stroke-dasharray: 5.55,2.4; stroke-dashoffset: 0; stroke: #ff7f0e; stroke-width: 1.5\"/>\n   </g>\n   <g id=\"line2d_45\">\n    <path d=\"M 49.633125 112.529984 \nL 69.163125 107.021536 \nL 88.693125 105.210283 \n\" clip-path=\"url(#pc855cf39ae)\" style=\"fill: none; stroke-dasharray: 9.6,2.4,1.5,2.4; stroke-dashoffset: 0; stroke: #2ca02c; stroke-width: 1.5\"/>\n   </g>\n   <g id=\"line2d_46\">\n    <path d=\"M 34.954394 13.5 \nL 44.698573 59.919905 \nL 54.442752 113.112059 \nL 64.186931 121.736702 \nL 73.93111 125.98442 \nL 83.675289 127.927502 \nL 93.419468 130.323518 \nL 103.163647 131.25701 \n\" clip-path=\"url(#pc855cf39ae)\" style=\"fill: none; stroke: #1f77b4; stroke-width: 1.5; stroke-linecap: square\"/>\n   </g>\n   <g id=\"line2d_47\">\n    <path d=\"M 49.633125 112.761053 \nL 69.163125 125.912827 \nL 88.693125 130.445386 \n\" clip-path=\"url(#pc855cf39ae)\" style=\"fill: none; stroke-dasharray: 5.55,2.4; stroke-dashoffset: 0; stroke: #ff7f0e; stroke-width: 1.5\"/>\n   </g>\n   <g id=\"line2d_48\">\n    <path d=\"M 49.633125 112.529984 \nL 69.163125 107.021536 \nL 88.693125 105.210283 \n\" clip-path=\"url(#pc855cf39ae)\" style=\"fill: none; stroke-dasharray: 9.6,2.4,1.5,2.4; stroke-dashoffset: 0; stroke: #2ca02c; stroke-width: 1.5\"/>\n   </g>\n   <g id=\"line2d_49\">\n    <path d=\"M 34.954394 13.5 \nL 44.698573 59.919905 \nL 54.442752 113.112059 \nL 64.186931 121.736702 \nL 73.93111 125.98442 \nL 83.675289 127.927502 \nL 93.419468 130.323518 \nL 103.163647 131.25701 \n\" clip-path=\"url(#pc855cf39ae)\" style=\"fill: none; stroke: #1f77b4; stroke-width: 1.5; stroke-linecap: square\"/>\n   </g>\n   <g id=\"line2d_50\">\n    <path d=\"M 49.633125 112.761053 \nL 69.163125 125.912827 \nL 88.693125 130.445386 \nL 108.223125 132.70274 \n\" clip-path=\"url(#pc855cf39ae)\" style=\"fill: none; stroke-dasharray: 5.55,2.4; stroke-dashoffset: 0; stroke: #ff7f0e; stroke-width: 1.5\"/>\n   </g>\n   <g id=\"line2d_51\">\n    <path d=\"M 49.633125 112.529984 \nL 69.163125 107.021536 \nL 88.693125 105.210283 \n\" clip-path=\"url(#pc855cf39ae)\" style=\"fill: none; stroke-dasharray: 9.6,2.4,1.5,2.4; stroke-dashoffset: 0; stroke: #2ca02c; stroke-width: 1.5\"/>\n   </g>\n   <g id=\"line2d_52\">\n    <path d=\"M 34.954394 13.5 \nL 44.698573 59.919905 \nL 54.442752 113.112059 \nL 64.186931 121.736702 \nL 73.93111 125.98442 \nL 83.675289 127.927502 \nL 93.419468 130.323518 \nL 103.163647 131.25701 \n\" clip-path=\"url(#pc855cf39ae)\" style=\"fill: none; stroke: #1f77b4; stroke-width: 1.5; stroke-linecap: square\"/>\n   </g>\n   <g id=\"line2d_53\">\n    <path d=\"M 49.633125 112.761053 \nL 69.163125 125.912827 \nL 88.693125 130.445386 \nL 108.223125 132.70274 \n\" clip-path=\"url(#pc855cf39ae)\" style=\"fill: none; stroke-dasharray: 5.55,2.4; stroke-dashoffset: 0; stroke: #ff7f0e; stroke-width: 1.5\"/>\n   </g>\n   <g id=\"line2d_54\">\n    <path d=\"M 49.633125 112.529984 \nL 69.163125 107.021536 \nL 88.693125 105.210283 \nL 108.223125 104.525617 \n\" clip-path=\"url(#pc855cf39ae)\" style=\"fill: none; stroke-dasharray: 9.6,2.4,1.5,2.4; stroke-dashoffset: 0; stroke: #2ca02c; stroke-width: 1.5\"/>\n   </g>\n   <g id=\"line2d_55\">\n    <path d=\"M 34.954394 13.5 \nL 44.698573 59.919905 \nL 54.442752 113.112059 \nL 64.186931 121.736702 \nL 73.93111 125.98442 \nL 83.675289 127.927502 \nL 93.419468 130.323518 \nL 103.163647 131.25701 \nL 112.907826 132.829516 \n\" clip-path=\"url(#pc855cf39ae)\" style=\"fill: none; stroke: #1f77b4; stroke-width: 1.5; stroke-linecap: square\"/>\n   </g>\n   <g id=\"line2d_56\">\n    <path d=\"M 49.633125 112.761053 \nL 69.163125 125.912827 \nL 88.693125 130.445386 \nL 108.223125 132.70274 \n\" clip-path=\"url(#pc855cf39ae)\" style=\"fill: none; stroke-dasharray: 5.55,2.4; stroke-dashoffset: 0; stroke: #ff7f0e; stroke-width: 1.5\"/>\n   </g>\n   <g id=\"line2d_57\">\n    <path d=\"M 49.633125 112.529984 \nL 69.163125 107.021536 \nL 88.693125 105.210283 \nL 108.223125 104.525617 \n\" clip-path=\"url(#pc855cf39ae)\" style=\"fill: none; stroke-dasharray: 9.6,2.4,1.5,2.4; stroke-dashoffset: 0; stroke: #2ca02c; stroke-width: 1.5\"/>\n   </g>\n   <g id=\"line2d_58\">\n    <path d=\"M 34.954394 13.5 \nL 44.698573 59.919905 \nL 54.442752 113.112059 \nL 64.186931 121.736702 \nL 73.93111 125.98442 \nL 83.675289 127.927502 \nL 93.419468 130.323518 \nL 103.163647 131.25701 \nL 112.907826 132.829516 \nL 122.652006 133.91476 \n\" clip-path=\"url(#pc855cf39ae)\" style=\"fill: none; stroke: #1f77b4; stroke-width: 1.5; stroke-linecap: square\"/>\n   </g>\n   <g id=\"line2d_59\">\n    <path d=\"M 49.633125 112.761053 \nL 69.163125 125.912827 \nL 88.693125 130.445386 \nL 108.223125 132.70274 \n\" clip-path=\"url(#pc855cf39ae)\" style=\"fill: none; stroke-dasharray: 5.55,2.4; stroke-dashoffset: 0; stroke: #ff7f0e; stroke-width: 1.5\"/>\n   </g>\n   <g id=\"line2d_60\">\n    <path d=\"M 49.633125 112.529984 \nL 69.163125 107.021536 \nL 88.693125 105.210283 \nL 108.223125 104.525617 \n\" clip-path=\"url(#pc855cf39ae)\" style=\"fill: none; stroke-dasharray: 9.6,2.4,1.5,2.4; stroke-dashoffset: 0; stroke: #2ca02c; stroke-width: 1.5\"/>\n   </g>\n   <g id=\"line2d_61\">\n    <path d=\"M 34.954394 13.5 \nL 44.698573 59.919905 \nL 54.442752 113.112059 \nL 64.186931 121.736702 \nL 73.93111 125.98442 \nL 83.675289 127.927502 \nL 93.419468 130.323518 \nL 103.163647 131.25701 \nL 112.907826 132.829516 \nL 122.652006 133.91476 \n\" clip-path=\"url(#pc855cf39ae)\" style=\"fill: none; stroke: #1f77b4; stroke-width: 1.5; stroke-linecap: square\"/>\n   </g>\n   <g id=\"line2d_62\">\n    <path d=\"M 49.633125 112.761053 \nL 69.163125 125.912827 \nL 88.693125 130.445386 \nL 108.223125 132.70274 \nL 127.753125 135.101347 \n\" clip-path=\"url(#pc855cf39ae)\" style=\"fill: none; stroke-dasharray: 5.55,2.4; stroke-dashoffset: 0; stroke: #ff7f0e; stroke-width: 1.5\"/>\n   </g>\n   <g id=\"line2d_63\">\n    <path d=\"M 49.633125 112.529984 \nL 69.163125 107.021536 \nL 88.693125 105.210283 \nL 108.223125 104.525617 \n\" clip-path=\"url(#pc855cf39ae)\" style=\"fill: none; stroke-dasharray: 9.6,2.4,1.5,2.4; stroke-dashoffset: 0; stroke: #2ca02c; stroke-width: 1.5\"/>\n   </g>\n   <g id=\"line2d_64\">\n    <path d=\"M 34.954394 13.5 \nL 44.698573 59.919905 \nL 54.442752 113.112059 \nL 64.186931 121.736702 \nL 73.93111 125.98442 \nL 83.675289 127.927502 \nL 93.419468 130.323518 \nL 103.163647 131.25701 \nL 112.907826 132.829516 \nL 122.652006 133.91476 \n\" clip-path=\"url(#pc855cf39ae)\" style=\"fill: none; stroke: #1f77b4; stroke-width: 1.5; stroke-linecap: square\"/>\n   </g>\n   <g id=\"line2d_65\">\n    <path d=\"M 49.633125 112.761053 \nL 69.163125 125.912827 \nL 88.693125 130.445386 \nL 108.223125 132.70274 \nL 127.753125 135.101347 \n\" clip-path=\"url(#pc855cf39ae)\" style=\"fill: none; stroke-dasharray: 5.55,2.4; stroke-dashoffset: 0; stroke: #ff7f0e; stroke-width: 1.5\"/>\n   </g>\n   <g id=\"line2d_66\">\n    <path d=\"M 49.633125 112.529984 \nL 69.163125 107.021536 \nL 88.693125 105.210283 \nL 108.223125 104.525617 \nL 127.753125 103.262098 \n\" clip-path=\"url(#pc855cf39ae)\" style=\"fill: none; stroke-dasharray: 9.6,2.4,1.5,2.4; stroke-dashoffset: 0; stroke: #2ca02c; stroke-width: 1.5\"/>\n   </g>\n   <g id=\"line2d_67\">\n    <path d=\"M 34.954394 13.5 \nL 44.698573 59.919905 \nL 54.442752 113.112059 \nL 64.186931 121.736702 \nL 73.93111 125.98442 \nL 83.675289 127.927502 \nL 93.419468 130.323518 \nL 103.163647 131.25701 \nL 112.907826 132.829516 \nL 122.652006 133.91476 \nL 132.396185 134.963095 \n\" clip-path=\"url(#pc855cf39ae)\" style=\"fill: none; stroke: #1f77b4; stroke-width: 1.5; stroke-linecap: square\"/>\n   </g>\n   <g id=\"line2d_68\">\n    <path d=\"M 49.633125 112.761053 \nL 69.163125 125.912827 \nL 88.693125 130.445386 \nL 108.223125 132.70274 \nL 127.753125 135.101347 \n\" clip-path=\"url(#pc855cf39ae)\" style=\"fill: none; stroke-dasharray: 5.55,2.4; stroke-dashoffset: 0; stroke: #ff7f0e; stroke-width: 1.5\"/>\n   </g>\n   <g id=\"line2d_69\">\n    <path d=\"M 49.633125 112.529984 \nL 69.163125 107.021536 \nL 88.693125 105.210283 \nL 108.223125 104.525617 \nL 127.753125 103.262098 \n\" clip-path=\"url(#pc855cf39ae)\" style=\"fill: none; stroke-dasharray: 9.6,2.4,1.5,2.4; stroke-dashoffset: 0; stroke: #2ca02c; stroke-width: 1.5\"/>\n   </g>\n   <g id=\"line2d_70\">\n    <path d=\"M 34.954394 13.5 \nL 44.698573 59.919905 \nL 54.442752 113.112059 \nL 64.186931 121.736702 \nL 73.93111 125.98442 \nL 83.675289 127.927502 \nL 93.419468 130.323518 \nL 103.163647 131.25701 \nL 112.907826 132.829516 \nL 122.652006 133.91476 \nL 132.396185 134.963095 \nL 142.140364 135.310508 \n\" clip-path=\"url(#pc855cf39ae)\" style=\"fill: none; stroke: #1f77b4; stroke-width: 1.5; stroke-linecap: square\"/>\n   </g>\n   <g id=\"line2d_71\">\n    <path d=\"M 49.633125 112.761053 \nL 69.163125 125.912827 \nL 88.693125 130.445386 \nL 108.223125 132.70274 \nL 127.753125 135.101347 \n\" clip-path=\"url(#pc855cf39ae)\" style=\"fill: none; stroke-dasharray: 5.55,2.4; stroke-dashoffset: 0; stroke: #ff7f0e; stroke-width: 1.5\"/>\n   </g>\n   <g id=\"line2d_72\">\n    <path d=\"M 49.633125 112.529984 \nL 69.163125 107.021536 \nL 88.693125 105.210283 \nL 108.223125 104.525617 \nL 127.753125 103.262098 \n\" clip-path=\"url(#pc855cf39ae)\" style=\"fill: none; stroke-dasharray: 9.6,2.4,1.5,2.4; stroke-dashoffset: 0; stroke: #2ca02c; stroke-width: 1.5\"/>\n   </g>\n   <g id=\"line2d_73\">\n    <path d=\"M 34.954394 13.5 \nL 44.698573 59.919905 \nL 54.442752 113.112059 \nL 64.186931 121.736702 \nL 73.93111 125.98442 \nL 83.675289 127.927502 \nL 93.419468 130.323518 \nL 103.163647 131.25701 \nL 112.907826 132.829516 \nL 122.652006 133.91476 \nL 132.396185 134.963095 \nL 142.140364 135.310508 \n\" clip-path=\"url(#pc855cf39ae)\" style=\"fill: none; stroke: #1f77b4; stroke-width: 1.5; stroke-linecap: square\"/>\n   </g>\n   <g id=\"line2d_74\">\n    <path d=\"M 49.633125 112.761053 \nL 69.163125 125.912827 \nL 88.693125 130.445386 \nL 108.223125 132.70274 \nL 127.753125 135.101347 \nL 147.283125 136.69921 \n\" clip-path=\"url(#pc855cf39ae)\" style=\"fill: none; stroke-dasharray: 5.55,2.4; stroke-dashoffset: 0; stroke: #ff7f0e; stroke-width: 1.5\"/>\n   </g>\n   <g id=\"line2d_75\">\n    <path d=\"M 49.633125 112.529984 \nL 69.163125 107.021536 \nL 88.693125 105.210283 \nL 108.223125 104.525617 \nL 127.753125 103.262098 \n\" clip-path=\"url(#pc855cf39ae)\" style=\"fill: none; stroke-dasharray: 9.6,2.4,1.5,2.4; stroke-dashoffset: 0; stroke: #2ca02c; stroke-width: 1.5\"/>\n   </g>\n   <g id=\"line2d_76\">\n    <path d=\"M 34.954394 13.5 \nL 44.698573 59.919905 \nL 54.442752 113.112059 \nL 64.186931 121.736702 \nL 73.93111 125.98442 \nL 83.675289 127.927502 \nL 93.419468 130.323518 \nL 103.163647 131.25701 \nL 112.907826 132.829516 \nL 122.652006 133.91476 \nL 132.396185 134.963095 \nL 142.140364 135.310508 \n\" clip-path=\"url(#pc855cf39ae)\" style=\"fill: none; stroke: #1f77b4; stroke-width: 1.5; stroke-linecap: square\"/>\n   </g>\n   <g id=\"line2d_77\">\n    <path d=\"M 49.633125 112.761053 \nL 69.163125 125.912827 \nL 88.693125 130.445386 \nL 108.223125 132.70274 \nL 127.753125 135.101347 \nL 147.283125 136.69921 \n\" clip-path=\"url(#pc855cf39ae)\" style=\"fill: none; stroke-dasharray: 5.55,2.4; stroke-dashoffset: 0; stroke: #ff7f0e; stroke-width: 1.5\"/>\n   </g>\n   <g id=\"line2d_78\">\n    <path d=\"M 49.633125 112.529984 \nL 69.163125 107.021536 \nL 88.693125 105.210283 \nL 108.223125 104.525617 \nL 127.753125 103.262098 \nL 147.283125 102.813953 \n\" clip-path=\"url(#pc855cf39ae)\" style=\"fill: none; stroke-dasharray: 9.6,2.4,1.5,2.4; stroke-dashoffset: 0; stroke: #2ca02c; stroke-width: 1.5\"/>\n   </g>\n   <g id=\"line2d_79\">\n    <path d=\"M 34.954394 13.5 \nL 44.698573 59.919905 \nL 54.442752 113.112059 \nL 64.186931 121.736702 \nL 73.93111 125.98442 \nL 83.675289 127.927502 \nL 93.419468 130.323518 \nL 103.163647 131.25701 \nL 112.907826 132.829516 \nL 122.652006 133.91476 \nL 132.396185 134.963095 \nL 142.140364 135.310508 \nL 151.884543 136.111322 \n\" clip-path=\"url(#pc855cf39ae)\" style=\"fill: none; stroke: #1f77b4; stroke-width: 1.5; stroke-linecap: square\"/>\n   </g>\n   <g id=\"line2d_80\">\n    <path d=\"M 49.633125 112.761053 \nL 69.163125 125.912827 \nL 88.693125 130.445386 \nL 108.223125 132.70274 \nL 127.753125 135.101347 \nL 147.283125 136.69921 \n\" clip-path=\"url(#pc855cf39ae)\" style=\"fill: none; stroke-dasharray: 5.55,2.4; stroke-dashoffset: 0; stroke: #ff7f0e; stroke-width: 1.5\"/>\n   </g>\n   <g id=\"line2d_81\">\n    <path d=\"M 49.633125 112.529984 \nL 69.163125 107.021536 \nL 88.693125 105.210283 \nL 108.223125 104.525617 \nL 127.753125 103.262098 \nL 147.283125 102.813953 \n\" clip-path=\"url(#pc855cf39ae)\" style=\"fill: none; stroke-dasharray: 9.6,2.4,1.5,2.4; stroke-dashoffset: 0; stroke: #2ca02c; stroke-width: 1.5\"/>\n   </g>\n   <g id=\"line2d_82\">\n    <path d=\"M 34.954394 13.5 \nL 44.698573 59.919905 \nL 54.442752 113.112059 \nL 64.186931 121.736702 \nL 73.93111 125.98442 \nL 83.675289 127.927502 \nL 93.419468 130.323518 \nL 103.163647 131.25701 \nL 112.907826 132.829516 \nL 122.652006 133.91476 \nL 132.396185 134.963095 \nL 142.140364 135.310508 \nL 151.884543 136.111322 \nL 161.628722 136.554238 \n\" clip-path=\"url(#pc855cf39ae)\" style=\"fill: none; stroke: #1f77b4; stroke-width: 1.5; stroke-linecap: square\"/>\n   </g>\n   <g id=\"line2d_83\">\n    <path d=\"M 49.633125 112.761053 \nL 69.163125 125.912827 \nL 88.693125 130.445386 \nL 108.223125 132.70274 \nL 127.753125 135.101347 \nL 147.283125 136.69921 \n\" clip-path=\"url(#pc855cf39ae)\" style=\"fill: none; stroke-dasharray: 5.55,2.4; stroke-dashoffset: 0; stroke: #ff7f0e; stroke-width: 1.5\"/>\n   </g>\n   <g id=\"line2d_84\">\n    <path d=\"M 49.633125 112.529984 \nL 69.163125 107.021536 \nL 88.693125 105.210283 \nL 108.223125 104.525617 \nL 127.753125 103.262098 \nL 147.283125 102.813953 \n\" clip-path=\"url(#pc855cf39ae)\" style=\"fill: none; stroke-dasharray: 9.6,2.4,1.5,2.4; stroke-dashoffset: 0; stroke: #2ca02c; stroke-width: 1.5\"/>\n   </g>\n   <g id=\"line2d_85\">\n    <path d=\"M 34.954394 13.5 \nL 44.698573 59.919905 \nL 54.442752 113.112059 \nL 64.186931 121.736702 \nL 73.93111 125.98442 \nL 83.675289 127.927502 \nL 93.419468 130.323518 \nL 103.163647 131.25701 \nL 112.907826 132.829516 \nL 122.652006 133.91476 \nL 132.396185 134.963095 \nL 142.140364 135.310508 \nL 151.884543 136.111322 \nL 161.628722 136.554238 \n\" clip-path=\"url(#pc855cf39ae)\" style=\"fill: none; stroke: #1f77b4; stroke-width: 1.5; stroke-linecap: square\"/>\n   </g>\n   <g id=\"line2d_86\">\n    <path d=\"M 49.633125 112.761053 \nL 69.163125 125.912827 \nL 88.693125 130.445386 \nL 108.223125 132.70274 \nL 127.753125 135.101347 \nL 147.283125 136.69921 \nL 166.813125 137.526454 \n\" clip-path=\"url(#pc855cf39ae)\" style=\"fill: none; stroke-dasharray: 5.55,2.4; stroke-dashoffset: 0; stroke: #ff7f0e; stroke-width: 1.5\"/>\n   </g>\n   <g id=\"line2d_87\">\n    <path d=\"M 49.633125 112.529984 \nL 69.163125 107.021536 \nL 88.693125 105.210283 \nL 108.223125 104.525617 \nL 127.753125 103.262098 \nL 147.283125 102.813953 \n\" clip-path=\"url(#pc855cf39ae)\" style=\"fill: none; stroke-dasharray: 9.6,2.4,1.5,2.4; stroke-dashoffset: 0; stroke: #2ca02c; stroke-width: 1.5\"/>\n   </g>\n   <g id=\"line2d_88\">\n    <path d=\"M 34.954394 13.5 \nL 44.698573 59.919905 \nL 54.442752 113.112059 \nL 64.186931 121.736702 \nL 73.93111 125.98442 \nL 83.675289 127.927502 \nL 93.419468 130.323518 \nL 103.163647 131.25701 \nL 112.907826 132.829516 \nL 122.652006 133.91476 \nL 132.396185 134.963095 \nL 142.140364 135.310508 \nL 151.884543 136.111322 \nL 161.628722 136.554238 \n\" clip-path=\"url(#pc855cf39ae)\" style=\"fill: none; stroke: #1f77b4; stroke-width: 1.5; stroke-linecap: square\"/>\n   </g>\n   <g id=\"line2d_89\">\n    <path d=\"M 49.633125 112.761053 \nL 69.163125 125.912827 \nL 88.693125 130.445386 \nL 108.223125 132.70274 \nL 127.753125 135.101347 \nL 147.283125 136.69921 \nL 166.813125 137.526454 \n\" clip-path=\"url(#pc855cf39ae)\" style=\"fill: none; stroke-dasharray: 5.55,2.4; stroke-dashoffset: 0; stroke: #ff7f0e; stroke-width: 1.5\"/>\n   </g>\n   <g id=\"line2d_90\">\n    <path d=\"M 49.633125 112.529984 \nL 69.163125 107.021536 \nL 88.693125 105.210283 \nL 108.223125 104.525617 \nL 127.753125 103.262098 \nL 147.283125 102.813953 \nL 166.813125 102.67702 \n\" clip-path=\"url(#pc855cf39ae)\" style=\"fill: none; stroke-dasharray: 9.6,2.4,1.5,2.4; stroke-dashoffset: 0; stroke: #2ca02c; stroke-width: 1.5\"/>\n   </g>\n   <g id=\"line2d_91\">\n    <path d=\"M 34.954394 13.5 \nL 44.698573 59.919905 \nL 54.442752 113.112059 \nL 64.186931 121.736702 \nL 73.93111 125.98442 \nL 83.675289 127.927502 \nL 93.419468 130.323518 \nL 103.163647 131.25701 \nL 112.907826 132.829516 \nL 122.652006 133.91476 \nL 132.396185 134.963095 \nL 142.140364 135.310508 \nL 151.884543 136.111322 \nL 161.628722 136.554238 \nL 171.372901 137.744664 \n\" clip-path=\"url(#pc855cf39ae)\" style=\"fill: none; stroke: #1f77b4; stroke-width: 1.5; stroke-linecap: square\"/>\n   </g>\n   <g id=\"line2d_92\">\n    <path d=\"M 49.633125 112.761053 \nL 69.163125 125.912827 \nL 88.693125 130.445386 \nL 108.223125 132.70274 \nL 127.753125 135.101347 \nL 147.283125 136.69921 \nL 166.813125 137.526454 \n\" clip-path=\"url(#pc855cf39ae)\" style=\"fill: none; stroke-dasharray: 5.55,2.4; stroke-dashoffset: 0; stroke: #ff7f0e; stroke-width: 1.5\"/>\n   </g>\n   <g id=\"line2d_93\">\n    <path d=\"M 49.633125 112.529984 \nL 69.163125 107.021536 \nL 88.693125 105.210283 \nL 108.223125 104.525617 \nL 127.753125 103.262098 \nL 147.283125 102.813953 \nL 166.813125 102.67702 \n\" clip-path=\"url(#pc855cf39ae)\" style=\"fill: none; stroke-dasharray: 9.6,2.4,1.5,2.4; stroke-dashoffset: 0; stroke: #2ca02c; stroke-width: 1.5\"/>\n   </g>\n   <g id=\"line2d_94\">\n    <path d=\"M 34.954394 13.5 \nL 44.698573 59.919905 \nL 54.442752 113.112059 \nL 64.186931 121.736702 \nL 73.93111 125.98442 \nL 83.675289 127.927502 \nL 93.419468 130.323518 \nL 103.163647 131.25701 \nL 112.907826 132.829516 \nL 122.652006 133.91476 \nL 132.396185 134.963095 \nL 142.140364 135.310508 \nL 151.884543 136.111322 \nL 161.628722 136.554238 \nL 171.372901 137.744664 \nL 181.11708 137.473062 \n\" clip-path=\"url(#pc855cf39ae)\" style=\"fill: none; stroke: #1f77b4; stroke-width: 1.5; stroke-linecap: square\"/>\n   </g>\n   <g id=\"line2d_95\">\n    <path d=\"M 49.633125 112.761053 \nL 69.163125 125.912827 \nL 88.693125 130.445386 \nL 108.223125 132.70274 \nL 127.753125 135.101347 \nL 147.283125 136.69921 \nL 166.813125 137.526454 \n\" clip-path=\"url(#pc855cf39ae)\" style=\"fill: none; stroke-dasharray: 5.55,2.4; stroke-dashoffset: 0; stroke: #ff7f0e; stroke-width: 1.5\"/>\n   </g>\n   <g id=\"line2d_96\">\n    <path d=\"M 49.633125 112.529984 \nL 69.163125 107.021536 \nL 88.693125 105.210283 \nL 108.223125 104.525617 \nL 127.753125 103.262098 \nL 147.283125 102.813953 \nL 166.813125 102.67702 \n\" clip-path=\"url(#pc855cf39ae)\" style=\"fill: none; stroke-dasharray: 9.6,2.4,1.5,2.4; stroke-dashoffset: 0; stroke: #2ca02c; stroke-width: 1.5\"/>\n   </g>\n   <g id=\"line2d_97\">\n    <path d=\"M 34.954394 13.5 \nL 44.698573 59.919905 \nL 54.442752 113.112059 \nL 64.186931 121.736702 \nL 73.93111 125.98442 \nL 83.675289 127.927502 \nL 93.419468 130.323518 \nL 103.163647 131.25701 \nL 112.907826 132.829516 \nL 122.652006 133.91476 \nL 132.396185 134.963095 \nL 142.140364 135.310508 \nL 151.884543 136.111322 \nL 161.628722 136.554238 \nL 171.372901 137.744664 \nL 181.11708 137.473062 \n\" clip-path=\"url(#pc855cf39ae)\" style=\"fill: none; stroke: #1f77b4; stroke-width: 1.5; stroke-linecap: square\"/>\n   </g>\n   <g id=\"line2d_98\">\n    <path d=\"M 49.633125 112.761053 \nL 69.163125 125.912827 \nL 88.693125 130.445386 \nL 108.223125 132.70274 \nL 127.753125 135.101347 \nL 147.283125 136.69921 \nL 166.813125 137.526454 \nL 186.343125 138.015621 \n\" clip-path=\"url(#pc855cf39ae)\" style=\"fill: none; stroke-dasharray: 5.55,2.4; stroke-dashoffset: 0; stroke: #ff7f0e; stroke-width: 1.5\"/>\n   </g>\n   <g id=\"line2d_99\">\n    <path d=\"M 49.633125 112.529984 \nL 69.163125 107.021536 \nL 88.693125 105.210283 \nL 108.223125 104.525617 \nL 127.753125 103.262098 \nL 147.283125 102.813953 \nL 166.813125 102.67702 \n\" clip-path=\"url(#pc855cf39ae)\" style=\"fill: none; stroke-dasharray: 9.6,2.4,1.5,2.4; stroke-dashoffset: 0; stroke: #2ca02c; stroke-width: 1.5\"/>\n   </g>\n   <g id=\"line2d_100\">\n    <path d=\"M 34.954394 13.5 \nL 44.698573 59.919905 \nL 54.442752 113.112059 \nL 64.186931 121.736702 \nL 73.93111 125.98442 \nL 83.675289 127.927502 \nL 93.419468 130.323518 \nL 103.163647 131.25701 \nL 112.907826 132.829516 \nL 122.652006 133.91476 \nL 132.396185 134.963095 \nL 142.140364 135.310508 \nL 151.884543 136.111322 \nL 161.628722 136.554238 \nL 171.372901 137.744664 \nL 181.11708 137.473062 \n\" clip-path=\"url(#pc855cf39ae)\" style=\"fill: none; stroke: #1f77b4; stroke-width: 1.5; stroke-linecap: square\"/>\n   </g>\n   <g id=\"line2d_101\">\n    <path d=\"M 49.633125 112.761053 \nL 69.163125 125.912827 \nL 88.693125 130.445386 \nL 108.223125 132.70274 \nL 127.753125 135.101347 \nL 147.283125 136.69921 \nL 166.813125 137.526454 \nL 186.343125 138.015621 \n\" clip-path=\"url(#pc855cf39ae)\" style=\"fill: none; stroke-dasharray: 5.55,2.4; stroke-dashoffset: 0; stroke: #ff7f0e; stroke-width: 1.5\"/>\n   </g>\n   <g id=\"line2d_102\">\n    <path d=\"M 49.633125 112.529984 \nL 69.163125 107.021536 \nL 88.693125 105.210283 \nL 108.223125 104.525617 \nL 127.753125 103.262098 \nL 147.283125 102.813953 \nL 166.813125 102.67702 \nL 186.343125 102.421826 \n\" clip-path=\"url(#pc855cf39ae)\" style=\"fill: none; stroke-dasharray: 9.6,2.4,1.5,2.4; stroke-dashoffset: 0; stroke: #2ca02c; stroke-width: 1.5\"/>\n   </g>\n   <g id=\"line2d_103\">\n    <path d=\"M 34.954394 13.5 \nL 44.698573 59.919905 \nL 54.442752 113.112059 \nL 64.186931 121.736702 \nL 73.93111 125.98442 \nL 83.675289 127.927502 \nL 93.419468 130.323518 \nL 103.163647 131.25701 \nL 112.907826 132.829516 \nL 122.652006 133.91476 \nL 132.396185 134.963095 \nL 142.140364 135.310508 \nL 151.884543 136.111322 \nL 161.628722 136.554238 \nL 171.372901 137.744664 \nL 181.11708 137.473062 \nL 190.861259 138.308031 \n\" clip-path=\"url(#pc855cf39ae)\" style=\"fill: none; stroke: #1f77b4; stroke-width: 1.5; stroke-linecap: square\"/>\n   </g>\n   <g id=\"line2d_104\">\n    <path d=\"M 49.633125 112.761053 \nL 69.163125 125.912827 \nL 88.693125 130.445386 \nL 108.223125 132.70274 \nL 127.753125 135.101347 \nL 147.283125 136.69921 \nL 166.813125 137.526454 \nL 186.343125 138.015621 \n\" clip-path=\"url(#pc855cf39ae)\" style=\"fill: none; stroke-dasharray: 5.55,2.4; stroke-dashoffset: 0; stroke: #ff7f0e; stroke-width: 1.5\"/>\n   </g>\n   <g id=\"line2d_105\">\n    <path d=\"M 49.633125 112.529984 \nL 69.163125 107.021536 \nL 88.693125 105.210283 \nL 108.223125 104.525617 \nL 127.753125 103.262098 \nL 147.283125 102.813953 \nL 166.813125 102.67702 \nL 186.343125 102.421826 \n\" clip-path=\"url(#pc855cf39ae)\" style=\"fill: none; stroke-dasharray: 9.6,2.4,1.5,2.4; stroke-dashoffset: 0; stroke: #2ca02c; stroke-width: 1.5\"/>\n   </g>\n   <g id=\"line2d_106\">\n    <path d=\"M 34.954394 13.5 \nL 44.698573 59.919905 \nL 54.442752 113.112059 \nL 64.186931 121.736702 \nL 73.93111 125.98442 \nL 83.675289 127.927502 \nL 93.419468 130.323518 \nL 103.163647 131.25701 \nL 112.907826 132.829516 \nL 122.652006 133.91476 \nL 132.396185 134.963095 \nL 142.140364 135.310508 \nL 151.884543 136.111322 \nL 161.628722 136.554238 \nL 171.372901 137.744664 \nL 181.11708 137.473062 \nL 190.861259 138.308031 \nL 200.605438 138.694048 \n\" clip-path=\"url(#pc855cf39ae)\" style=\"fill: none; stroke: #1f77b4; stroke-width: 1.5; stroke-linecap: square\"/>\n   </g>\n   <g id=\"line2d_107\">\n    <path d=\"M 49.633125 112.761053 \nL 69.163125 125.912827 \nL 88.693125 130.445386 \nL 108.223125 132.70274 \nL 127.753125 135.101347 \nL 147.283125 136.69921 \nL 166.813125 137.526454 \nL 186.343125 138.015621 \n\" clip-path=\"url(#pc855cf39ae)\" style=\"fill: none; stroke-dasharray: 5.55,2.4; stroke-dashoffset: 0; stroke: #ff7f0e; stroke-width: 1.5\"/>\n   </g>\n   <g id=\"line2d_108\">\n    <path d=\"M 49.633125 112.529984 \nL 69.163125 107.021536 \nL 88.693125 105.210283 \nL 108.223125 104.525617 \nL 127.753125 103.262098 \nL 147.283125 102.813953 \nL 166.813125 102.67702 \nL 186.343125 102.421826 \n\" clip-path=\"url(#pc855cf39ae)\" style=\"fill: none; stroke-dasharray: 9.6,2.4,1.5,2.4; stroke-dashoffset: 0; stroke: #2ca02c; stroke-width: 1.5\"/>\n   </g>\n   <g id=\"line2d_109\">\n    <path d=\"M 34.954394 13.5 \nL 44.698573 59.919905 \nL 54.442752 113.112059 \nL 64.186931 121.736702 \nL 73.93111 125.98442 \nL 83.675289 127.927502 \nL 93.419468 130.323518 \nL 103.163647 131.25701 \nL 112.907826 132.829516 \nL 122.652006 133.91476 \nL 132.396185 134.963095 \nL 142.140364 135.310508 \nL 151.884543 136.111322 \nL 161.628722 136.554238 \nL 171.372901 137.744664 \nL 181.11708 137.473062 \nL 190.861259 138.308031 \nL 200.605438 138.694048 \n\" clip-path=\"url(#pc855cf39ae)\" style=\"fill: none; stroke: #1f77b4; stroke-width: 1.5; stroke-linecap: square\"/>\n   </g>\n   <g id=\"line2d_110\">\n    <path d=\"M 49.633125 112.761053 \nL 69.163125 125.912827 \nL 88.693125 130.445386 \nL 108.223125 132.70274 \nL 127.753125 135.101347 \nL 147.283125 136.69921 \nL 166.813125 137.526454 \nL 186.343125 138.015621 \nL 205.873125 138.776957 \n\" clip-path=\"url(#pc855cf39ae)\" style=\"fill: none; stroke-dasharray: 5.55,2.4; stroke-dashoffset: 0; stroke: #ff7f0e; stroke-width: 1.5\"/>\n   </g>\n   <g id=\"line2d_111\">\n    <path d=\"M 49.633125 112.529984 \nL 69.163125 107.021536 \nL 88.693125 105.210283 \nL 108.223125 104.525617 \nL 127.753125 103.262098 \nL 147.283125 102.813953 \nL 166.813125 102.67702 \nL 186.343125 102.421826 \n\" clip-path=\"url(#pc855cf39ae)\" style=\"fill: none; stroke-dasharray: 9.6,2.4,1.5,2.4; stroke-dashoffset: 0; stroke: #2ca02c; stroke-width: 1.5\"/>\n   </g>\n   <g id=\"line2d_112\">\n    <path d=\"M 34.954394 13.5 \nL 44.698573 59.919905 \nL 54.442752 113.112059 \nL 64.186931 121.736702 \nL 73.93111 125.98442 \nL 83.675289 127.927502 \nL 93.419468 130.323518 \nL 103.163647 131.25701 \nL 112.907826 132.829516 \nL 122.652006 133.91476 \nL 132.396185 134.963095 \nL 142.140364 135.310508 \nL 151.884543 136.111322 \nL 161.628722 136.554238 \nL 171.372901 137.744664 \nL 181.11708 137.473062 \nL 190.861259 138.308031 \nL 200.605438 138.694048 \n\" clip-path=\"url(#pc855cf39ae)\" style=\"fill: none; stroke: #1f77b4; stroke-width: 1.5; stroke-linecap: square\"/>\n   </g>\n   <g id=\"line2d_113\">\n    <path d=\"M 49.633125 112.761053 \nL 69.163125 125.912827 \nL 88.693125 130.445386 \nL 108.223125 132.70274 \nL 127.753125 135.101347 \nL 147.283125 136.69921 \nL 166.813125 137.526454 \nL 186.343125 138.015621 \nL 205.873125 138.776957 \n\" clip-path=\"url(#pc855cf39ae)\" style=\"fill: none; stroke-dasharray: 5.55,2.4; stroke-dashoffset: 0; stroke: #ff7f0e; stroke-width: 1.5\"/>\n   </g>\n   <g id=\"line2d_114\">\n    <path d=\"M 49.633125 112.529984 \nL 69.163125 107.021536 \nL 88.693125 105.210283 \nL 108.223125 104.525617 \nL 127.753125 103.262098 \nL 147.283125 102.813953 \nL 166.813125 102.67702 \nL 186.343125 102.421826 \nL 205.873125 102.023475 \n\" clip-path=\"url(#pc855cf39ae)\" style=\"fill: none; stroke-dasharray: 9.6,2.4,1.5,2.4; stroke-dashoffset: 0; stroke: #2ca02c; stroke-width: 1.5\"/>\n   </g>\n   <g id=\"line2d_115\">\n    <path d=\"M 34.954394 13.5 \nL 44.698573 59.919905 \nL 54.442752 113.112059 \nL 64.186931 121.736702 \nL 73.93111 125.98442 \nL 83.675289 127.927502 \nL 93.419468 130.323518 \nL 103.163647 131.25701 \nL 112.907826 132.829516 \nL 122.652006 133.91476 \nL 132.396185 134.963095 \nL 142.140364 135.310508 \nL 151.884543 136.111322 \nL 161.628722 136.554238 \nL 171.372901 137.744664 \nL 181.11708 137.473062 \nL 190.861259 138.308031 \nL 200.605438 138.694048 \nL 210.349618 139.467455 \n\" clip-path=\"url(#pc855cf39ae)\" style=\"fill: none; stroke: #1f77b4; stroke-width: 1.5; stroke-linecap: square\"/>\n   </g>\n   <g id=\"line2d_116\">\n    <path d=\"M 49.633125 112.761053 \nL 69.163125 125.912827 \nL 88.693125 130.445386 \nL 108.223125 132.70274 \nL 127.753125 135.101347 \nL 147.283125 136.69921 \nL 166.813125 137.526454 \nL 186.343125 138.015621 \nL 205.873125 138.776957 \n\" clip-path=\"url(#pc855cf39ae)\" style=\"fill: none; stroke-dasharray: 5.55,2.4; stroke-dashoffset: 0; stroke: #ff7f0e; stroke-width: 1.5\"/>\n   </g>\n   <g id=\"line2d_117\">\n    <path d=\"M 49.633125 112.529984 \nL 69.163125 107.021536 \nL 88.693125 105.210283 \nL 108.223125 104.525617 \nL 127.753125 103.262098 \nL 147.283125 102.813953 \nL 166.813125 102.67702 \nL 186.343125 102.421826 \nL 205.873125 102.023475 \n\" clip-path=\"url(#pc855cf39ae)\" style=\"fill: none; stroke-dasharray: 9.6,2.4,1.5,2.4; stroke-dashoffset: 0; stroke: #2ca02c; stroke-width: 1.5\"/>\n   </g>\n   <g id=\"line2d_118\">\n    <path d=\"M 34.954394 13.5 \nL 44.698573 59.919905 \nL 54.442752 113.112059 \nL 64.186931 121.736702 \nL 73.93111 125.98442 \nL 83.675289 127.927502 \nL 93.419468 130.323518 \nL 103.163647 131.25701 \nL 112.907826 132.829516 \nL 122.652006 133.91476 \nL 132.396185 134.963095 \nL 142.140364 135.310508 \nL 151.884543 136.111322 \nL 161.628722 136.554238 \nL 171.372901 137.744664 \nL 181.11708 137.473062 \nL 190.861259 138.308031 \nL 200.605438 138.694048 \nL 210.349618 139.467455 \nL 220.093797 139.5 \n\" clip-path=\"url(#pc855cf39ae)\" style=\"fill: none; stroke: #1f77b4; stroke-width: 1.5; stroke-linecap: square\"/>\n   </g>\n   <g id=\"line2d_119\">\n    <path d=\"M 49.633125 112.761053 \nL 69.163125 125.912827 \nL 88.693125 130.445386 \nL 108.223125 132.70274 \nL 127.753125 135.101347 \nL 147.283125 136.69921 \nL 166.813125 137.526454 \nL 186.343125 138.015621 \nL 205.873125 138.776957 \n\" clip-path=\"url(#pc855cf39ae)\" style=\"fill: none; stroke-dasharray: 5.55,2.4; stroke-dashoffset: 0; stroke: #ff7f0e; stroke-width: 1.5\"/>\n   </g>\n   <g id=\"line2d_120\">\n    <path d=\"M 49.633125 112.529984 \nL 69.163125 107.021536 \nL 88.693125 105.210283 \nL 108.223125 104.525617 \nL 127.753125 103.262098 \nL 147.283125 102.813953 \nL 166.813125 102.67702 \nL 186.343125 102.421826 \nL 205.873125 102.023475 \n\" clip-path=\"url(#pc855cf39ae)\" style=\"fill: none; stroke-dasharray: 9.6,2.4,1.5,2.4; stroke-dashoffset: 0; stroke: #2ca02c; stroke-width: 1.5\"/>\n   </g>\n   <g id=\"line2d_121\">\n    <path d=\"M 34.954394 13.5 \nL 44.698573 59.919905 \nL 54.442752 113.112059 \nL 64.186931 121.736702 \nL 73.93111 125.98442 \nL 83.675289 127.927502 \nL 93.419468 130.323518 \nL 103.163647 131.25701 \nL 112.907826 132.829516 \nL 122.652006 133.91476 \nL 132.396185 134.963095 \nL 142.140364 135.310508 \nL 151.884543 136.111322 \nL 161.628722 136.554238 \nL 171.372901 137.744664 \nL 181.11708 137.473062 \nL 190.861259 138.308031 \nL 200.605438 138.694048 \nL 210.349618 139.467455 \nL 220.093797 139.5 \n\" clip-path=\"url(#pc855cf39ae)\" style=\"fill: none; stroke: #1f77b4; stroke-width: 1.5; stroke-linecap: square\"/>\n   </g>\n   <g id=\"line2d_122\">\n    <path d=\"M 49.633125 112.761053 \nL 69.163125 125.912827 \nL 88.693125 130.445386 \nL 108.223125 132.70274 \nL 127.753125 135.101347 \nL 147.283125 136.69921 \nL 166.813125 137.526454 \nL 186.343125 138.015621 \nL 205.873125 138.776957 \nL 225.403125 139.026242 \n\" clip-path=\"url(#pc855cf39ae)\" style=\"fill: none; stroke-dasharray: 5.55,2.4; stroke-dashoffset: 0; stroke: #ff7f0e; stroke-width: 1.5\"/>\n   </g>\n   <g id=\"line2d_123\">\n    <path d=\"M 49.633125 112.529984 \nL 69.163125 107.021536 \nL 88.693125 105.210283 \nL 108.223125 104.525617 \nL 127.753125 103.262098 \nL 147.283125 102.813953 \nL 166.813125 102.67702 \nL 186.343125 102.421826 \nL 205.873125 102.023475 \n\" clip-path=\"url(#pc855cf39ae)\" style=\"fill: none; stroke-dasharray: 9.6,2.4,1.5,2.4; stroke-dashoffset: 0; stroke: #2ca02c; stroke-width: 1.5\"/>\n   </g>\n   <g id=\"line2d_124\">\n    <path d=\"M 34.954394 13.5 \nL 44.698573 59.919905 \nL 54.442752 113.112059 \nL 64.186931 121.736702 \nL 73.93111 125.98442 \nL 83.675289 127.927502 \nL 93.419468 130.323518 \nL 103.163647 131.25701 \nL 112.907826 132.829516 \nL 122.652006 133.91476 \nL 132.396185 134.963095 \nL 142.140364 135.310508 \nL 151.884543 136.111322 \nL 161.628722 136.554238 \nL 171.372901 137.744664 \nL 181.11708 137.473062 \nL 190.861259 138.308031 \nL 200.605438 138.694048 \nL 210.349618 139.467455 \nL 220.093797 139.5 \n\" clip-path=\"url(#pc855cf39ae)\" style=\"fill: none; stroke: #1f77b4; stroke-width: 1.5; stroke-linecap: square\"/>\n   </g>\n   <g id=\"line2d_125\">\n    <path d=\"M 49.633125 112.761053 \nL 69.163125 125.912827 \nL 88.693125 130.445386 \nL 108.223125 132.70274 \nL 127.753125 135.101347 \nL 147.283125 136.69921 \nL 166.813125 137.526454 \nL 186.343125 138.015621 \nL 205.873125 138.776957 \nL 225.403125 139.026242 \n\" clip-path=\"url(#pc855cf39ae)\" style=\"fill: none; stroke-dasharray: 5.55,2.4; stroke-dashoffset: 0; stroke: #ff7f0e; stroke-width: 1.5\"/>\n   </g>\n   <g id=\"line2d_126\">\n    <path d=\"M 49.633125 112.529984 \nL 69.163125 107.021536 \nL 88.693125 105.210283 \nL 108.223125 104.525617 \nL 127.753125 103.262098 \nL 147.283125 102.813953 \nL 166.813125 102.67702 \nL 186.343125 102.421826 \nL 205.873125 102.023475 \nL 225.403125 102.004802 \n\" clip-path=\"url(#pc855cf39ae)\" style=\"fill: none; stroke-dasharray: 9.6,2.4,1.5,2.4; stroke-dashoffset: 0; stroke: #2ca02c; stroke-width: 1.5\"/>\n   </g>\n   <g id=\"patch_3\">\n    <path d=\"M 30.103125 145.8 \nL 30.103125 7.2 \n\" style=\"fill: none; stroke: #000000; stroke-width: 0.8; stroke-linejoin: miter; stroke-linecap: square\"/>\n   </g>\n   <g id=\"patch_4\">\n    <path d=\"M 225.403125 145.8 \nL 225.403125 7.2 \n\" style=\"fill: none; stroke: #000000; stroke-width: 0.8; stroke-linejoin: miter; stroke-linecap: square\"/>\n   </g>\n   <g id=\"patch_5\">\n    <path d=\"M 30.103125 145.8 \nL 225.403125 145.8 \n\" style=\"fill: none; stroke: #000000; stroke-width: 0.8; stroke-linejoin: miter; stroke-linecap: square\"/>\n   </g>\n   <g id=\"patch_6\">\n    <path d=\"M 30.103125 7.2 \nL 225.403125 7.2 \n\" style=\"fill: none; stroke: #000000; stroke-width: 0.8; stroke-linejoin: miter; stroke-linecap: square\"/>\n   </g>\n   <g id=\"legend_1\">\n    <g id=\"patch_7\">\n     <path d=\"M 138.8125 60.06875 \nL 218.403125 60.06875 \nQ 220.403125 60.06875 220.403125 58.06875 \nL 220.403125 14.2 \nQ 220.403125 12.2 218.403125 12.2 \nL 138.8125 12.2 \nQ 136.8125 12.2 136.8125 14.2 \nL 136.8125 58.06875 \nQ 136.8125 60.06875 138.8125 60.06875 \nz\n\" style=\"fill: #ffffff; opacity: 0.8; stroke: #cccccc; stroke-linejoin: miter\"/>\n    </g>\n    <g id=\"line2d_127\">\n     <path d=\"M 140.8125 20.298438 \nL 150.8125 20.298438 \nL 160.8125 20.298438 \n\" style=\"fill: none; stroke: #1f77b4; stroke-width: 1.5; stroke-linecap: square\"/>\n    </g>\n    <g id=\"text_12\">\n     <!-- train_loss -->\n     <g transform=\"translate(168.8125 23.798438) scale(0.1 -0.1)\">\n      <defs>\n       <path id=\"DejaVuSans-74\" d=\"M 1172 4494 \nL 1172 3500 \nL 2356 3500 \nL 2356 3053 \nL 1172 3053 \nL 1172 1153 \nQ 1172 725 1289 603 \nQ 1406 481 1766 481 \nL 2356 481 \nL 2356 0 \nL 1766 0 \nQ 1100 0 847 248 \nQ 594 497 594 1153 \nL 594 3053 \nL 172 3053 \nL 172 3500 \nL 594 3500 \nL 594 4494 \nL 1172 4494 \nz\n\" transform=\"scale(0.015625)\"/>\n       <path id=\"DejaVuSans-72\" d=\"M 2631 2963 \nQ 2534 3019 2420 3045 \nQ 2306 3072 2169 3072 \nQ 1681 3072 1420 2755 \nQ 1159 2438 1159 1844 \nL 1159 0 \nL 581 0 \nL 581 3500 \nL 1159 3500 \nL 1159 2956 \nQ 1341 3275 1631 3429 \nQ 1922 3584 2338 3584 \nQ 2397 3584 2469 3576 \nQ 2541 3569 2628 3553 \nL 2631 2963 \nz\n\" transform=\"scale(0.015625)\"/>\n       <path id=\"DejaVuSans-61\" d=\"M 2194 1759 \nQ 1497 1759 1228 1600 \nQ 959 1441 959 1056 \nQ 959 750 1161 570 \nQ 1363 391 1709 391 \nQ 2188 391 2477 730 \nQ 2766 1069 2766 1631 \nL 2766 1759 \nL 2194 1759 \nz\nM 3341 1997 \nL 3341 0 \nL 2766 0 \nL 2766 531 \nQ 2569 213 2275 61 \nQ 1981 -91 1556 -91 \nQ 1019 -91 701 211 \nQ 384 513 384 1019 \nQ 384 1609 779 1909 \nQ 1175 2209 1959 2209 \nL 2766 2209 \nL 2766 2266 \nQ 2766 2663 2505 2880 \nQ 2244 3097 1772 3097 \nQ 1472 3097 1187 3025 \nQ 903 2953 641 2809 \nL 641 3341 \nQ 956 3463 1253 3523 \nQ 1550 3584 1831 3584 \nQ 2591 3584 2966 3190 \nQ 3341 2797 3341 1997 \nz\n\" transform=\"scale(0.015625)\"/>\n       <path id=\"DejaVuSans-69\" d=\"M 603 3500 \nL 1178 3500 \nL 1178 0 \nL 603 0 \nL 603 3500 \nz\nM 603 4863 \nL 1178 4863 \nL 1178 4134 \nL 603 4134 \nL 603 4863 \nz\n\" transform=\"scale(0.015625)\"/>\n       <path id=\"DejaVuSans-6e\" d=\"M 3513 2113 \nL 3513 0 \nL 2938 0 \nL 2938 2094 \nQ 2938 2591 2744 2837 \nQ 2550 3084 2163 3084 \nQ 1697 3084 1428 2787 \nQ 1159 2491 1159 1978 \nL 1159 0 \nL 581 0 \nL 581 3500 \nL 1159 3500 \nL 1159 2956 \nQ 1366 3272 1645 3428 \nQ 1925 3584 2291 3584 \nQ 2894 3584 3203 3211 \nQ 3513 2838 3513 2113 \nz\n\" transform=\"scale(0.015625)\"/>\n       <path id=\"DejaVuSans-5f\" d=\"M 3263 -1063 \nL 3263 -1509 \nL -63 -1509 \nL -63 -1063 \nL 3263 -1063 \nz\n\" transform=\"scale(0.015625)\"/>\n       <path id=\"DejaVuSans-6c\" d=\"M 603 4863 \nL 1178 4863 \nL 1178 0 \nL 603 0 \nL 603 4863 \nz\n\" transform=\"scale(0.015625)\"/>\n       <path id=\"DejaVuSans-73\" d=\"M 2834 3397 \nL 2834 2853 \nQ 2591 2978 2328 3040 \nQ 2066 3103 1784 3103 \nQ 1356 3103 1142 2972 \nQ 928 2841 928 2578 \nQ 928 2378 1081 2264 \nQ 1234 2150 1697 2047 \nL 1894 2003 \nQ 2506 1872 2764 1633 \nQ 3022 1394 3022 966 \nQ 3022 478 2636 193 \nQ 2250 -91 1575 -91 \nQ 1294 -91 989 -36 \nQ 684 19 347 128 \nL 347 722 \nQ 666 556 975 473 \nQ 1284 391 1588 391 \nQ 1994 391 2212 530 \nQ 2431 669 2431 922 \nQ 2431 1156 2273 1281 \nQ 2116 1406 1581 1522 \nL 1381 1569 \nQ 847 1681 609 1914 \nQ 372 2147 372 2553 \nQ 372 3047 722 3315 \nQ 1072 3584 1716 3584 \nQ 2034 3584 2315 3537 \nQ 2597 3491 2834 3397 \nz\n\" transform=\"scale(0.015625)\"/>\n      </defs>\n      <use xlink:href=\"#DejaVuSans-74\"/>\n      <use xlink:href=\"#DejaVuSans-72\" x=\"39.208984\"/>\n      <use xlink:href=\"#DejaVuSans-61\" x=\"80.322266\"/>\n      <use xlink:href=\"#DejaVuSans-69\" x=\"141.601562\"/>\n      <use xlink:href=\"#DejaVuSans-6e\" x=\"169.384766\"/>\n      <use xlink:href=\"#DejaVuSans-5f\" x=\"232.763672\"/>\n      <use xlink:href=\"#DejaVuSans-6c\" x=\"282.763672\"/>\n      <use xlink:href=\"#DejaVuSans-6f\" x=\"310.546875\"/>\n      <use xlink:href=\"#DejaVuSans-73\" x=\"371.728516\"/>\n      <use xlink:href=\"#DejaVuSans-73\" x=\"423.828125\"/>\n     </g>\n    </g>\n    <g id=\"line2d_128\">\n     <path d=\"M 140.8125 35.254688 \nL 150.8125 35.254688 \nL 160.8125 35.254688 \n\" style=\"fill: none; stroke-dasharray: 5.55,2.4; stroke-dashoffset: 0; stroke: #ff7f0e; stroke-width: 1.5\"/>\n    </g>\n    <g id=\"text_13\">\n     <!-- val_loss -->\n     <g transform=\"translate(168.8125 38.754688) scale(0.1 -0.1)\">\n      <defs>\n       <path id=\"DejaVuSans-76\" d=\"M 191 3500 \nL 800 3500 \nL 1894 563 \nL 2988 3500 \nL 3597 3500 \nL 2284 0 \nL 1503 0 \nL 191 3500 \nz\n\" transform=\"scale(0.015625)\"/>\n      </defs>\n      <use xlink:href=\"#DejaVuSans-76\"/>\n      <use xlink:href=\"#DejaVuSans-61\" x=\"59.179688\"/>\n      <use xlink:href=\"#DejaVuSans-6c\" x=\"120.458984\"/>\n      <use xlink:href=\"#DejaVuSans-5f\" x=\"148.242188\"/>\n      <use xlink:href=\"#DejaVuSans-6c\" x=\"198.242188\"/>\n      <use xlink:href=\"#DejaVuSans-6f\" x=\"226.025391\"/>\n      <use xlink:href=\"#DejaVuSans-73\" x=\"287.207031\"/>\n      <use xlink:href=\"#DejaVuSans-73\" x=\"339.306641\"/>\n     </g>\n    </g>\n    <g id=\"line2d_129\">\n     <path d=\"M 140.8125 50.210938 \nL 150.8125 50.210938 \nL 160.8125 50.210938 \n\" style=\"fill: none; stroke-dasharray: 9.6,2.4,1.5,2.4; stroke-dashoffset: 0; stroke: #2ca02c; stroke-width: 1.5\"/>\n    </g>\n    <g id=\"text_14\">\n     <!-- val_acc -->\n     <g transform=\"translate(168.8125 53.710938) scale(0.1 -0.1)\">\n      <use xlink:href=\"#DejaVuSans-76\"/>\n      <use xlink:href=\"#DejaVuSans-61\" x=\"59.179688\"/>\n      <use xlink:href=\"#DejaVuSans-6c\" x=\"120.458984\"/>\n      <use xlink:href=\"#DejaVuSans-5f\" x=\"148.242188\"/>\n      <use xlink:href=\"#DejaVuSans-61\" x=\"198.242188\"/>\n      <use xlink:href=\"#DejaVuSans-63\" x=\"259.521484\"/>\n      <use xlink:href=\"#DejaVuSans-63\" x=\"314.501953\"/>\n     </g>\n    </g>\n   </g>\n  </g>\n </g>\n <defs>\n  <clipPath id=\"pc855cf39ae\">\n   <rect x=\"30.103125\" y=\"7.2\" width=\"195.3\" height=\"138.6\"/>\n  </clipPath>\n </defs>\n</svg>\n"
          },
          "metadata": {}
        }
      ]
    },
    {
      "cell_type": "markdown",
      "source": [
        "### 8.2.2. VGG Network"
      ],
      "metadata": {
        "id": "K4FQAGkD7Jml"
      }
    },
    {
      "cell_type": "markdown",
      "source": [
        "## 8.6. Residual Networks (ResNet) and ResNeXt"
      ],
      "metadata": {
        "id": "PBePs91g07U-"
      }
    },
    {
      "cell_type": "code",
      "source": [
        "import torch\n",
        "from torch import nn\n",
        "from torch.nn import functional as F\n",
        "from d2l import torch as d2l"
      ],
      "metadata": {
        "id": "LDItOSH10yAt"
      },
      "execution_count": null,
      "outputs": []
    },
    {
      "cell_type": "code",
      "source": [
        "class Residual(nn.Module):\n",
        "    \"\"\"The Residual block of ResNet models.\"\"\"\n",
        "    def __init__(self, num_channels, use_1x1conv=False, strides=1):\n",
        "        super().__init__()\n",
        "        self.conv1 = nn.LazyConv2d(num_channels, kernel_size=3, padding=1,\n",
        "                                   stride=strides)\n",
        "        self.conv2 = nn.LazyConv2d(num_channels, kernel_size=3, padding=1)\n",
        "        if use_1x1conv:\n",
        "            self.conv3 = nn.LazyConv2d(num_channels, kernel_size=1,\n",
        "                                       stride=strides)\n",
        "        else:\n",
        "            self.conv3 = None\n",
        "        self.bn1 = nn.LazyBatchNorm2d()\n",
        "        self.bn2 = nn.LazyBatchNorm2d()\n",
        "\n",
        "    def forward(self, X):\n",
        "        Y = F.relu(self.bn1(self.conv1(X)))\n",
        "        Y = self.bn2(self.conv2(Y))\n",
        "        if self.conv3:\n",
        "            X = self.conv3(X)\n",
        "        Y += X\n",
        "        return F.relu(Y)"
      ],
      "metadata": {
        "id": "urbfnfB81ET_"
      },
      "execution_count": null,
      "outputs": []
    },
    {
      "cell_type": "code",
      "source": [
        "blk = Residual(3)\n",
        "X = torch.randn(4, 3, 6, 6)\n",
        "blk(X).shape"
      ],
      "metadata": {
        "colab": {
          "base_uri": "https://localhost:8080/"
        },
        "id": "xL4CFS-k3u1r",
        "outputId": "2b1591dd-367a-41bd-cc38-9a89d7d78f46"
      },
      "execution_count": null,
      "outputs": [
        {
          "output_type": "execute_result",
          "data": {
            "text/plain": [
              "torch.Size([4, 3, 6, 6])"
            ]
          },
          "metadata": {},
          "execution_count": 37
        }
      ]
    },
    {
      "cell_type": "code",
      "source": [
        "blk = Residual(6, use_1x1conv=True, strides=2)\n",
        "blk(X).shape"
      ],
      "metadata": {
        "colab": {
          "base_uri": "https://localhost:8080/"
        },
        "id": "hS63uVME4eBw",
        "outputId": "97d22033-4dfa-40a6-a004-3e3a5125159a"
      },
      "execution_count": null,
      "outputs": [
        {
          "output_type": "execute_result",
          "data": {
            "text/plain": [
              "torch.Size([4, 6, 3, 3])"
            ]
          },
          "metadata": {},
          "execution_count": 38
        }
      ]
    },
    {
      "cell_type": "markdown",
      "source": [
        "### 8.6.3. ResNet Model"
      ],
      "metadata": {
        "id": "cSp4cxk241Hx"
      }
    },
    {
      "cell_type": "code",
      "source": [
        "class ResNet(d2l.Classifier):\n",
        "    def b1(self):\n",
        "        return nn.Sequential(\n",
        "            nn.LazyConv2d(64, kernel_size=7, stride=2, padding=3),\n",
        "            nn.LazyBatchNorm2d(), nn.ReLU(),\n",
        "            nn.MaxPool2d(kernel_size=3, stride=2, padding=1))"
      ],
      "metadata": {
        "id": "fxDn9F5141dH"
      },
      "execution_count": null,
      "outputs": []
    },
    {
      "cell_type": "code",
      "source": [
        "@d2l.add_to_class(ResNet)\n",
        "def block(self, num_residuals, num_channels, first_block=False):\n",
        "    blk = []\n",
        "    for i in range(num_residuals):\n",
        "        if i == 0 and not first_block:\n",
        "            blk.append(Residual(num_channels, use_1x1conv=True, strides=2))\n",
        "        else:\n",
        "            blk.append(Residual(num_channels))\n",
        "    return nn.Sequential(*blk)"
      ],
      "metadata": {
        "id": "AV7DR8y249yk"
      },
      "execution_count": null,
      "outputs": []
    },
    {
      "cell_type": "code",
      "source": [
        "@d2l.add_to_class(ResNet)\n",
        "def __init__(self, arch, lr=0.1, num_classes=10):\n",
        "    super(ResNet, self).__init__()\n",
        "    self.save_hyperparameters()\n",
        "    self.net = nn.Sequential(self.b1())\n",
        "    for i, b in enumerate(arch):\n",
        "        self.net.add_module(f'b{i+2}', self.block(*b, first_block=(i==0)))\n",
        "    self.net.add_module('last', nn.Sequential(\n",
        "        nn.AdaptiveAvgPool2d((1, 1)), nn.Flatten(),\n",
        "        nn.LazyLinear(num_classes)))\n",
        "    self.net.apply(d2l.init_cnn)"
      ],
      "metadata": {
        "id": "6fCKQsQ3XhaP"
      },
      "execution_count": null,
      "outputs": []
    },
    {
      "cell_type": "code",
      "source": [
        "class ResNet18(ResNet):\n",
        "    def __init__(self, lr=0.1, num_classes=10):\n",
        "        super().__init__(((2, 64), (2, 128), (2, 256), (2, 512)),\n",
        "                       lr, num_classes)\n",
        "\n",
        "ResNet18().layer_summary((1, 1, 96, 96))"
      ],
      "metadata": {
        "colab": {
          "base_uri": "https://localhost:8080/"
        },
        "id": "u8T1LMcCX4gc",
        "outputId": "596d99c5-4e9b-4583-ef27-7207dacbed02"
      },
      "execution_count": null,
      "outputs": [
        {
          "output_type": "stream",
          "name": "stdout",
          "text": [
            "Sequential output shape:\t torch.Size([1, 64, 24, 24])\n",
            "Sequential output shape:\t torch.Size([1, 64, 24, 24])\n",
            "Sequential output shape:\t torch.Size([1, 128, 12, 12])\n",
            "Sequential output shape:\t torch.Size([1, 256, 6, 6])\n",
            "Sequential output shape:\t torch.Size([1, 512, 3, 3])\n",
            "Sequential output shape:\t torch.Size([1, 10])\n"
          ]
        }
      ]
    },
    {
      "cell_type": "markdown",
      "source": [
        "### 8.6.4. Training"
      ],
      "metadata": {
        "id": "KeYX1dzlaXjD"
      }
    },
    {
      "cell_type": "code",
      "source": [
        "model = ResNet18(lr=0.01)\n",
        "trainer = d2l.Trainer(max_epochs=10, num_gpus=1)\n",
        "data = d2l.FashionMNIST(batch_size=128, resize=(96, 96))\n",
        "model.apply_init([next(iter(data.get_dataloader(True)))[0]], d2l.init_cnn)\n",
        "trainer.fit(model, data)"
      ],
      "metadata": {
        "colab": {
          "base_uri": "https://localhost:8080/",
          "height": 266
        },
        "id": "jw5tbNxMZ2JE",
        "outputId": "804ab610-8546-4cef-b16e-bea24df85c61"
      },
      "execution_count": null,
      "outputs": [
        {
          "output_type": "display_data",
          "data": {
            "text/plain": [
              "<Figure size 350x250 with 1 Axes>"
            ],
            "image/svg+xml": "<?xml version=\"1.0\" encoding=\"utf-8\" standalone=\"no\"?>\n<!DOCTYPE svg PUBLIC \"-//W3C//DTD SVG 1.1//EN\"\n  \"http://www.w3.org/Graphics/SVG/1.1/DTD/svg11.dtd\">\n<svg xmlns:xlink=\"http://www.w3.org/1999/xlink\" width=\"238.965625pt\" height=\"183.35625pt\" viewBox=\"0 0 238.965625 183.35625\" xmlns=\"http://www.w3.org/2000/svg\" version=\"1.1\">\n <metadata>\n  <rdf:RDF xmlns:dc=\"http://purl.org/dc/elements/1.1/\" xmlns:cc=\"http://creativecommons.org/ns#\" xmlns:rdf=\"http://www.w3.org/1999/02/22-rdf-syntax-ns#\">\n   <cc:Work>\n    <dc:type rdf:resource=\"http://purl.org/dc/dcmitype/StillImage\"/>\n    <dc:date>2024-10-10T04:02:03.983632</dc:date>\n    <dc:format>image/svg+xml</dc:format>\n    <dc:creator>\n     <cc:Agent>\n      <dc:title>Matplotlib v3.7.2, https://matplotlib.org/</dc:title>\n     </cc:Agent>\n    </dc:creator>\n   </cc:Work>\n  </rdf:RDF>\n </metadata>\n <defs>\n  <style type=\"text/css\">*{stroke-linejoin: round; stroke-linecap: butt}</style>\n </defs>\n <g id=\"figure_1\">\n  <g id=\"patch_1\">\n   <path d=\"M 0 183.35625 \nL 238.965625 183.35625 \nL 238.965625 0 \nL 0 0 \nz\n\" style=\"fill: #ffffff\"/>\n  </g>\n  <g id=\"axes_1\">\n   <g id=\"patch_2\">\n    <path d=\"M 30.103125 145.8 \nL 225.403125 145.8 \nL 225.403125 7.2 \nL 30.103125 7.2 \nz\n\" style=\"fill: #ffffff\"/>\n   </g>\n   <g id=\"matplotlib.axis_1\">\n    <g id=\"xtick_1\">\n     <g id=\"line2d_1\">\n      <defs>\n       <path id=\"ma84083fc31\" d=\"M 0 0 \nL 0 3.5 \n\" style=\"stroke: #000000; stroke-width: 0.8\"/>\n      </defs>\n      <g>\n       <use xlink:href=\"#ma84083fc31\" x=\"30.103125\" y=\"145.8\" style=\"stroke: #000000; stroke-width: 0.8\"/>\n      </g>\n     </g>\n     <g id=\"text_1\">\n      <!-- 0 -->\n      <g transform=\"translate(26.921875 160.398438) scale(0.1 -0.1)\">\n       <defs>\n        <path id=\"DejaVuSans-30\" d=\"M 2034 4250 \nQ 1547 4250 1301 3770 \nQ 1056 3291 1056 2328 \nQ 1056 1369 1301 889 \nQ 1547 409 2034 409 \nQ 2525 409 2770 889 \nQ 3016 1369 3016 2328 \nQ 3016 3291 2770 3770 \nQ 2525 4250 2034 4250 \nz\nM 2034 4750 \nQ 2819 4750 3233 4129 \nQ 3647 3509 3647 2328 \nQ 3647 1150 3233 529 \nQ 2819 -91 2034 -91 \nQ 1250 -91 836 529 \nQ 422 1150 422 2328 \nQ 422 3509 836 4129 \nQ 1250 4750 2034 4750 \nz\n\" transform=\"scale(0.015625)\"/>\n       </defs>\n       <use xlink:href=\"#DejaVuSans-30\"/>\n      </g>\n     </g>\n    </g>\n    <g id=\"xtick_2\">\n     <g id=\"line2d_2\">\n      <g>\n       <use xlink:href=\"#ma84083fc31\" x=\"69.163125\" y=\"145.8\" style=\"stroke: #000000; stroke-width: 0.8\"/>\n      </g>\n     </g>\n     <g id=\"text_2\">\n      <!-- 2 -->\n      <g transform=\"translate(65.981875 160.398438) scale(0.1 -0.1)\">\n       <defs>\n        <path id=\"DejaVuSans-32\" d=\"M 1228 531 \nL 3431 531 \nL 3431 0 \nL 469 0 \nL 469 531 \nQ 828 903 1448 1529 \nQ 2069 2156 2228 2338 \nQ 2531 2678 2651 2914 \nQ 2772 3150 2772 3378 \nQ 2772 3750 2511 3984 \nQ 2250 4219 1831 4219 \nQ 1534 4219 1204 4116 \nQ 875 4013 500 3803 \nL 500 4441 \nQ 881 4594 1212 4672 \nQ 1544 4750 1819 4750 \nQ 2544 4750 2975 4387 \nQ 3406 4025 3406 3419 \nQ 3406 3131 3298 2873 \nQ 3191 2616 2906 2266 \nQ 2828 2175 2409 1742 \nQ 1991 1309 1228 531 \nz\n\" transform=\"scale(0.015625)\"/>\n       </defs>\n       <use xlink:href=\"#DejaVuSans-32\"/>\n      </g>\n     </g>\n    </g>\n    <g id=\"xtick_3\">\n     <g id=\"line2d_3\">\n      <g>\n       <use xlink:href=\"#ma84083fc31\" x=\"108.223125\" y=\"145.8\" style=\"stroke: #000000; stroke-width: 0.8\"/>\n      </g>\n     </g>\n     <g id=\"text_3\">\n      <!-- 4 -->\n      <g transform=\"translate(105.041875 160.398438) scale(0.1 -0.1)\">\n       <defs>\n        <path id=\"DejaVuSans-34\" d=\"M 2419 4116 \nL 825 1625 \nL 2419 1625 \nL 2419 4116 \nz\nM 2253 4666 \nL 3047 4666 \nL 3047 1625 \nL 3713 1625 \nL 3713 1100 \nL 3047 1100 \nL 3047 0 \nL 2419 0 \nL 2419 1100 \nL 313 1100 \nL 313 1709 \nL 2253 4666 \nz\n\" transform=\"scale(0.015625)\"/>\n       </defs>\n       <use xlink:href=\"#DejaVuSans-34\"/>\n      </g>\n     </g>\n    </g>\n    <g id=\"xtick_4\">\n     <g id=\"line2d_4\">\n      <g>\n       <use xlink:href=\"#ma84083fc31\" x=\"147.283125\" y=\"145.8\" style=\"stroke: #000000; stroke-width: 0.8\"/>\n      </g>\n     </g>\n     <g id=\"text_4\">\n      <!-- 6 -->\n      <g transform=\"translate(144.101875 160.398438) scale(0.1 -0.1)\">\n       <defs>\n        <path id=\"DejaVuSans-36\" d=\"M 2113 2584 \nQ 1688 2584 1439 2293 \nQ 1191 2003 1191 1497 \nQ 1191 994 1439 701 \nQ 1688 409 2113 409 \nQ 2538 409 2786 701 \nQ 3034 994 3034 1497 \nQ 3034 2003 2786 2293 \nQ 2538 2584 2113 2584 \nz\nM 3366 4563 \nL 3366 3988 \nQ 3128 4100 2886 4159 \nQ 2644 4219 2406 4219 \nQ 1781 4219 1451 3797 \nQ 1122 3375 1075 2522 \nQ 1259 2794 1537 2939 \nQ 1816 3084 2150 3084 \nQ 2853 3084 3261 2657 \nQ 3669 2231 3669 1497 \nQ 3669 778 3244 343 \nQ 2819 -91 2113 -91 \nQ 1303 -91 875 529 \nQ 447 1150 447 2328 \nQ 447 3434 972 4092 \nQ 1497 4750 2381 4750 \nQ 2619 4750 2861 4703 \nQ 3103 4656 3366 4563 \nz\n\" transform=\"scale(0.015625)\"/>\n       </defs>\n       <use xlink:href=\"#DejaVuSans-36\"/>\n      </g>\n     </g>\n    </g>\n    <g id=\"xtick_5\">\n     <g id=\"line2d_5\">\n      <g>\n       <use xlink:href=\"#ma84083fc31\" x=\"186.343125\" y=\"145.8\" style=\"stroke: #000000; stroke-width: 0.8\"/>\n      </g>\n     </g>\n     <g id=\"text_5\">\n      <!-- 8 -->\n      <g transform=\"translate(183.161875 160.398438) scale(0.1 -0.1)\">\n       <defs>\n        <path id=\"DejaVuSans-38\" d=\"M 2034 2216 \nQ 1584 2216 1326 1975 \nQ 1069 1734 1069 1313 \nQ 1069 891 1326 650 \nQ 1584 409 2034 409 \nQ 2484 409 2743 651 \nQ 3003 894 3003 1313 \nQ 3003 1734 2745 1975 \nQ 2488 2216 2034 2216 \nz\nM 1403 2484 \nQ 997 2584 770 2862 \nQ 544 3141 544 3541 \nQ 544 4100 942 4425 \nQ 1341 4750 2034 4750 \nQ 2731 4750 3128 4425 \nQ 3525 4100 3525 3541 \nQ 3525 3141 3298 2862 \nQ 3072 2584 2669 2484 \nQ 3125 2378 3379 2068 \nQ 3634 1759 3634 1313 \nQ 3634 634 3220 271 \nQ 2806 -91 2034 -91 \nQ 1263 -91 848 271 \nQ 434 634 434 1313 \nQ 434 1759 690 2068 \nQ 947 2378 1403 2484 \nz\nM 1172 3481 \nQ 1172 3119 1398 2916 \nQ 1625 2713 2034 2713 \nQ 2441 2713 2670 2916 \nQ 2900 3119 2900 3481 \nQ 2900 3844 2670 4047 \nQ 2441 4250 2034 4250 \nQ 1625 4250 1398 4047 \nQ 1172 3844 1172 3481 \nz\n\" transform=\"scale(0.015625)\"/>\n       </defs>\n       <use xlink:href=\"#DejaVuSans-38\"/>\n      </g>\n     </g>\n    </g>\n    <g id=\"xtick_6\">\n     <g id=\"line2d_6\">\n      <g>\n       <use xlink:href=\"#ma84083fc31\" x=\"225.403125\" y=\"145.8\" style=\"stroke: #000000; stroke-width: 0.8\"/>\n      </g>\n     </g>\n     <g id=\"text_6\">\n      <!-- 10 -->\n      <g transform=\"translate(219.040625 160.398438) scale(0.1 -0.1)\">\n       <defs>\n        <path id=\"DejaVuSans-31\" d=\"M 794 531 \nL 1825 531 \nL 1825 4091 \nL 703 3866 \nL 703 4441 \nL 1819 4666 \nL 2450 4666 \nL 2450 531 \nL 3481 531 \nL 3481 0 \nL 794 0 \nL 794 531 \nz\n\" transform=\"scale(0.015625)\"/>\n       </defs>\n       <use xlink:href=\"#DejaVuSans-31\"/>\n       <use xlink:href=\"#DejaVuSans-30\" x=\"63.623047\"/>\n      </g>\n     </g>\n    </g>\n    <g id=\"text_7\">\n     <!-- epoch -->\n     <g transform=\"translate(112.525 174.076563) scale(0.1 -0.1)\">\n      <defs>\n       <path id=\"DejaVuSans-65\" d=\"M 3597 1894 \nL 3597 1613 \nL 953 1613 \nQ 991 1019 1311 708 \nQ 1631 397 2203 397 \nQ 2534 397 2845 478 \nQ 3156 559 3463 722 \nL 3463 178 \nQ 3153 47 2828 -22 \nQ 2503 -91 2169 -91 \nQ 1331 -91 842 396 \nQ 353 884 353 1716 \nQ 353 2575 817 3079 \nQ 1281 3584 2069 3584 \nQ 2775 3584 3186 3129 \nQ 3597 2675 3597 1894 \nz\nM 3022 2063 \nQ 3016 2534 2758 2815 \nQ 2500 3097 2075 3097 \nQ 1594 3097 1305 2825 \nQ 1016 2553 972 2059 \nL 3022 2063 \nz\n\" transform=\"scale(0.015625)\"/>\n       <path id=\"DejaVuSans-70\" d=\"M 1159 525 \nL 1159 -1331 \nL 581 -1331 \nL 581 3500 \nL 1159 3500 \nL 1159 2969 \nQ 1341 3281 1617 3432 \nQ 1894 3584 2278 3584 \nQ 2916 3584 3314 3078 \nQ 3713 2572 3713 1747 \nQ 3713 922 3314 415 \nQ 2916 -91 2278 -91 \nQ 1894 -91 1617 61 \nQ 1341 213 1159 525 \nz\nM 3116 1747 \nQ 3116 2381 2855 2742 \nQ 2594 3103 2138 3103 \nQ 1681 3103 1420 2742 \nQ 1159 2381 1159 1747 \nQ 1159 1113 1420 752 \nQ 1681 391 2138 391 \nQ 2594 391 2855 752 \nQ 3116 1113 3116 1747 \nz\n\" transform=\"scale(0.015625)\"/>\n       <path id=\"DejaVuSans-6f\" d=\"M 1959 3097 \nQ 1497 3097 1228 2736 \nQ 959 2375 959 1747 \nQ 959 1119 1226 758 \nQ 1494 397 1959 397 \nQ 2419 397 2687 759 \nQ 2956 1122 2956 1747 \nQ 2956 2369 2687 2733 \nQ 2419 3097 1959 3097 \nz\nM 1959 3584 \nQ 2709 3584 3137 3096 \nQ 3566 2609 3566 1747 \nQ 3566 888 3137 398 \nQ 2709 -91 1959 -91 \nQ 1206 -91 779 398 \nQ 353 888 353 1747 \nQ 353 2609 779 3096 \nQ 1206 3584 1959 3584 \nz\n\" transform=\"scale(0.015625)\"/>\n       <path id=\"DejaVuSans-63\" d=\"M 3122 3366 \nL 3122 2828 \nQ 2878 2963 2633 3030 \nQ 2388 3097 2138 3097 \nQ 1578 3097 1268 2742 \nQ 959 2388 959 1747 \nQ 959 1106 1268 751 \nQ 1578 397 2138 397 \nQ 2388 397 2633 464 \nQ 2878 531 3122 666 \nL 3122 134 \nQ 2881 22 2623 -34 \nQ 2366 -91 2075 -91 \nQ 1284 -91 818 406 \nQ 353 903 353 1747 \nQ 353 2603 823 3093 \nQ 1294 3584 2113 3584 \nQ 2378 3584 2631 3529 \nQ 2884 3475 3122 3366 \nz\n\" transform=\"scale(0.015625)\"/>\n       <path id=\"DejaVuSans-68\" d=\"M 3513 2113 \nL 3513 0 \nL 2938 0 \nL 2938 2094 \nQ 2938 2591 2744 2837 \nQ 2550 3084 2163 3084 \nQ 1697 3084 1428 2787 \nQ 1159 2491 1159 1978 \nL 1159 0 \nL 581 0 \nL 581 4863 \nL 1159 4863 \nL 1159 2956 \nQ 1366 3272 1645 3428 \nQ 1925 3584 2291 3584 \nQ 2894 3584 3203 3211 \nQ 3513 2838 3513 2113 \nz\n\" transform=\"scale(0.015625)\"/>\n      </defs>\n      <use xlink:href=\"#DejaVuSans-65\"/>\n      <use xlink:href=\"#DejaVuSans-70\" x=\"61.523438\"/>\n      <use xlink:href=\"#DejaVuSans-6f\" x=\"125\"/>\n      <use xlink:href=\"#DejaVuSans-63\" x=\"186.181641\"/>\n      <use xlink:href=\"#DejaVuSans-68\" x=\"241.162109\"/>\n     </g>\n    </g>\n   </g>\n   <g id=\"matplotlib.axis_2\">\n    <g id=\"ytick_1\">\n     <g id=\"line2d_7\">\n      <defs>\n       <path id=\"me28b390159\" d=\"M 0 0 \nL -3.5 0 \n\" style=\"stroke: #000000; stroke-width: 0.8\"/>\n      </defs>\n      <g>\n       <use xlink:href=\"#me28b390159\" x=\"30.103125\" y=\"142.769331\" style=\"stroke: #000000; stroke-width: 0.8\"/>\n      </g>\n     </g>\n     <g id=\"text_8\">\n      <!-- 0.0 -->\n      <g transform=\"translate(7.2 146.56855) scale(0.1 -0.1)\">\n       <defs>\n        <path id=\"DejaVuSans-2e\" d=\"M 684 794 \nL 1344 794 \nL 1344 0 \nL 684 0 \nL 684 794 \nz\n\" transform=\"scale(0.015625)\"/>\n       </defs>\n       <use xlink:href=\"#DejaVuSans-30\"/>\n       <use xlink:href=\"#DejaVuSans-2e\" x=\"63.623047\"/>\n       <use xlink:href=\"#DejaVuSans-30\" x=\"95.410156\"/>\n      </g>\n     </g>\n    </g>\n    <g id=\"ytick_2\">\n     <g id=\"line2d_8\">\n      <g>\n       <use xlink:href=\"#me28b390159\" x=\"30.103125\" y=\"114.588422\" style=\"stroke: #000000; stroke-width: 0.8\"/>\n      </g>\n     </g>\n     <g id=\"text_9\">\n      <!-- 0.2 -->\n      <g transform=\"translate(7.2 118.38764) scale(0.1 -0.1)\">\n       <use xlink:href=\"#DejaVuSans-30\"/>\n       <use xlink:href=\"#DejaVuSans-2e\" x=\"63.623047\"/>\n       <use xlink:href=\"#DejaVuSans-32\" x=\"95.410156\"/>\n      </g>\n     </g>\n    </g>\n    <g id=\"ytick_3\">\n     <g id=\"line2d_9\">\n      <g>\n       <use xlink:href=\"#me28b390159\" x=\"30.103125\" y=\"86.407512\" style=\"stroke: #000000; stroke-width: 0.8\"/>\n      </g>\n     </g>\n     <g id=\"text_10\">\n      <!-- 0.4 -->\n      <g transform=\"translate(7.2 90.206731) scale(0.1 -0.1)\">\n       <use xlink:href=\"#DejaVuSans-30\"/>\n       <use xlink:href=\"#DejaVuSans-2e\" x=\"63.623047\"/>\n       <use xlink:href=\"#DejaVuSans-34\" x=\"95.410156\"/>\n      </g>\n     </g>\n    </g>\n    <g id=\"ytick_4\">\n     <g id=\"line2d_10\">\n      <g>\n       <use xlink:href=\"#me28b390159\" x=\"30.103125\" y=\"58.226603\" style=\"stroke: #000000; stroke-width: 0.8\"/>\n      </g>\n     </g>\n     <g id=\"text_11\">\n      <!-- 0.6 -->\n      <g transform=\"translate(7.2 62.025822) scale(0.1 -0.1)\">\n       <use xlink:href=\"#DejaVuSans-30\"/>\n       <use xlink:href=\"#DejaVuSans-2e\" x=\"63.623047\"/>\n       <use xlink:href=\"#DejaVuSans-36\" x=\"95.410156\"/>\n      </g>\n     </g>\n    </g>\n    <g id=\"ytick_5\">\n     <g id=\"line2d_11\">\n      <g>\n       <use xlink:href=\"#me28b390159\" x=\"30.103125\" y=\"30.045694\" style=\"stroke: #000000; stroke-width: 0.8\"/>\n      </g>\n     </g>\n     <g id=\"text_12\">\n      <!-- 0.8 -->\n      <g transform=\"translate(7.2 33.844913) scale(0.1 -0.1)\">\n       <use xlink:href=\"#DejaVuSans-30\"/>\n       <use xlink:href=\"#DejaVuSans-2e\" x=\"63.623047\"/>\n       <use xlink:href=\"#DejaVuSans-38\" x=\"95.410156\"/>\n      </g>\n     </g>\n    </g>\n   </g>\n   <g id=\"line2d_12\">\n    <path d=\"M 34.954394 64.77247 \n\" clip-path=\"url(#p4d34acb2de)\" style=\"fill: none; stroke: #1f77b4; stroke-width: 1.5; stroke-linecap: square\"/>\n   </g>\n   <g id=\"line2d_13\">\n    <path d=\"M 34.954394 64.77247 \nL 44.698573 94.175135 \n\" clip-path=\"url(#p4d34acb2de)\" style=\"fill: none; stroke: #1f77b4; stroke-width: 1.5; stroke-linecap: square\"/>\n   </g>\n   <g id=\"line2d_14\">\n    <path d=\"M 34.954394 64.77247 \nL 44.698573 94.175135 \n\" clip-path=\"url(#p4d34acb2de)\" style=\"fill: none; stroke: #1f77b4; stroke-width: 1.5; stroke-linecap: square\"/>\n   </g>\n   <g id=\"line2d_15\">\n    <path d=\"M 49.633125 84.657415 \n\" clip-path=\"url(#p4d34acb2de)\" style=\"fill: none; stroke-dasharray: 5.55,2.4; stroke-dashoffset: 0; stroke: #ff7f0e; stroke-width: 1.5\"/>\n   </g>\n   <g id=\"line2d_16\"/>\n   <g id=\"line2d_17\">\n    <path d=\"M 34.954394 64.77247 \nL 44.698573 94.175135 \n\" clip-path=\"url(#p4d34acb2de)\" style=\"fill: none; stroke: #1f77b4; stroke-width: 1.5; stroke-linecap: square\"/>\n   </g>\n   <g id=\"line2d_18\">\n    <path d=\"M 49.633125 84.657415 \n\" clip-path=\"url(#p4d34acb2de)\" style=\"fill: none; stroke-dasharray: 5.55,2.4; stroke-dashoffset: 0; stroke: #ff7f0e; stroke-width: 1.5\"/>\n   </g>\n   <g id=\"line2d_19\">\n    <path d=\"M 49.633125 24.368824 \n\" clip-path=\"url(#p4d34acb2de)\" style=\"fill: none; stroke-dasharray: 9.6,2.4,1.5,2.4; stroke-dashoffset: 0; stroke: #2ca02c; stroke-width: 1.5\"/>\n   </g>\n   <g id=\"line2d_20\">\n    <path d=\"M 34.954394 64.77247 \nL 44.698573 94.175135 \nL 54.442752 103.479652 \n\" clip-path=\"url(#p4d34acb2de)\" style=\"fill: none; stroke: #1f77b4; stroke-width: 1.5; stroke-linecap: square\"/>\n   </g>\n   <g id=\"line2d_21\">\n    <path d=\"M 49.633125 84.657415 \n\" clip-path=\"url(#p4d34acb2de)\" style=\"fill: none; stroke-dasharray: 5.55,2.4; stroke-dashoffset: 0; stroke: #ff7f0e; stroke-width: 1.5\"/>\n   </g>\n   <g id=\"line2d_22\">\n    <path d=\"M 49.633125 24.368824 \n\" clip-path=\"url(#p4d34acb2de)\" style=\"fill: none; stroke-dasharray: 9.6,2.4,1.5,2.4; stroke-dashoffset: 0; stroke: #2ca02c; stroke-width: 1.5\"/>\n   </g>\n   <g id=\"line2d_23\">\n    <path d=\"M 34.954394 64.77247 \nL 44.698573 94.175135 \nL 54.442752 103.479652 \nL 64.186931 106.261926 \n\" clip-path=\"url(#p4d34acb2de)\" style=\"fill: none; stroke: #1f77b4; stroke-width: 1.5; stroke-linecap: square\"/>\n   </g>\n   <g id=\"line2d_24\">\n    <path d=\"M 49.633125 84.657415 \n\" clip-path=\"url(#p4d34acb2de)\" style=\"fill: none; stroke-dasharray: 5.55,2.4; stroke-dashoffset: 0; stroke: #ff7f0e; stroke-width: 1.5\"/>\n   </g>\n   <g id=\"line2d_25\">\n    <path d=\"M 49.633125 24.368824 \n\" clip-path=\"url(#p4d34acb2de)\" style=\"fill: none; stroke-dasharray: 9.6,2.4,1.5,2.4; stroke-dashoffset: 0; stroke: #2ca02c; stroke-width: 1.5\"/>\n   </g>\n   <g id=\"line2d_26\">\n    <path d=\"M 34.954394 64.77247 \nL 44.698573 94.175135 \nL 54.442752 103.479652 \nL 64.186931 106.261926 \n\" clip-path=\"url(#p4d34acb2de)\" style=\"fill: none; stroke: #1f77b4; stroke-width: 1.5; stroke-linecap: square\"/>\n   </g>\n   <g id=\"line2d_27\">\n    <path d=\"M 49.633125 84.657415 \nL 69.163125 101.764967 \n\" clip-path=\"url(#p4d34acb2de)\" style=\"fill: none; stroke-dasharray: 5.55,2.4; stroke-dashoffset: 0; stroke: #ff7f0e; stroke-width: 1.5\"/>\n   </g>\n   <g id=\"line2d_28\">\n    <path d=\"M 49.633125 24.368824 \n\" clip-path=\"url(#p4d34acb2de)\" style=\"fill: none; stroke-dasharray: 9.6,2.4,1.5,2.4; stroke-dashoffset: 0; stroke: #2ca02c; stroke-width: 1.5\"/>\n   </g>\n   <g id=\"line2d_29\">\n    <path d=\"M 34.954394 64.77247 \nL 44.698573 94.175135 \nL 54.442752 103.479652 \nL 64.186931 106.261926 \n\" clip-path=\"url(#p4d34acb2de)\" style=\"fill: none; stroke: #1f77b4; stroke-width: 1.5; stroke-linecap: square\"/>\n   </g>\n   <g id=\"line2d_30\">\n    <path d=\"M 49.633125 84.657415 \nL 69.163125 101.764967 \n\" clip-path=\"url(#p4d34acb2de)\" style=\"fill: none; stroke-dasharray: 5.55,2.4; stroke-dashoffset: 0; stroke: #ff7f0e; stroke-width: 1.5\"/>\n   </g>\n   <g id=\"line2d_31\">\n    <path d=\"M 49.633125 24.368824 \nL 69.163125 17.109007 \n\" clip-path=\"url(#p4d34acb2de)\" style=\"fill: none; stroke-dasharray: 9.6,2.4,1.5,2.4; stroke-dashoffset: 0; stroke: #2ca02c; stroke-width: 1.5\"/>\n   </g>\n   <g id=\"line2d_32\">\n    <path d=\"M 34.954394 64.77247 \nL 44.698573 94.175135 \nL 54.442752 103.479652 \nL 64.186931 106.261926 \nL 73.93111 112.329201 \n\" clip-path=\"url(#p4d34acb2de)\" style=\"fill: none; stroke: #1f77b4; stroke-width: 1.5; stroke-linecap: square\"/>\n   </g>\n   <g id=\"line2d_33\">\n    <path d=\"M 49.633125 84.657415 \nL 69.163125 101.764967 \n\" clip-path=\"url(#p4d34acb2de)\" style=\"fill: none; stroke-dasharray: 5.55,2.4; stroke-dashoffset: 0; stroke: #ff7f0e; stroke-width: 1.5\"/>\n   </g>\n   <g id=\"line2d_34\">\n    <path d=\"M 49.633125 24.368824 \nL 69.163125 17.109007 \n\" clip-path=\"url(#p4d34acb2de)\" style=\"fill: none; stroke-dasharray: 9.6,2.4,1.5,2.4; stroke-dashoffset: 0; stroke: #2ca02c; stroke-width: 1.5\"/>\n   </g>\n   <g id=\"line2d_35\">\n    <path d=\"M 34.954394 64.77247 \nL 44.698573 94.175135 \nL 54.442752 103.479652 \nL 64.186931 106.261926 \nL 73.93111 112.329201 \nL 83.675289 112.933134 \n\" clip-path=\"url(#p4d34acb2de)\" style=\"fill: none; stroke: #1f77b4; stroke-width: 1.5; stroke-linecap: square\"/>\n   </g>\n   <g id=\"line2d_36\">\n    <path d=\"M 49.633125 84.657415 \nL 69.163125 101.764967 \n\" clip-path=\"url(#p4d34acb2de)\" style=\"fill: none; stroke-dasharray: 5.55,2.4; stroke-dashoffset: 0; stroke: #ff7f0e; stroke-width: 1.5\"/>\n   </g>\n   <g id=\"line2d_37\">\n    <path d=\"M 49.633125 24.368824 \nL 69.163125 17.109007 \n\" clip-path=\"url(#p4d34acb2de)\" style=\"fill: none; stroke-dasharray: 9.6,2.4,1.5,2.4; stroke-dashoffset: 0; stroke: #2ca02c; stroke-width: 1.5\"/>\n   </g>\n   <g id=\"line2d_38\">\n    <path d=\"M 34.954394 64.77247 \nL 44.698573 94.175135 \nL 54.442752 103.479652 \nL 64.186931 106.261926 \nL 73.93111 112.329201 \nL 83.675289 112.933134 \n\" clip-path=\"url(#p4d34acb2de)\" style=\"fill: none; stroke: #1f77b4; stroke-width: 1.5; stroke-linecap: square\"/>\n   </g>\n   <g id=\"line2d_39\">\n    <path d=\"M 49.633125 84.657415 \nL 69.163125 101.764967 \nL 88.693125 93.750239 \n\" clip-path=\"url(#p4d34acb2de)\" style=\"fill: none; stroke-dasharray: 5.55,2.4; stroke-dashoffset: 0; stroke: #ff7f0e; stroke-width: 1.5\"/>\n   </g>\n   <g id=\"line2d_40\">\n    <path d=\"M 49.633125 24.368824 \nL 69.163125 17.109007 \n\" clip-path=\"url(#p4d34acb2de)\" style=\"fill: none; stroke-dasharray: 9.6,2.4,1.5,2.4; stroke-dashoffset: 0; stroke: #2ca02c; stroke-width: 1.5\"/>\n   </g>\n   <g id=\"line2d_41\">\n    <path d=\"M 34.954394 64.77247 \nL 44.698573 94.175135 \nL 54.442752 103.479652 \nL 64.186931 106.261926 \nL 73.93111 112.329201 \nL 83.675289 112.933134 \n\" clip-path=\"url(#p4d34acb2de)\" style=\"fill: none; stroke: #1f77b4; stroke-width: 1.5; stroke-linecap: square\"/>\n   </g>\n   <g id=\"line2d_42\">\n    <path d=\"M 49.633125 84.657415 \nL 69.163125 101.764967 \nL 88.693125 93.750239 \n\" clip-path=\"url(#p4d34acb2de)\" style=\"fill: none; stroke-dasharray: 5.55,2.4; stroke-dashoffset: 0; stroke: #ff7f0e; stroke-width: 1.5\"/>\n   </g>\n   <g id=\"line2d_43\">\n    <path d=\"M 49.633125 24.368824 \nL 69.163125 17.109007 \nL 88.693125 19.854082 \n\" clip-path=\"url(#p4d34acb2de)\" style=\"fill: none; stroke-dasharray: 9.6,2.4,1.5,2.4; stroke-dashoffset: 0; stroke: #2ca02c; stroke-width: 1.5\"/>\n   </g>\n   <g id=\"line2d_44\">\n    <path d=\"M 34.954394 64.77247 \nL 44.698573 94.175135 \nL 54.442752 103.479652 \nL 64.186931 106.261926 \nL 73.93111 112.329201 \nL 83.675289 112.933134 \nL 93.419468 119.165645 \n\" clip-path=\"url(#p4d34acb2de)\" style=\"fill: none; stroke: #1f77b4; stroke-width: 1.5; stroke-linecap: square\"/>\n   </g>\n   <g id=\"line2d_45\">\n    <path d=\"M 49.633125 84.657415 \nL 69.163125 101.764967 \nL 88.693125 93.750239 \n\" clip-path=\"url(#p4d34acb2de)\" style=\"fill: none; stroke-dasharray: 5.55,2.4; stroke-dashoffset: 0; stroke: #ff7f0e; stroke-width: 1.5\"/>\n   </g>\n   <g id=\"line2d_46\">\n    <path d=\"M 49.633125 24.368824 \nL 69.163125 17.109007 \nL 88.693125 19.854082 \n\" clip-path=\"url(#p4d34acb2de)\" style=\"fill: none; stroke-dasharray: 9.6,2.4,1.5,2.4; stroke-dashoffset: 0; stroke: #2ca02c; stroke-width: 1.5\"/>\n   </g>\n   <g id=\"line2d_47\">\n    <path d=\"M 34.954394 64.77247 \nL 44.698573 94.175135 \nL 54.442752 103.479652 \nL 64.186931 106.261926 \nL 73.93111 112.329201 \nL 83.675289 112.933134 \nL 93.419468 119.165645 \nL 103.163647 118.307871 \n\" clip-path=\"url(#p4d34acb2de)\" style=\"fill: none; stroke: #1f77b4; stroke-width: 1.5; stroke-linecap: square\"/>\n   </g>\n   <g id=\"line2d_48\">\n    <path d=\"M 49.633125 84.657415 \nL 69.163125 101.764967 \nL 88.693125 93.750239 \n\" clip-path=\"url(#p4d34acb2de)\" style=\"fill: none; stroke-dasharray: 5.55,2.4; stroke-dashoffset: 0; stroke: #ff7f0e; stroke-width: 1.5\"/>\n   </g>\n   <g id=\"line2d_49\">\n    <path d=\"M 49.633125 24.368824 \nL 69.163125 17.109007 \nL 88.693125 19.854082 \n\" clip-path=\"url(#p4d34acb2de)\" style=\"fill: none; stroke-dasharray: 9.6,2.4,1.5,2.4; stroke-dashoffset: 0; stroke: #2ca02c; stroke-width: 1.5\"/>\n   </g>\n   <g id=\"line2d_50\">\n    <path d=\"M 34.954394 64.77247 \nL 44.698573 94.175135 \nL 54.442752 103.479652 \nL 64.186931 106.261926 \nL 73.93111 112.329201 \nL 83.675289 112.933134 \nL 93.419468 119.165645 \nL 103.163647 118.307871 \n\" clip-path=\"url(#p4d34acb2de)\" style=\"fill: none; stroke: #1f77b4; stroke-width: 1.5; stroke-linecap: square\"/>\n   </g>\n   <g id=\"line2d_51\">\n    <path d=\"M 49.633125 84.657415 \nL 69.163125 101.764967 \nL 88.693125 93.750239 \nL 108.223125 105.280246 \n\" clip-path=\"url(#p4d34acb2de)\" style=\"fill: none; stroke-dasharray: 5.55,2.4; stroke-dashoffset: 0; stroke: #ff7f0e; stroke-width: 1.5\"/>\n   </g>\n   <g id=\"line2d_52\">\n    <path d=\"M 49.633125 24.368824 \nL 69.163125 17.109007 \nL 88.693125 19.854082 \n\" clip-path=\"url(#p4d34acb2de)\" style=\"fill: none; stroke-dasharray: 9.6,2.4,1.5,2.4; stroke-dashoffset: 0; stroke: #2ca02c; stroke-width: 1.5\"/>\n   </g>\n   <g id=\"line2d_53\">\n    <path d=\"M 34.954394 64.77247 \nL 44.698573 94.175135 \nL 54.442752 103.479652 \nL 64.186931 106.261926 \nL 73.93111 112.329201 \nL 83.675289 112.933134 \nL 93.419468 119.165645 \nL 103.163647 118.307871 \n\" clip-path=\"url(#p4d34acb2de)\" style=\"fill: none; stroke: #1f77b4; stroke-width: 1.5; stroke-linecap: square\"/>\n   </g>\n   <g id=\"line2d_54\">\n    <path d=\"M 49.633125 84.657415 \nL 69.163125 101.764967 \nL 88.693125 93.750239 \nL 108.223125 105.280246 \n\" clip-path=\"url(#p4d34acb2de)\" style=\"fill: none; stroke-dasharray: 5.55,2.4; stroke-dashoffset: 0; stroke: #ff7f0e; stroke-width: 1.5\"/>\n   </g>\n   <g id=\"line2d_55\">\n    <path d=\"M 49.633125 24.368824 \nL 69.163125 17.109007 \nL 88.693125 19.854082 \nL 108.223125 15.757371 \n\" clip-path=\"url(#p4d34acb2de)\" style=\"fill: none; stroke-dasharray: 9.6,2.4,1.5,2.4; stroke-dashoffset: 0; stroke: #2ca02c; stroke-width: 1.5\"/>\n   </g>\n   <g id=\"line2d_56\">\n    <path d=\"M 34.954394 64.77247 \nL 44.698573 94.175135 \nL 54.442752 103.479652 \nL 64.186931 106.261926 \nL 73.93111 112.329201 \nL 83.675289 112.933134 \nL 93.419468 119.165645 \nL 103.163647 118.307871 \nL 112.907826 124.200016 \n\" clip-path=\"url(#p4d34acb2de)\" style=\"fill: none; stroke: #1f77b4; stroke-width: 1.5; stroke-linecap: square\"/>\n   </g>\n   <g id=\"line2d_57\">\n    <path d=\"M 49.633125 84.657415 \nL 69.163125 101.764967 \nL 88.693125 93.750239 \nL 108.223125 105.280246 \n\" clip-path=\"url(#p4d34acb2de)\" style=\"fill: none; stroke-dasharray: 5.55,2.4; stroke-dashoffset: 0; stroke: #ff7f0e; stroke-width: 1.5\"/>\n   </g>\n   <g id=\"line2d_58\">\n    <path d=\"M 49.633125 24.368824 \nL 69.163125 17.109007 \nL 88.693125 19.854082 \nL 108.223125 15.757371 \n\" clip-path=\"url(#p4d34acb2de)\" style=\"fill: none; stroke-dasharray: 9.6,2.4,1.5,2.4; stroke-dashoffset: 0; stroke: #2ca02c; stroke-width: 1.5\"/>\n   </g>\n   <g id=\"line2d_59\">\n    <path d=\"M 34.954394 64.77247 \nL 44.698573 94.175135 \nL 54.442752 103.479652 \nL 64.186931 106.261926 \nL 73.93111 112.329201 \nL 83.675289 112.933134 \nL 93.419468 119.165645 \nL 103.163647 118.307871 \nL 112.907826 124.200016 \nL 122.652006 124.064765 \n\" clip-path=\"url(#p4d34acb2de)\" style=\"fill: none; stroke: #1f77b4; stroke-width: 1.5; stroke-linecap: square\"/>\n   </g>\n   <g id=\"line2d_60\">\n    <path d=\"M 49.633125 84.657415 \nL 69.163125 101.764967 \nL 88.693125 93.750239 \nL 108.223125 105.280246 \n\" clip-path=\"url(#p4d34acb2de)\" style=\"fill: none; stroke-dasharray: 5.55,2.4; stroke-dashoffset: 0; stroke: #ff7f0e; stroke-width: 1.5\"/>\n   </g>\n   <g id=\"line2d_61\">\n    <path d=\"M 49.633125 24.368824 \nL 69.163125 17.109007 \nL 88.693125 19.854082 \nL 108.223125 15.757371 \n\" clip-path=\"url(#p4d34acb2de)\" style=\"fill: none; stroke-dasharray: 9.6,2.4,1.5,2.4; stroke-dashoffset: 0; stroke: #2ca02c; stroke-width: 1.5\"/>\n   </g>\n   <g id=\"line2d_62\">\n    <path d=\"M 34.954394 64.77247 \nL 44.698573 94.175135 \nL 54.442752 103.479652 \nL 64.186931 106.261926 \nL 73.93111 112.329201 \nL 83.675289 112.933134 \nL 93.419468 119.165645 \nL 103.163647 118.307871 \nL 112.907826 124.200016 \nL 122.652006 124.064765 \n\" clip-path=\"url(#p4d34acb2de)\" style=\"fill: none; stroke: #1f77b4; stroke-width: 1.5; stroke-linecap: square\"/>\n   </g>\n   <g id=\"line2d_63\">\n    <path d=\"M 49.633125 84.657415 \nL 69.163125 101.764967 \nL 88.693125 93.750239 \nL 108.223125 105.280246 \nL 127.753125 100.370598 \n\" clip-path=\"url(#p4d34acb2de)\" style=\"fill: none; stroke-dasharray: 5.55,2.4; stroke-dashoffset: 0; stroke: #ff7f0e; stroke-width: 1.5\"/>\n   </g>\n   <g id=\"line2d_64\">\n    <path d=\"M 49.633125 24.368824 \nL 69.163125 17.109007 \nL 88.693125 19.854082 \nL 108.223125 15.757371 \n\" clip-path=\"url(#p4d34acb2de)\" style=\"fill: none; stroke-dasharray: 9.6,2.4,1.5,2.4; stroke-dashoffset: 0; stroke: #2ca02c; stroke-width: 1.5\"/>\n   </g>\n   <g id=\"line2d_65\">\n    <path d=\"M 34.954394 64.77247 \nL 44.698573 94.175135 \nL 54.442752 103.479652 \nL 64.186931 106.261926 \nL 73.93111 112.329201 \nL 83.675289 112.933134 \nL 93.419468 119.165645 \nL 103.163647 118.307871 \nL 112.907826 124.200016 \nL 122.652006 124.064765 \n\" clip-path=\"url(#p4d34acb2de)\" style=\"fill: none; stroke: #1f77b4; stroke-width: 1.5; stroke-linecap: square\"/>\n   </g>\n   <g id=\"line2d_66\">\n    <path d=\"M 49.633125 84.657415 \nL 69.163125 101.764967 \nL 88.693125 93.750239 \nL 108.223125 105.280246 \nL 127.753125 100.370598 \n\" clip-path=\"url(#p4d34acb2de)\" style=\"fill: none; stroke-dasharray: 5.55,2.4; stroke-dashoffset: 0; stroke: #ff7f0e; stroke-width: 1.5\"/>\n   </g>\n   <g id=\"line2d_67\">\n    <path d=\"M 49.633125 24.368824 \nL 69.163125 17.109007 \nL 88.693125 19.854082 \nL 108.223125 15.757371 \nL 127.753125 16.161468 \n\" clip-path=\"url(#p4d34acb2de)\" style=\"fill: none; stroke-dasharray: 9.6,2.4,1.5,2.4; stroke-dashoffset: 0; stroke: #2ca02c; stroke-width: 1.5\"/>\n   </g>\n   <g id=\"line2d_68\">\n    <path d=\"M 34.954394 64.77247 \nL 44.698573 94.175135 \nL 54.442752 103.479652 \nL 64.186931 106.261926 \nL 73.93111 112.329201 \nL 83.675289 112.933134 \nL 93.419468 119.165645 \nL 103.163647 118.307871 \nL 112.907826 124.200016 \nL 122.652006 124.064765 \nL 132.396185 128.527524 \n\" clip-path=\"url(#p4d34acb2de)\" style=\"fill: none; stroke: #1f77b4; stroke-width: 1.5; stroke-linecap: square\"/>\n   </g>\n   <g id=\"line2d_69\">\n    <path d=\"M 49.633125 84.657415 \nL 69.163125 101.764967 \nL 88.693125 93.750239 \nL 108.223125 105.280246 \nL 127.753125 100.370598 \n\" clip-path=\"url(#p4d34acb2de)\" style=\"fill: none; stroke-dasharray: 5.55,2.4; stroke-dashoffset: 0; stroke: #ff7f0e; stroke-width: 1.5\"/>\n   </g>\n   <g id=\"line2d_70\">\n    <path d=\"M 49.633125 24.368824 \nL 69.163125 17.109007 \nL 88.693125 19.854082 \nL 108.223125 15.757371 \nL 127.753125 16.161468 \n\" clip-path=\"url(#p4d34acb2de)\" style=\"fill: none; stroke-dasharray: 9.6,2.4,1.5,2.4; stroke-dashoffset: 0; stroke: #2ca02c; stroke-width: 1.5\"/>\n   </g>\n   <g id=\"line2d_71\">\n    <path d=\"M 34.954394 64.77247 \nL 44.698573 94.175135 \nL 54.442752 103.479652 \nL 64.186931 106.261926 \nL 73.93111 112.329201 \nL 83.675289 112.933134 \nL 93.419468 119.165645 \nL 103.163647 118.307871 \nL 112.907826 124.200016 \nL 122.652006 124.064765 \nL 132.396185 128.527524 \nL 142.140364 128.075575 \n\" clip-path=\"url(#p4d34acb2de)\" style=\"fill: none; stroke: #1f77b4; stroke-width: 1.5; stroke-linecap: square\"/>\n   </g>\n   <g id=\"line2d_72\">\n    <path d=\"M 49.633125 84.657415 \nL 69.163125 101.764967 \nL 88.693125 93.750239 \nL 108.223125 105.280246 \nL 127.753125 100.370598 \n\" clip-path=\"url(#p4d34acb2de)\" style=\"fill: none; stroke-dasharray: 5.55,2.4; stroke-dashoffset: 0; stroke: #ff7f0e; stroke-width: 1.5\"/>\n   </g>\n   <g id=\"line2d_73\">\n    <path d=\"M 49.633125 24.368824 \nL 69.163125 17.109007 \nL 88.693125 19.854082 \nL 108.223125 15.757371 \nL 127.753125 16.161468 \n\" clip-path=\"url(#p4d34acb2de)\" style=\"fill: none; stroke-dasharray: 9.6,2.4,1.5,2.4; stroke-dashoffset: 0; stroke: #2ca02c; stroke-width: 1.5\"/>\n   </g>\n   <g id=\"line2d_74\">\n    <path d=\"M 34.954394 64.77247 \nL 44.698573 94.175135 \nL 54.442752 103.479652 \nL 64.186931 106.261926 \nL 73.93111 112.329201 \nL 83.675289 112.933134 \nL 93.419468 119.165645 \nL 103.163647 118.307871 \nL 112.907826 124.200016 \nL 122.652006 124.064765 \nL 132.396185 128.527524 \nL 142.140364 128.075575 \n\" clip-path=\"url(#p4d34acb2de)\" style=\"fill: none; stroke: #1f77b4; stroke-width: 1.5; stroke-linecap: square\"/>\n   </g>\n   <g id=\"line2d_75\">\n    <path d=\"M 49.633125 84.657415 \nL 69.163125 101.764967 \nL 88.693125 93.750239 \nL 108.223125 105.280246 \nL 127.753125 100.370598 \nL 147.283125 87.637873 \n\" clip-path=\"url(#p4d34acb2de)\" style=\"fill: none; stroke-dasharray: 5.55,2.4; stroke-dashoffset: 0; stroke: #ff7f0e; stroke-width: 1.5\"/>\n   </g>\n   <g id=\"line2d_76\">\n    <path d=\"M 49.633125 24.368824 \nL 69.163125 17.109007 \nL 88.693125 19.854082 \nL 108.223125 15.757371 \nL 127.753125 16.161468 \n\" clip-path=\"url(#p4d34acb2de)\" style=\"fill: none; stroke-dasharray: 9.6,2.4,1.5,2.4; stroke-dashoffset: 0; stroke: #2ca02c; stroke-width: 1.5\"/>\n   </g>\n   <g id=\"line2d_77\">\n    <path d=\"M 34.954394 64.77247 \nL 44.698573 94.175135 \nL 54.442752 103.479652 \nL 64.186931 106.261926 \nL 73.93111 112.329201 \nL 83.675289 112.933134 \nL 93.419468 119.165645 \nL 103.163647 118.307871 \nL 112.907826 124.200016 \nL 122.652006 124.064765 \nL 132.396185 128.527524 \nL 142.140364 128.075575 \n\" clip-path=\"url(#p4d34acb2de)\" style=\"fill: none; stroke: #1f77b4; stroke-width: 1.5; stroke-linecap: square\"/>\n   </g>\n   <g id=\"line2d_78\">\n    <path d=\"M 49.633125 84.657415 \nL 69.163125 101.764967 \nL 88.693125 93.750239 \nL 108.223125 105.280246 \nL 127.753125 100.370598 \nL 147.283125 87.637873 \n\" clip-path=\"url(#p4d34acb2de)\" style=\"fill: none; stroke-dasharray: 5.55,2.4; stroke-dashoffset: 0; stroke: #ff7f0e; stroke-width: 1.5\"/>\n   </g>\n   <g id=\"line2d_79\">\n    <path d=\"M 49.633125 24.368824 \nL 69.163125 17.109007 \nL 88.693125 19.854082 \nL 108.223125 15.757371 \nL 127.753125 16.161468 \nL 147.283125 19.477853 \n\" clip-path=\"url(#p4d34acb2de)\" style=\"fill: none; stroke-dasharray: 9.6,2.4,1.5,2.4; stroke-dashoffset: 0; stroke: #2ca02c; stroke-width: 1.5\"/>\n   </g>\n   <g id=\"line2d_80\">\n    <path d=\"M 34.954394 64.77247 \nL 44.698573 94.175135 \nL 54.442752 103.479652 \nL 64.186931 106.261926 \nL 73.93111 112.329201 \nL 83.675289 112.933134 \nL 93.419468 119.165645 \nL 103.163647 118.307871 \nL 112.907826 124.200016 \nL 122.652006 124.064765 \nL 132.396185 128.527524 \nL 142.140364 128.075575 \nL 151.884543 132.81243 \n\" clip-path=\"url(#p4d34acb2de)\" style=\"fill: none; stroke: #1f77b4; stroke-width: 1.5; stroke-linecap: square\"/>\n   </g>\n   <g id=\"line2d_81\">\n    <path d=\"M 49.633125 84.657415 \nL 69.163125 101.764967 \nL 88.693125 93.750239 \nL 108.223125 105.280246 \nL 127.753125 100.370598 \nL 147.283125 87.637873 \n\" clip-path=\"url(#p4d34acb2de)\" style=\"fill: none; stroke-dasharray: 5.55,2.4; stroke-dashoffset: 0; stroke: #ff7f0e; stroke-width: 1.5\"/>\n   </g>\n   <g id=\"line2d_82\">\n    <path d=\"M 49.633125 24.368824 \nL 69.163125 17.109007 \nL 88.693125 19.854082 \nL 108.223125 15.757371 \nL 127.753125 16.161468 \nL 147.283125 19.477853 \n\" clip-path=\"url(#p4d34acb2de)\" style=\"fill: none; stroke-dasharray: 9.6,2.4,1.5,2.4; stroke-dashoffset: 0; stroke: #2ca02c; stroke-width: 1.5\"/>\n   </g>\n   <g id=\"line2d_83\">\n    <path d=\"M 34.954394 64.77247 \nL 44.698573 94.175135 \nL 54.442752 103.479652 \nL 64.186931 106.261926 \nL 73.93111 112.329201 \nL 83.675289 112.933134 \nL 93.419468 119.165645 \nL 103.163647 118.307871 \nL 112.907826 124.200016 \nL 122.652006 124.064765 \nL 132.396185 128.527524 \nL 142.140364 128.075575 \nL 151.884543 132.81243 \nL 161.628722 130.728723 \n\" clip-path=\"url(#p4d34acb2de)\" style=\"fill: none; stroke: #1f77b4; stroke-width: 1.5; stroke-linecap: square\"/>\n   </g>\n   <g id=\"line2d_84\">\n    <path d=\"M 49.633125 84.657415 \nL 69.163125 101.764967 \nL 88.693125 93.750239 \nL 108.223125 105.280246 \nL 127.753125 100.370598 \nL 147.283125 87.637873 \n\" clip-path=\"url(#p4d34acb2de)\" style=\"fill: none; stroke-dasharray: 5.55,2.4; stroke-dashoffset: 0; stroke: #ff7f0e; stroke-width: 1.5\"/>\n   </g>\n   <g id=\"line2d_85\">\n    <path d=\"M 49.633125 24.368824 \nL 69.163125 17.109007 \nL 88.693125 19.854082 \nL 108.223125 15.757371 \nL 127.753125 16.161468 \nL 147.283125 19.477853 \n\" clip-path=\"url(#p4d34acb2de)\" style=\"fill: none; stroke-dasharray: 9.6,2.4,1.5,2.4; stroke-dashoffset: 0; stroke: #2ca02c; stroke-width: 1.5\"/>\n   </g>\n   <g id=\"line2d_86\">\n    <path d=\"M 34.954394 64.77247 \nL 44.698573 94.175135 \nL 54.442752 103.479652 \nL 64.186931 106.261926 \nL 73.93111 112.329201 \nL 83.675289 112.933134 \nL 93.419468 119.165645 \nL 103.163647 118.307871 \nL 112.907826 124.200016 \nL 122.652006 124.064765 \nL 132.396185 128.527524 \nL 142.140364 128.075575 \nL 151.884543 132.81243 \nL 161.628722 130.728723 \n\" clip-path=\"url(#p4d34acb2de)\" style=\"fill: none; stroke: #1f77b4; stroke-width: 1.5; stroke-linecap: square\"/>\n   </g>\n   <g id=\"line2d_87\">\n    <path d=\"M 49.633125 84.657415 \nL 69.163125 101.764967 \nL 88.693125 93.750239 \nL 108.223125 105.280246 \nL 127.753125 100.370598 \nL 147.283125 87.637873 \nL 166.813125 100.92174 \n\" clip-path=\"url(#p4d34acb2de)\" style=\"fill: none; stroke-dasharray: 5.55,2.4; stroke-dashoffset: 0; stroke: #ff7f0e; stroke-width: 1.5\"/>\n   </g>\n   <g id=\"line2d_88\">\n    <path d=\"M 49.633125 24.368824 \nL 69.163125 17.109007 \nL 88.693125 19.854082 \nL 108.223125 15.757371 \nL 127.753125 16.161468 \nL 147.283125 19.477853 \n\" clip-path=\"url(#p4d34acb2de)\" style=\"fill: none; stroke-dasharray: 9.6,2.4,1.5,2.4; stroke-dashoffset: 0; stroke: #2ca02c; stroke-width: 1.5\"/>\n   </g>\n   <g id=\"line2d_89\">\n    <path d=\"M 34.954394 64.77247 \nL 44.698573 94.175135 \nL 54.442752 103.479652 \nL 64.186931 106.261926 \nL 73.93111 112.329201 \nL 83.675289 112.933134 \nL 93.419468 119.165645 \nL 103.163647 118.307871 \nL 112.907826 124.200016 \nL 122.652006 124.064765 \nL 132.396185 128.527524 \nL 142.140364 128.075575 \nL 151.884543 132.81243 \nL 161.628722 130.728723 \n\" clip-path=\"url(#p4d34acb2de)\" style=\"fill: none; stroke: #1f77b4; stroke-width: 1.5; stroke-linecap: square\"/>\n   </g>\n   <g id=\"line2d_90\">\n    <path d=\"M 49.633125 84.657415 \nL 69.163125 101.764967 \nL 88.693125 93.750239 \nL 108.223125 105.280246 \nL 127.753125 100.370598 \nL 147.283125 87.637873 \nL 166.813125 100.92174 \n\" clip-path=\"url(#p4d34acb2de)\" style=\"fill: none; stroke-dasharray: 5.55,2.4; stroke-dashoffset: 0; stroke: #ff7f0e; stroke-width: 1.5\"/>\n   </g>\n   <g id=\"line2d_91\">\n    <path d=\"M 49.633125 24.368824 \nL 69.163125 17.109007 \nL 88.693125 19.854082 \nL 108.223125 15.757371 \nL 127.753125 16.161468 \nL 147.283125 19.477853 \nL 166.813125 14.712292 \n\" clip-path=\"url(#p4d34acb2de)\" style=\"fill: none; stroke-dasharray: 9.6,2.4,1.5,2.4; stroke-dashoffset: 0; stroke: #2ca02c; stroke-width: 1.5\"/>\n   </g>\n   <g id=\"line2d_92\">\n    <path d=\"M 34.954394 64.77247 \nL 44.698573 94.175135 \nL 54.442752 103.479652 \nL 64.186931 106.261926 \nL 73.93111 112.329201 \nL 83.675289 112.933134 \nL 93.419468 119.165645 \nL 103.163647 118.307871 \nL 112.907826 124.200016 \nL 122.652006 124.064765 \nL 132.396185 128.527524 \nL 142.140364 128.075575 \nL 151.884543 132.81243 \nL 161.628722 130.728723 \nL 171.372901 135.99129 \n\" clip-path=\"url(#p4d34acb2de)\" style=\"fill: none; stroke: #1f77b4; stroke-width: 1.5; stroke-linecap: square\"/>\n   </g>\n   <g id=\"line2d_93\">\n    <path d=\"M 49.633125 84.657415 \nL 69.163125 101.764967 \nL 88.693125 93.750239 \nL 108.223125 105.280246 \nL 127.753125 100.370598 \nL 147.283125 87.637873 \nL 166.813125 100.92174 \n\" clip-path=\"url(#p4d34acb2de)\" style=\"fill: none; stroke-dasharray: 5.55,2.4; stroke-dashoffset: 0; stroke: #ff7f0e; stroke-width: 1.5\"/>\n   </g>\n   <g id=\"line2d_94\">\n    <path d=\"M 49.633125 24.368824 \nL 69.163125 17.109007 \nL 88.693125 19.854082 \nL 108.223125 15.757371 \nL 127.753125 16.161468 \nL 147.283125 19.477853 \nL 166.813125 14.712292 \n\" clip-path=\"url(#p4d34acb2de)\" style=\"fill: none; stroke-dasharray: 9.6,2.4,1.5,2.4; stroke-dashoffset: 0; stroke: #2ca02c; stroke-width: 1.5\"/>\n   </g>\n   <g id=\"line2d_95\">\n    <path d=\"M 34.954394 64.77247 \nL 44.698573 94.175135 \nL 54.442752 103.479652 \nL 64.186931 106.261926 \nL 73.93111 112.329201 \nL 83.675289 112.933134 \nL 93.419468 119.165645 \nL 103.163647 118.307871 \nL 112.907826 124.200016 \nL 122.652006 124.064765 \nL 132.396185 128.527524 \nL 142.140364 128.075575 \nL 151.884543 132.81243 \nL 161.628722 130.728723 \nL 171.372901 135.99129 \nL 181.11708 134.50296 \n\" clip-path=\"url(#p4d34acb2de)\" style=\"fill: none; stroke: #1f77b4; stroke-width: 1.5; stroke-linecap: square\"/>\n   </g>\n   <g id=\"line2d_96\">\n    <path d=\"M 49.633125 84.657415 \nL 69.163125 101.764967 \nL 88.693125 93.750239 \nL 108.223125 105.280246 \nL 127.753125 100.370598 \nL 147.283125 87.637873 \nL 166.813125 100.92174 \n\" clip-path=\"url(#p4d34acb2de)\" style=\"fill: none; stroke-dasharray: 5.55,2.4; stroke-dashoffset: 0; stroke: #ff7f0e; stroke-width: 1.5\"/>\n   </g>\n   <g id=\"line2d_97\">\n    <path d=\"M 49.633125 24.368824 \nL 69.163125 17.109007 \nL 88.693125 19.854082 \nL 108.223125 15.757371 \nL 127.753125 16.161468 \nL 147.283125 19.477853 \nL 166.813125 14.712292 \n\" clip-path=\"url(#p4d34acb2de)\" style=\"fill: none; stroke-dasharray: 9.6,2.4,1.5,2.4; stroke-dashoffset: 0; stroke: #2ca02c; stroke-width: 1.5\"/>\n   </g>\n   <g id=\"line2d_98\">\n    <path d=\"M 34.954394 64.77247 \nL 44.698573 94.175135 \nL 54.442752 103.479652 \nL 64.186931 106.261926 \nL 73.93111 112.329201 \nL 83.675289 112.933134 \nL 93.419468 119.165645 \nL 103.163647 118.307871 \nL 112.907826 124.200016 \nL 122.652006 124.064765 \nL 132.396185 128.527524 \nL 142.140364 128.075575 \nL 151.884543 132.81243 \nL 161.628722 130.728723 \nL 171.372901 135.99129 \nL 181.11708 134.50296 \n\" clip-path=\"url(#p4d34acb2de)\" style=\"fill: none; stroke: #1f77b4; stroke-width: 1.5; stroke-linecap: square\"/>\n   </g>\n   <g id=\"line2d_99\">\n    <path d=\"M 49.633125 84.657415 \nL 69.163125 101.764967 \nL 88.693125 93.750239 \nL 108.223125 105.280246 \nL 127.753125 100.370598 \nL 147.283125 87.637873 \nL 166.813125 100.92174 \nL 186.343125 101.497966 \n\" clip-path=\"url(#p4d34acb2de)\" style=\"fill: none; stroke-dasharray: 5.55,2.4; stroke-dashoffset: 0; stroke: #ff7f0e; stroke-width: 1.5\"/>\n   </g>\n   <g id=\"line2d_100\">\n    <path d=\"M 49.633125 24.368824 \nL 69.163125 17.109007 \nL 88.693125 19.854082 \nL 108.223125 15.757371 \nL 127.753125 16.161468 \nL 147.283125 19.477853 \nL 166.813125 14.712292 \n\" clip-path=\"url(#p4d34acb2de)\" style=\"fill: none; stroke-dasharray: 9.6,2.4,1.5,2.4; stroke-dashoffset: 0; stroke: #2ca02c; stroke-width: 1.5\"/>\n   </g>\n   <g id=\"line2d_101\">\n    <path d=\"M 34.954394 64.77247 \nL 44.698573 94.175135 \nL 54.442752 103.479652 \nL 64.186931 106.261926 \nL 73.93111 112.329201 \nL 83.675289 112.933134 \nL 93.419468 119.165645 \nL 103.163647 118.307871 \nL 112.907826 124.200016 \nL 122.652006 124.064765 \nL 132.396185 128.527524 \nL 142.140364 128.075575 \nL 151.884543 132.81243 \nL 161.628722 130.728723 \nL 171.372901 135.99129 \nL 181.11708 134.50296 \n\" clip-path=\"url(#p4d34acb2de)\" style=\"fill: none; stroke: #1f77b4; stroke-width: 1.5; stroke-linecap: square\"/>\n   </g>\n   <g id=\"line2d_102\">\n    <path d=\"M 49.633125 84.657415 \nL 69.163125 101.764967 \nL 88.693125 93.750239 \nL 108.223125 105.280246 \nL 127.753125 100.370598 \nL 147.283125 87.637873 \nL 166.813125 100.92174 \nL 186.343125 101.497966 \n\" clip-path=\"url(#p4d34acb2de)\" style=\"fill: none; stroke-dasharray: 5.55,2.4; stroke-dashoffset: 0; stroke: #ff7f0e; stroke-width: 1.5\"/>\n   </g>\n   <g id=\"line2d_103\">\n    <path d=\"M 49.633125 24.368824 \nL 69.163125 17.109007 \nL 88.693125 19.854082 \nL 108.223125 15.757371 \nL 127.753125 16.161468 \nL 147.283125 19.477853 \nL 166.813125 14.712292 \nL 186.343125 14.921308 \n\" clip-path=\"url(#p4d34acb2de)\" style=\"fill: none; stroke-dasharray: 9.6,2.4,1.5,2.4; stroke-dashoffset: 0; stroke: #2ca02c; stroke-width: 1.5\"/>\n   </g>\n   <g id=\"line2d_104\">\n    <path d=\"M 34.954394 64.77247 \nL 44.698573 94.175135 \nL 54.442752 103.479652 \nL 64.186931 106.261926 \nL 73.93111 112.329201 \nL 83.675289 112.933134 \nL 93.419468 119.165645 \nL 103.163647 118.307871 \nL 112.907826 124.200016 \nL 122.652006 124.064765 \nL 132.396185 128.527524 \nL 142.140364 128.075575 \nL 151.884543 132.81243 \nL 161.628722 130.728723 \nL 171.372901 135.99129 \nL 181.11708 134.50296 \nL 190.861259 138.02004 \n\" clip-path=\"url(#p4d34acb2de)\" style=\"fill: none; stroke: #1f77b4; stroke-width: 1.5; stroke-linecap: square\"/>\n   </g>\n   <g id=\"line2d_105\">\n    <path d=\"M 49.633125 84.657415 \nL 69.163125 101.764967 \nL 88.693125 93.750239 \nL 108.223125 105.280246 \nL 127.753125 100.370598 \nL 147.283125 87.637873 \nL 166.813125 100.92174 \nL 186.343125 101.497966 \n\" clip-path=\"url(#p4d34acb2de)\" style=\"fill: none; stroke-dasharray: 5.55,2.4; stroke-dashoffset: 0; stroke: #ff7f0e; stroke-width: 1.5\"/>\n   </g>\n   <g id=\"line2d_106\">\n    <path d=\"M 49.633125 24.368824 \nL 69.163125 17.109007 \nL 88.693125 19.854082 \nL 108.223125 15.757371 \nL 127.753125 16.161468 \nL 147.283125 19.477853 \nL 166.813125 14.712292 \nL 186.343125 14.921308 \n\" clip-path=\"url(#p4d34acb2de)\" style=\"fill: none; stroke-dasharray: 9.6,2.4,1.5,2.4; stroke-dashoffset: 0; stroke: #2ca02c; stroke-width: 1.5\"/>\n   </g>\n   <g id=\"line2d_107\">\n    <path d=\"M 34.954394 64.77247 \nL 44.698573 94.175135 \nL 54.442752 103.479652 \nL 64.186931 106.261926 \nL 73.93111 112.329201 \nL 83.675289 112.933134 \nL 93.419468 119.165645 \nL 103.163647 118.307871 \nL 112.907826 124.200016 \nL 122.652006 124.064765 \nL 132.396185 128.527524 \nL 142.140364 128.075575 \nL 151.884543 132.81243 \nL 161.628722 130.728723 \nL 171.372901 135.99129 \nL 181.11708 134.50296 \nL 190.861259 138.02004 \nL 200.605438 136.410374 \n\" clip-path=\"url(#p4d34acb2de)\" style=\"fill: none; stroke: #1f77b4; stroke-width: 1.5; stroke-linecap: square\"/>\n   </g>\n   <g id=\"line2d_108\">\n    <path d=\"M 49.633125 84.657415 \nL 69.163125 101.764967 \nL 88.693125 93.750239 \nL 108.223125 105.280246 \nL 127.753125 100.370598 \nL 147.283125 87.637873 \nL 166.813125 100.92174 \nL 186.343125 101.497966 \n\" clip-path=\"url(#p4d34acb2de)\" style=\"fill: none; stroke-dasharray: 5.55,2.4; stroke-dashoffset: 0; stroke: #ff7f0e; stroke-width: 1.5\"/>\n   </g>\n   <g id=\"line2d_109\">\n    <path d=\"M 49.633125 24.368824 \nL 69.163125 17.109007 \nL 88.693125 19.854082 \nL 108.223125 15.757371 \nL 127.753125 16.161468 \nL 147.283125 19.477853 \nL 166.813125 14.712292 \nL 186.343125 14.921308 \n\" clip-path=\"url(#p4d34acb2de)\" style=\"fill: none; stroke-dasharray: 9.6,2.4,1.5,2.4; stroke-dashoffset: 0; stroke: #2ca02c; stroke-width: 1.5\"/>\n   </g>\n   <g id=\"line2d_110\">\n    <path d=\"M 34.954394 64.77247 \nL 44.698573 94.175135 \nL 54.442752 103.479652 \nL 64.186931 106.261926 \nL 73.93111 112.329201 \nL 83.675289 112.933134 \nL 93.419468 119.165645 \nL 103.163647 118.307871 \nL 112.907826 124.200016 \nL 122.652006 124.064765 \nL 132.396185 128.527524 \nL 142.140364 128.075575 \nL 151.884543 132.81243 \nL 161.628722 130.728723 \nL 171.372901 135.99129 \nL 181.11708 134.50296 \nL 190.861259 138.02004 \nL 200.605438 136.410374 \n\" clip-path=\"url(#p4d34acb2de)\" style=\"fill: none; stroke: #1f77b4; stroke-width: 1.5; stroke-linecap: square\"/>\n   </g>\n   <g id=\"line2d_111\">\n    <path d=\"M 49.633125 84.657415 \nL 69.163125 101.764967 \nL 88.693125 93.750239 \nL 108.223125 105.280246 \nL 127.753125 100.370598 \nL 147.283125 87.637873 \nL 166.813125 100.92174 \nL 186.343125 101.497966 \nL 205.873125 98.443374 \n\" clip-path=\"url(#p4d34acb2de)\" style=\"fill: none; stroke-dasharray: 5.55,2.4; stroke-dashoffset: 0; stroke: #ff7f0e; stroke-width: 1.5\"/>\n   </g>\n   <g id=\"line2d_112\">\n    <path d=\"M 49.633125 24.368824 \nL 69.163125 17.109007 \nL 88.693125 19.854082 \nL 108.223125 15.757371 \nL 127.753125 16.161468 \nL 147.283125 19.477853 \nL 166.813125 14.712292 \nL 186.343125 14.921308 \n\" clip-path=\"url(#p4d34acb2de)\" style=\"fill: none; stroke-dasharray: 9.6,2.4,1.5,2.4; stroke-dashoffset: 0; stroke: #2ca02c; stroke-width: 1.5\"/>\n   </g>\n   <g id=\"line2d_113\">\n    <path d=\"M 34.954394 64.77247 \nL 44.698573 94.175135 \nL 54.442752 103.479652 \nL 64.186931 106.261926 \nL 73.93111 112.329201 \nL 83.675289 112.933134 \nL 93.419468 119.165645 \nL 103.163647 118.307871 \nL 112.907826 124.200016 \nL 122.652006 124.064765 \nL 132.396185 128.527524 \nL 142.140364 128.075575 \nL 151.884543 132.81243 \nL 161.628722 130.728723 \nL 171.372901 135.99129 \nL 181.11708 134.50296 \nL 190.861259 138.02004 \nL 200.605438 136.410374 \n\" clip-path=\"url(#p4d34acb2de)\" style=\"fill: none; stroke: #1f77b4; stroke-width: 1.5; stroke-linecap: square\"/>\n   </g>\n   <g id=\"line2d_114\">\n    <path d=\"M 49.633125 84.657415 \nL 69.163125 101.764967 \nL 88.693125 93.750239 \nL 108.223125 105.280246 \nL 127.753125 100.370598 \nL 147.283125 87.637873 \nL 166.813125 100.92174 \nL 186.343125 101.497966 \nL 205.873125 98.443374 \n\" clip-path=\"url(#p4d34acb2de)\" style=\"fill: none; stroke-dasharray: 5.55,2.4; stroke-dashoffset: 0; stroke: #ff7f0e; stroke-width: 1.5\"/>\n   </g>\n   <g id=\"line2d_115\">\n    <path d=\"M 49.633125 24.368824 \nL 69.163125 17.109007 \nL 88.693125 19.854082 \nL 108.223125 15.757371 \nL 127.753125 16.161468 \nL 147.283125 19.477853 \nL 166.813125 14.712292 \nL 186.343125 14.921308 \nL 205.873125 14.600817 \n\" clip-path=\"url(#p4d34acb2de)\" style=\"fill: none; stroke-dasharray: 9.6,2.4,1.5,2.4; stroke-dashoffset: 0; stroke: #2ca02c; stroke-width: 1.5\"/>\n   </g>\n   <g id=\"line2d_116\">\n    <path d=\"M 34.954394 64.77247 \nL 44.698573 94.175135 \nL 54.442752 103.479652 \nL 64.186931 106.261926 \nL 73.93111 112.329201 \nL 83.675289 112.933134 \nL 93.419468 119.165645 \nL 103.163647 118.307871 \nL 112.907826 124.200016 \nL 122.652006 124.064765 \nL 132.396185 128.527524 \nL 142.140364 128.075575 \nL 151.884543 132.81243 \nL 161.628722 130.728723 \nL 171.372901 135.99129 \nL 181.11708 134.50296 \nL 190.861259 138.02004 \nL 200.605438 136.410374 \nL 210.349618 139.5 \n\" clip-path=\"url(#p4d34acb2de)\" style=\"fill: none; stroke: #1f77b4; stroke-width: 1.5; stroke-linecap: square\"/>\n   </g>\n   <g id=\"line2d_117\">\n    <path d=\"M 49.633125 84.657415 \nL 69.163125 101.764967 \nL 88.693125 93.750239 \nL 108.223125 105.280246 \nL 127.753125 100.370598 \nL 147.283125 87.637873 \nL 166.813125 100.92174 \nL 186.343125 101.497966 \nL 205.873125 98.443374 \n\" clip-path=\"url(#p4d34acb2de)\" style=\"fill: none; stroke-dasharray: 5.55,2.4; stroke-dashoffset: 0; stroke: #ff7f0e; stroke-width: 1.5\"/>\n   </g>\n   <g id=\"line2d_118\">\n    <path d=\"M 49.633125 24.368824 \nL 69.163125 17.109007 \nL 88.693125 19.854082 \nL 108.223125 15.757371 \nL 127.753125 16.161468 \nL 147.283125 19.477853 \nL 166.813125 14.712292 \nL 186.343125 14.921308 \nL 205.873125 14.600817 \n\" clip-path=\"url(#p4d34acb2de)\" style=\"fill: none; stroke-dasharray: 9.6,2.4,1.5,2.4; stroke-dashoffset: 0; stroke: #2ca02c; stroke-width: 1.5\"/>\n   </g>\n   <g id=\"line2d_119\">\n    <path d=\"M 34.954394 64.77247 \nL 44.698573 94.175135 \nL 54.442752 103.479652 \nL 64.186931 106.261926 \nL 73.93111 112.329201 \nL 83.675289 112.933134 \nL 93.419468 119.165645 \nL 103.163647 118.307871 \nL 112.907826 124.200016 \nL 122.652006 124.064765 \nL 132.396185 128.527524 \nL 142.140364 128.075575 \nL 151.884543 132.81243 \nL 161.628722 130.728723 \nL 171.372901 135.99129 \nL 181.11708 134.50296 \nL 190.861259 138.02004 \nL 200.605438 136.410374 \nL 210.349618 139.5 \nL 220.093797 139.136622 \n\" clip-path=\"url(#p4d34acb2de)\" style=\"fill: none; stroke: #1f77b4; stroke-width: 1.5; stroke-linecap: square\"/>\n   </g>\n   <g id=\"line2d_120\">\n    <path d=\"M 49.633125 84.657415 \nL 69.163125 101.764967 \nL 88.693125 93.750239 \nL 108.223125 105.280246 \nL 127.753125 100.370598 \nL 147.283125 87.637873 \nL 166.813125 100.92174 \nL 186.343125 101.497966 \nL 205.873125 98.443374 \n\" clip-path=\"url(#p4d34acb2de)\" style=\"fill: none; stroke-dasharray: 5.55,2.4; stroke-dashoffset: 0; stroke: #ff7f0e; stroke-width: 1.5\"/>\n   </g>\n   <g id=\"line2d_121\">\n    <path d=\"M 49.633125 24.368824 \nL 69.163125 17.109007 \nL 88.693125 19.854082 \nL 108.223125 15.757371 \nL 127.753125 16.161468 \nL 147.283125 19.477853 \nL 166.813125 14.712292 \nL 186.343125 14.921308 \nL 205.873125 14.600817 \n\" clip-path=\"url(#p4d34acb2de)\" style=\"fill: none; stroke-dasharray: 9.6,2.4,1.5,2.4; stroke-dashoffset: 0; stroke: #2ca02c; stroke-width: 1.5\"/>\n   </g>\n   <g id=\"line2d_122\">\n    <path d=\"M 34.954394 64.77247 \nL 44.698573 94.175135 \nL 54.442752 103.479652 \nL 64.186931 106.261926 \nL 73.93111 112.329201 \nL 83.675289 112.933134 \nL 93.419468 119.165645 \nL 103.163647 118.307871 \nL 112.907826 124.200016 \nL 122.652006 124.064765 \nL 132.396185 128.527524 \nL 142.140364 128.075575 \nL 151.884543 132.81243 \nL 161.628722 130.728723 \nL 171.372901 135.99129 \nL 181.11708 134.50296 \nL 190.861259 138.02004 \nL 200.605438 136.410374 \nL 210.349618 139.5 \nL 220.093797 139.136622 \n\" clip-path=\"url(#p4d34acb2de)\" style=\"fill: none; stroke: #1f77b4; stroke-width: 1.5; stroke-linecap: square\"/>\n   </g>\n   <g id=\"line2d_123\">\n    <path d=\"M 49.633125 84.657415 \nL 69.163125 101.764967 \nL 88.693125 93.750239 \nL 108.223125 105.280246 \nL 127.753125 100.370598 \nL 147.283125 87.637873 \nL 166.813125 100.92174 \nL 186.343125 101.497966 \nL 205.873125 98.443374 \nL 225.403125 100.213519 \n\" clip-path=\"url(#p4d34acb2de)\" style=\"fill: none; stroke-dasharray: 5.55,2.4; stroke-dashoffset: 0; stroke: #ff7f0e; stroke-width: 1.5\"/>\n   </g>\n   <g id=\"line2d_124\">\n    <path d=\"M 49.633125 24.368824 \nL 69.163125 17.109007 \nL 88.693125 19.854082 \nL 108.223125 15.757371 \nL 127.753125 16.161468 \nL 147.283125 19.477853 \nL 166.813125 14.712292 \nL 186.343125 14.921308 \nL 205.873125 14.600817 \n\" clip-path=\"url(#p4d34acb2de)\" style=\"fill: none; stroke-dasharray: 9.6,2.4,1.5,2.4; stroke-dashoffset: 0; stroke: #2ca02c; stroke-width: 1.5\"/>\n   </g>\n   <g id=\"line2d_125\">\n    <path d=\"M 34.954394 64.77247 \nL 44.698573 94.175135 \nL 54.442752 103.479652 \nL 64.186931 106.261926 \nL 73.93111 112.329201 \nL 83.675289 112.933134 \nL 93.419468 119.165645 \nL 103.163647 118.307871 \nL 112.907826 124.200016 \nL 122.652006 124.064765 \nL 132.396185 128.527524 \nL 142.140364 128.075575 \nL 151.884543 132.81243 \nL 161.628722 130.728723 \nL 171.372901 135.99129 \nL 181.11708 134.50296 \nL 190.861259 138.02004 \nL 200.605438 136.410374 \nL 210.349618 139.5 \nL 220.093797 139.136622 \n\" clip-path=\"url(#p4d34acb2de)\" style=\"fill: none; stroke: #1f77b4; stroke-width: 1.5; stroke-linecap: square\"/>\n   </g>\n   <g id=\"line2d_126\">\n    <path d=\"M 49.633125 84.657415 \nL 69.163125 101.764967 \nL 88.693125 93.750239 \nL 108.223125 105.280246 \nL 127.753125 100.370598 \nL 147.283125 87.637873 \nL 166.813125 100.92174 \nL 186.343125 101.497966 \nL 205.873125 98.443374 \nL 225.403125 100.213519 \n\" clip-path=\"url(#p4d34acb2de)\" style=\"fill: none; stroke-dasharray: 5.55,2.4; stroke-dashoffset: 0; stroke: #ff7f0e; stroke-width: 1.5\"/>\n   </g>\n   <g id=\"line2d_127\">\n    <path d=\"M 49.633125 24.368824 \nL 69.163125 17.109007 \nL 88.693125 19.854082 \nL 108.223125 15.757371 \nL 127.753125 16.161468 \nL 147.283125 19.477853 \nL 166.813125 14.712292 \nL 186.343125 14.921308 \nL 205.873125 14.600817 \nL 225.403125 13.5 \n\" clip-path=\"url(#p4d34acb2de)\" style=\"fill: none; stroke-dasharray: 9.6,2.4,1.5,2.4; stroke-dashoffset: 0; stroke: #2ca02c; stroke-width: 1.5\"/>\n   </g>\n   <g id=\"patch_3\">\n    <path d=\"M 30.103125 145.8 \nL 30.103125 7.2 \n\" style=\"fill: none; stroke: #000000; stroke-width: 0.8; stroke-linejoin: miter; stroke-linecap: square\"/>\n   </g>\n   <g id=\"patch_4\">\n    <path d=\"M 225.403125 145.8 \nL 225.403125 7.2 \n\" style=\"fill: none; stroke: #000000; stroke-width: 0.8; stroke-linejoin: miter; stroke-linecap: square\"/>\n   </g>\n   <g id=\"patch_5\">\n    <path d=\"M 30.103125 145.8 \nL 225.403125 145.8 \n\" style=\"fill: none; stroke: #000000; stroke-width: 0.8; stroke-linejoin: miter; stroke-linecap: square\"/>\n   </g>\n   <g id=\"patch_6\">\n    <path d=\"M 30.103125 7.2 \nL 225.403125 7.2 \n\" style=\"fill: none; stroke: #000000; stroke-width: 0.8; stroke-linejoin: miter; stroke-linecap: square\"/>\n   </g>\n   <g id=\"legend_1\">\n    <g id=\"patch_7\">\n     <path d=\"M 138.8125 100.434375 \nL 218.403125 100.434375 \nQ 220.403125 100.434375 220.403125 98.434375 \nL 220.403125 54.565625 \nQ 220.403125 52.565625 218.403125 52.565625 \nL 138.8125 52.565625 \nQ 136.8125 52.565625 136.8125 54.565625 \nL 136.8125 98.434375 \nQ 136.8125 100.434375 138.8125 100.434375 \nz\n\" style=\"fill: #ffffff; opacity: 0.8; stroke: #cccccc; stroke-linejoin: miter\"/>\n    </g>\n    <g id=\"line2d_128\">\n     <path d=\"M 140.8125 60.664063 \nL 150.8125 60.664063 \nL 160.8125 60.664063 \n\" style=\"fill: none; stroke: #1f77b4; stroke-width: 1.5; stroke-linecap: square\"/>\n    </g>\n    <g id=\"text_13\">\n     <!-- train_loss -->\n     <g transform=\"translate(168.8125 64.164063) scale(0.1 -0.1)\">\n      <defs>\n       <path id=\"DejaVuSans-74\" d=\"M 1172 4494 \nL 1172 3500 \nL 2356 3500 \nL 2356 3053 \nL 1172 3053 \nL 1172 1153 \nQ 1172 725 1289 603 \nQ 1406 481 1766 481 \nL 2356 481 \nL 2356 0 \nL 1766 0 \nQ 1100 0 847 248 \nQ 594 497 594 1153 \nL 594 3053 \nL 172 3053 \nL 172 3500 \nL 594 3500 \nL 594 4494 \nL 1172 4494 \nz\n\" transform=\"scale(0.015625)\"/>\n       <path id=\"DejaVuSans-72\" d=\"M 2631 2963 \nQ 2534 3019 2420 3045 \nQ 2306 3072 2169 3072 \nQ 1681 3072 1420 2755 \nQ 1159 2438 1159 1844 \nL 1159 0 \nL 581 0 \nL 581 3500 \nL 1159 3500 \nL 1159 2956 \nQ 1341 3275 1631 3429 \nQ 1922 3584 2338 3584 \nQ 2397 3584 2469 3576 \nQ 2541 3569 2628 3553 \nL 2631 2963 \nz\n\" transform=\"scale(0.015625)\"/>\n       <path id=\"DejaVuSans-61\" d=\"M 2194 1759 \nQ 1497 1759 1228 1600 \nQ 959 1441 959 1056 \nQ 959 750 1161 570 \nQ 1363 391 1709 391 \nQ 2188 391 2477 730 \nQ 2766 1069 2766 1631 \nL 2766 1759 \nL 2194 1759 \nz\nM 3341 1997 \nL 3341 0 \nL 2766 0 \nL 2766 531 \nQ 2569 213 2275 61 \nQ 1981 -91 1556 -91 \nQ 1019 -91 701 211 \nQ 384 513 384 1019 \nQ 384 1609 779 1909 \nQ 1175 2209 1959 2209 \nL 2766 2209 \nL 2766 2266 \nQ 2766 2663 2505 2880 \nQ 2244 3097 1772 3097 \nQ 1472 3097 1187 3025 \nQ 903 2953 641 2809 \nL 641 3341 \nQ 956 3463 1253 3523 \nQ 1550 3584 1831 3584 \nQ 2591 3584 2966 3190 \nQ 3341 2797 3341 1997 \nz\n\" transform=\"scale(0.015625)\"/>\n       <path id=\"DejaVuSans-69\" d=\"M 603 3500 \nL 1178 3500 \nL 1178 0 \nL 603 0 \nL 603 3500 \nz\nM 603 4863 \nL 1178 4863 \nL 1178 4134 \nL 603 4134 \nL 603 4863 \nz\n\" transform=\"scale(0.015625)\"/>\n       <path id=\"DejaVuSans-6e\" d=\"M 3513 2113 \nL 3513 0 \nL 2938 0 \nL 2938 2094 \nQ 2938 2591 2744 2837 \nQ 2550 3084 2163 3084 \nQ 1697 3084 1428 2787 \nQ 1159 2491 1159 1978 \nL 1159 0 \nL 581 0 \nL 581 3500 \nL 1159 3500 \nL 1159 2956 \nQ 1366 3272 1645 3428 \nQ 1925 3584 2291 3584 \nQ 2894 3584 3203 3211 \nQ 3513 2838 3513 2113 \nz\n\" transform=\"scale(0.015625)\"/>\n       <path id=\"DejaVuSans-5f\" d=\"M 3263 -1063 \nL 3263 -1509 \nL -63 -1509 \nL -63 -1063 \nL 3263 -1063 \nz\n\" transform=\"scale(0.015625)\"/>\n       <path id=\"DejaVuSans-6c\" d=\"M 603 4863 \nL 1178 4863 \nL 1178 0 \nL 603 0 \nL 603 4863 \nz\n\" transform=\"scale(0.015625)\"/>\n       <path id=\"DejaVuSans-73\" d=\"M 2834 3397 \nL 2834 2853 \nQ 2591 2978 2328 3040 \nQ 2066 3103 1784 3103 \nQ 1356 3103 1142 2972 \nQ 928 2841 928 2578 \nQ 928 2378 1081 2264 \nQ 1234 2150 1697 2047 \nL 1894 2003 \nQ 2506 1872 2764 1633 \nQ 3022 1394 3022 966 \nQ 3022 478 2636 193 \nQ 2250 -91 1575 -91 \nQ 1294 -91 989 -36 \nQ 684 19 347 128 \nL 347 722 \nQ 666 556 975 473 \nQ 1284 391 1588 391 \nQ 1994 391 2212 530 \nQ 2431 669 2431 922 \nQ 2431 1156 2273 1281 \nQ 2116 1406 1581 1522 \nL 1381 1569 \nQ 847 1681 609 1914 \nQ 372 2147 372 2553 \nQ 372 3047 722 3315 \nQ 1072 3584 1716 3584 \nQ 2034 3584 2315 3537 \nQ 2597 3491 2834 3397 \nz\n\" transform=\"scale(0.015625)\"/>\n      </defs>\n      <use xlink:href=\"#DejaVuSans-74\"/>\n      <use xlink:href=\"#DejaVuSans-72\" x=\"39.208984\"/>\n      <use xlink:href=\"#DejaVuSans-61\" x=\"80.322266\"/>\n      <use xlink:href=\"#DejaVuSans-69\" x=\"141.601562\"/>\n      <use xlink:href=\"#DejaVuSans-6e\" x=\"169.384766\"/>\n      <use xlink:href=\"#DejaVuSans-5f\" x=\"232.763672\"/>\n      <use xlink:href=\"#DejaVuSans-6c\" x=\"282.763672\"/>\n      <use xlink:href=\"#DejaVuSans-6f\" x=\"310.546875\"/>\n      <use xlink:href=\"#DejaVuSans-73\" x=\"371.728516\"/>\n      <use xlink:href=\"#DejaVuSans-73\" x=\"423.828125\"/>\n     </g>\n    </g>\n    <g id=\"line2d_129\">\n     <path d=\"M 140.8125 75.620313 \nL 150.8125 75.620313 \nL 160.8125 75.620313 \n\" style=\"fill: none; stroke-dasharray: 5.55,2.4; stroke-dashoffset: 0; stroke: #ff7f0e; stroke-width: 1.5\"/>\n    </g>\n    <g id=\"text_14\">\n     <!-- val_loss -->\n     <g transform=\"translate(168.8125 79.120313) scale(0.1 -0.1)\">\n      <defs>\n       <path id=\"DejaVuSans-76\" d=\"M 191 3500 \nL 800 3500 \nL 1894 563 \nL 2988 3500 \nL 3597 3500 \nL 2284 0 \nL 1503 0 \nL 191 3500 \nz\n\" transform=\"scale(0.015625)\"/>\n      </defs>\n      <use xlink:href=\"#DejaVuSans-76\"/>\n      <use xlink:href=\"#DejaVuSans-61\" x=\"59.179688\"/>\n      <use xlink:href=\"#DejaVuSans-6c\" x=\"120.458984\"/>\n      <use xlink:href=\"#DejaVuSans-5f\" x=\"148.242188\"/>\n      <use xlink:href=\"#DejaVuSans-6c\" x=\"198.242188\"/>\n      <use xlink:href=\"#DejaVuSans-6f\" x=\"226.025391\"/>\n      <use xlink:href=\"#DejaVuSans-73\" x=\"287.207031\"/>\n      <use xlink:href=\"#DejaVuSans-73\" x=\"339.306641\"/>\n     </g>\n    </g>\n    <g id=\"line2d_130\">\n     <path d=\"M 140.8125 90.576563 \nL 150.8125 90.576563 \nL 160.8125 90.576563 \n\" style=\"fill: none; stroke-dasharray: 9.6,2.4,1.5,2.4; stroke-dashoffset: 0; stroke: #2ca02c; stroke-width: 1.5\"/>\n    </g>\n    <g id=\"text_15\">\n     <!-- val_acc -->\n     <g transform=\"translate(168.8125 94.076563) scale(0.1 -0.1)\">\n      <use xlink:href=\"#DejaVuSans-76\"/>\n      <use xlink:href=\"#DejaVuSans-61\" x=\"59.179688\"/>\n      <use xlink:href=\"#DejaVuSans-6c\" x=\"120.458984\"/>\n      <use xlink:href=\"#DejaVuSans-5f\" x=\"148.242188\"/>\n      <use xlink:href=\"#DejaVuSans-61\" x=\"198.242188\"/>\n      <use xlink:href=\"#DejaVuSans-63\" x=\"259.521484\"/>\n      <use xlink:href=\"#DejaVuSans-63\" x=\"314.501953\"/>\n     </g>\n    </g>\n   </g>\n  </g>\n </g>\n <defs>\n  <clipPath id=\"p4d34acb2de\">\n   <rect x=\"30.103125\" y=\"7.2\" width=\"195.3\" height=\"138.6\"/>\n  </clipPath>\n </defs>\n</svg>\n"
          },
          "metadata": {}
        }
      ]
    },
    {
      "cell_type": "markdown",
      "source": [
        "# Discussion & Exercises"
      ],
      "metadata": {
        "id": "Ry2Isn1taocq"
      }
    },
    {
      "cell_type": "markdown",
      "source": [
        "### 7.1.6.2. Exercises\n",
        "Audio data is often represented as a one-dimensional sequence. When might you want to impose locality and translation invariance for audio?\n",
        "\n",
        "- Locality refers to focusing on small, local segments of the audio. We can use local features like phonemes, notes, or chords in music. We can use tone and pitch of specific speaker in dialogue. Translation invariance refers to recognizing patterns regardless of their position within the overall time sequence. Often times we have to recognize these local features regardless of their position, so translation invariance occurs.\n",
        "\n",
        "Derive the convolution operations for audio. Can you treat audio using the same tools as computer vision? Hint: use the spectrogram.\n",
        "- Raw audio data can be represented as a 1D signal. We can convert a raw audio waveform into a spectrogram, which is a 2D time-frequency representation. This transformation allows us to leverage 2D convolutional neural networks.\n",
        "\n",
        "Do you think that convolutional layers might also be applicable for text data? Which problems might you encounter with language?\n",
        "- The convolutional layers may fail to capture the sequential structure text data have. And text data often have variable length, which makes it difficult to be handled by convolutional layer. But there are many clever structures in NLP that leverages computer vision tools like CNN overcoming these challenges.\n",
        "\n"
      ],
      "metadata": {
        "id": "vf-PVtevblRB"
      }
    },
    {
      "cell_type": "markdown",
      "source": [
        "### 7.2.7. Memo\n",
        "In terms of convolutions themselves, they can be used for many purposes, for example detecting edges and lines, blurring images, or sharpening them. Most importantly, it is not necessary that the statistician (or engineer) invents suitable filters. Instead, we can simply learn them from data. This replaces feature engineering heuristics by evidence-based statistics. Lastly, and quite delightfully, these filters are not just advantageous for building deep networks but they also correspond to receptive fields and feature maps in the brain. This gives us confidence that we are on the right track.\n",
        "\n",
        "### 7.2 Discussion\n",
        "\n",
        "What heuristic fillters were developed so far?\n",
        "- Box Filter: A box filter replaces each pixel value in the image with the average value of its neighboring pixels to blur the image.\n",
        "\n",
        "- Sobel Filter: The Sobel filter applies a convolution to approximate the gradient of the image intensity function to detect the edge.\n",
        "\n",
        "- FAST (Features from Accelerated Segment Test): FAST detects corners in an image by comparing the brightness of a pixel to its surrounding circle of pixels.\n",
        "\n",
        "- ..."
      ],
      "metadata": {
        "id": "9GmUcvbjcAs6"
      }
    },
    {
      "cell_type": "markdown",
      "source": [
        "### 7.3.3.4 - 7.3.3.6 Exercises\n",
        "\n",
        "What are the computational benefits of a stride larger than 1?\n",
        "- Wider stride reduces the size of the output feature map, making the computation much faster and less memory-intensive.\n",
        "\n",
        "What might be statistical benefits of a stride larger than 1?\n",
        "- Since adjacent pixels share almost the same properties, correlation can be reduced by downsampling with wider stride. We can focus more on distinct features.\n",
        "\n",
        "How would you implement a stride of 0.5? What does it correspond to? When would this be useful?\n",
        "- This is like a supersampling. We have to enlarge the image and interpolate the gaps."
      ],
      "metadata": {
        "id": "uvNFUj5jkRyG"
      }
    },
    {
      "cell_type": "markdown",
      "source": [
        "### 7.3. Discussion\n",
        "Is there a fast way to calculate convolution in CNN?\n",
        "\n",
        "- Since convolution can be performed as a matrix multiplication, we can increase the computational efficiency by using various methods used to perform matrix operations efficiently.\n",
        "\n",
        "- Efficient matrix multiplication algorithm, Hardware Accelerations, ...\n",
        "\n",
        "- I'm not sure we can leverage FFT in 2D convolution. It may cause an overhead since kernel size is usually not that large.\n"
      ],
      "metadata": {
        "id": "GXuMzZo1dQph"
      }
    },
    {
      "cell_type": "markdown",
      "source": [
        "### 7.4.5.2. Exercises\n",
        "Assume an input of shape $ c_{i} \\times h \\times w $ and a convolution kernel of shape $ c_{o} \\times c_{i} \\times k_{h} \\times k_{w} $, padding of $(p_{h}, p_{w})$, and stride of $s_{h}, s_{w}$. What is the computational cost (multiplications and additions) for the forward propagation?\n",
        "\n",
        "- For each output element, the number of multiplications is $ c_{i} \\times k_{h} \\times k_{w} $.\n",
        "\n",
        "- We have $ H_{o} \\times W_{o} $ elements for one output feature, where\n",
        "$ H_{o} = \\cfrac {h - k_{h} + 2 \\cdot p_{h} + s_{h}} {s_{h}} $, $ W_{o} = \\cfrac {w - k_{w} + 2 \\cdot p_{w} + s_{w}} {s_{w}} $.\n",
        "\n",
        "- We have $c_{o}$ outputs total.\n",
        "\n",
        "- Therefore, the number of multiplication is $ c_{o} \\times H_{o} \\times W_{o} \\times c_{i} \\times k_{h} \\times k_{w} $ .\n",
        "\n",
        "- Likewise, the number of addition is $ c_{o} \\times H_{o} \\times W_{o} \\times (c_{i} \\times k_{h} \\times k_{w} - 1) $ . There are $ (c_{i} \\times k_{h} \\times k_{w}) $ values to sum for $ c_{o} \\times H_{o} \\times W_{o} $ times.\n"
      ],
      "metadata": {
        "id": "ux42HowdZ1iQ"
      }
    },
    {
      "cell_type": "markdown",
      "source": [
        "### 7.5 Discussion\n",
        "Are there any other pooling functions which is not introduced in the chapter?\n",
        "\n",
        "- Lp Pooling - Lp pooling is a generalization of both max and average pooling, with a parameter $p$.\n",
        "\n",
        "- Stochastic Pooling - Stochastic pooling introduces randomness into the pooling process by sampling values from the pooling window based on their magnitude. Larger values have a higher probability of being selected. But it increases computational complexity and makes inconsistent behavior in inference.\n"
      ],
      "metadata": {
        "id": "BA9XOvCveIBQ"
      }
    },
    {
      "cell_type": "markdown",
      "source": [
        "### 8.2. Memo\n",
        "\n",
        "- The key idea of Simonyan and Zisserman (2014) was to use multiple convolutions in between downsampling via max-pooling in the form of a block. They were primarily interested in whether deep or wide networks perform better. For instance, the successive application of two\n",
        " convolutions touches the same pixels as a single\n",
        " convolution does. At the same time, the latter uses approximately as many parameters as three convolutions do. In a rather detailed analysis they showed that deep and narrow networks significantly outperform their shallow counterparts. This set deep learning on a quest for ever deeper networks with over 100 layers for typical applications. Stacking\n",
        " convolutions has become a gold standard in later deep networks (a design decision only to be revisited recently by Liu et al. (2022)). Consequently, fast implementations for small convolutions have become a staple on GPUs (Lavin and Gray, 2016)."
      ],
      "metadata": {
        "id": "rMvRXgxK41hS"
      }
    },
    {
      "cell_type": "markdown",
      "source": [
        "### 8.2. Exercises\n",
        "\n",
        "How many parameters does the **VGG-11** has?\n",
        "\n",
        "Arch = ((1, 64), (1, 128), (2, 256), (2, 512), (2, 512))\n",
        "\n",
        "- The number of parameters for a convolutional layer is given by:\n",
        "$$ (\\text{input channels} \\times \\text{filter height} \\times \\text{filter width} + \\text{bias}) \\times \\text{output channels} $$\n",
        "\n",
        "1. convolution layer with 064 channel:\n",
        "$ (3 \\times 3 \\times 3 + 1) \\times 64 $\n",
        "\n",
        "2. convolution layer with 128 channel:\n",
        "$ (64 \\times 3 \\times 3 + 1) \\times 128 $\n",
        "\n",
        "3. convolution layer with 256 channel:\n",
        "$ (128 \\times 3 \\times 3 + 1) \\times 256 $\n",
        "\n",
        "4. convolution layer with 256 channel:\n",
        "$ (256 \\times 3 \\times 3 + 1) \\times 256 $\n",
        "\n",
        "5. convolution layer with 512 channel:\n",
        "$ (256 \\times 3 \\times 3 + 1) \\times 512 $\n",
        "\n",
        "6. convolution layer with 512 channel:\n",
        "$ (512 \\times 3 \\times 3 + 1) \\times 512 $\n",
        "\n",
        "7. convolution layer with 512 channel:\n",
        "$ (512 \\times 3 \\times 3 + 1) \\times 512 $\n",
        "\n",
        "8. convolution layer with 512 channel:\n",
        "$ (512 \\times 3 \\times 3 + 1) \\times 512 $\n",
        "\n",
        "- The number of parameters for a fully connected layer is given by:\n",
        "$ (\\text{input neurons} + \\text{bias}) \\times \\text{output neurons} $\n",
        "\n",
        "1. FC layer 1:\n",
        "$ (25088 + 1) \\times 4096 $\n",
        "\n",
        "2. FC layer 2:\n",
        "$ (4096 + 1) \\times 4096 $\n",
        "\n",
        "3. FC layer 3:\n",
        "$ (4096 + 1) \\times 10 $\n",
        "\n",
        "Sum of the parameters in each layer gives the number of total parameters."
      ],
      "metadata": {
        "id": "dKJ1eGhC-Rjk"
      }
    },
    {
      "cell_type": "markdown",
      "source": [
        "### 8.6. Memo\n",
        "\n",
        "- The residual mapping can learn the identity function more easily, such as pushing parameters in the weight layer to zero. We can train an effective deep neural network by having residual blocks. Inputs can forward propagate faster through the residual connections across layers. As a consequence, we can thus train much deeper networks.\n",
        "\n",
        "- the Transformer architecture (Vaswani et al., 2017) adopts residual connections (together with other design choices) and is pervasive in areas as diverse as language, vision, speech, and reinforcement learning."
      ],
      "metadata": {
        "id": "fkymC1cJgqH_"
      }
    },
    {
      "cell_type": "markdown",
      "source": [
        "### 8.6. Discussion\n",
        "\n",
        "How the ResNet influenced to other deep learning models?\n",
        "\n",
        "- ResNet revolutionized the design of deep neural networks by addressing the challenges of training very deep networks known as **vanishing gradient problem**. Residual connection enabled the creation of extremely deep networks and it has become standard. It has also had a huge impact on other areas beyond computer vision.\n"
      ],
      "metadata": {
        "id": "b0QJ17Ai0xk4"
      }
    },
    {
      "cell_type": "markdown",
      "source": [
        "### 8.6.7.1 Exercises\n",
        "\n",
        "What are the major differences between the Inception block and the residual block? How do they compare in terms of computation, accuracy, and the classes of functions they can describe?\n",
        "\n",
        "- **The Inception block** is designed to capture multi-scale features efficiently by applying multiple convolutions of different kernel sizes. These different kernels allow the network to capture both fine details and larger context.\n",
        "\n",
        "- **The Residual block** addresses the vanishing gradient problem in very deep networks with skip connection. It simplifies the training of very deep networks by making it easier to propagate information and gradients across many layers.\n",
        "\n",
        "- ResNet later outperformed GoogLeNet in very deep configurations."
      ],
      "metadata": {
        "id": "DrReQ_cryenU"
      }
    }
  ]
}